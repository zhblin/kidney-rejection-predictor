{
 "cells": [
  {
   "cell_type": "markdown",
   "id": "44bc2dc7",
   "metadata": {},
   "source": [
    "48581 Dataset hubgene prediction & model selection"
   ]
  },
  {
   "cell_type": "code",
   "execution_count": 17,
   "id": "65e12a92",
   "metadata": {},
   "outputs": [],
   "source": [
    "import pandas as pd\n",
    "\n",
    "# 读取表达矩阵（行为样本，列为基因 + 标签）\n",
    "expression_df = pd.read_csv(\"gse48581.csv\", index_col=0)"
   ]
  },
  {
   "cell_type": "code",
   "execution_count": 2,
   "id": "7362ef65",
   "metadata": {},
   "outputs": [
    {
     "data": {
      "text/html": [
       "<div>\n",
       "<style scoped>\n",
       "    .dataframe tbody tr th:only-of-type {\n",
       "        vertical-align: middle;\n",
       "    }\n",
       "\n",
       "    .dataframe tbody tr th {\n",
       "        vertical-align: top;\n",
       "    }\n",
       "\n",
       "    .dataframe thead th {\n",
       "        text-align: right;\n",
       "    }\n",
       "</style>\n",
       "<table border=\"1\" class=\"dataframe\">\n",
       "  <thead>\n",
       "    <tr style=\"text-align: right;\">\n",
       "      <th></th>\n",
       "      <th>DDR1 /// MIR4640</th>\n",
       "      <th>RFC2</th>\n",
       "      <th>HSPA6</th>\n",
       "      <th>PAX8</th>\n",
       "      <th>GUCA1A</th>\n",
       "      <th>MIR5193 /// UBA7</th>\n",
       "      <th>THRA</th>\n",
       "      <th>PTPN21</th>\n",
       "      <th>CCL5</th>\n",
       "      <th>CYP2E1</th>\n",
       "      <th>...</th>\n",
       "      <th>AFFX-r2-Ec-bioB-3_at</th>\n",
       "      <th>AFFX-r2-Ec-bioB-5_at</th>\n",
       "      <th>AFFX-r2-Ec-bioB-M_at</th>\n",
       "      <th>AFFX-r2-Ec-bioC-3_at</th>\n",
       "      <th>AFFX-r2-Ec-bioC-5_at</th>\n",
       "      <th>AFFX-r2-Ec-bioD-3_at</th>\n",
       "      <th>AFFX-r2-Ec-bioD-5_at</th>\n",
       "      <th>AFFX-r2-P1-cre-3_at</th>\n",
       "      <th>AFFX-r2-P1-cre-5_at</th>\n",
       "      <th>Diagnosis</th>\n",
       "    </tr>\n",
       "  </thead>\n",
       "  <tbody>\n",
       "    <tr>\n",
       "      <th>GSM1181496</th>\n",
       "      <td>11.470281</td>\n",
       "      <td>7.907461</td>\n",
       "      <td>6.965705</td>\n",
       "      <td>11.435293</td>\n",
       "      <td>3.757472</td>\n",
       "      <td>8.628549</td>\n",
       "      <td>7.692872</td>\n",
       "      <td>5.538287</td>\n",
       "      <td>9.831144</td>\n",
       "      <td>8.203077</td>\n",
       "      <td>...</td>\n",
       "      <td>9.897595</td>\n",
       "      <td>9.143688</td>\n",
       "      <td>9.779019</td>\n",
       "      <td>11.039537</td>\n",
       "      <td>10.455694</td>\n",
       "      <td>13.208906</td>\n",
       "      <td>12.411459</td>\n",
       "      <td>14.533467</td>\n",
       "      <td>14.236086</td>\n",
       "      <td>non-TCMR</td>\n",
       "    </tr>\n",
       "    <tr>\n",
       "      <th>GSM1181497</th>\n",
       "      <td>11.229925</td>\n",
       "      <td>8.043809</td>\n",
       "      <td>7.055036</td>\n",
       "      <td>11.149914</td>\n",
       "      <td>3.315159</td>\n",
       "      <td>8.244606</td>\n",
       "      <td>7.290996</td>\n",
       "      <td>5.378012</td>\n",
       "      <td>8.247645</td>\n",
       "      <td>5.093607</td>\n",
       "      <td>...</td>\n",
       "      <td>9.827651</td>\n",
       "      <td>8.991790</td>\n",
       "      <td>9.800053</td>\n",
       "      <td>10.930397</td>\n",
       "      <td>10.420508</td>\n",
       "      <td>13.133785</td>\n",
       "      <td>12.540637</td>\n",
       "      <td>14.516156</td>\n",
       "      <td>14.274544</td>\n",
       "      <td>non-TCMR</td>\n",
       "    </tr>\n",
       "    <tr>\n",
       "      <th>GSM1181498</th>\n",
       "      <td>11.088060</td>\n",
       "      <td>7.656739</td>\n",
       "      <td>6.449851</td>\n",
       "      <td>11.075646</td>\n",
       "      <td>3.635014</td>\n",
       "      <td>8.249415</td>\n",
       "      <td>7.546280</td>\n",
       "      <td>5.586520</td>\n",
       "      <td>7.030063</td>\n",
       "      <td>5.043867</td>\n",
       "      <td>...</td>\n",
       "      <td>9.548678</td>\n",
       "      <td>8.828183</td>\n",
       "      <td>9.411263</td>\n",
       "      <td>10.779396</td>\n",
       "      <td>10.312240</td>\n",
       "      <td>13.003317</td>\n",
       "      <td>12.298737</td>\n",
       "      <td>14.371308</td>\n",
       "      <td>14.141068</td>\n",
       "      <td>non-TCMR</td>\n",
       "    </tr>\n",
       "    <tr>\n",
       "      <th>GSM1181499</th>\n",
       "      <td>11.424030</td>\n",
       "      <td>7.719578</td>\n",
       "      <td>6.307674</td>\n",
       "      <td>11.124469</td>\n",
       "      <td>3.687385</td>\n",
       "      <td>8.208735</td>\n",
       "      <td>7.795157</td>\n",
       "      <td>5.519622</td>\n",
       "      <td>6.375276</td>\n",
       "      <td>6.522005</td>\n",
       "      <td>...</td>\n",
       "      <td>9.778859</td>\n",
       "      <td>9.094259</td>\n",
       "      <td>9.549352</td>\n",
       "      <td>10.762561</td>\n",
       "      <td>10.288421</td>\n",
       "      <td>13.095126</td>\n",
       "      <td>12.259252</td>\n",
       "      <td>14.418170</td>\n",
       "      <td>14.192961</td>\n",
       "      <td>non-TCMR</td>\n",
       "    </tr>\n",
       "    <tr>\n",
       "      <th>GSM1181500</th>\n",
       "      <td>10.636565</td>\n",
       "      <td>7.714332</td>\n",
       "      <td>6.665597</td>\n",
       "      <td>10.814759</td>\n",
       "      <td>3.843610</td>\n",
       "      <td>8.061417</td>\n",
       "      <td>7.644351</td>\n",
       "      <td>5.587440</td>\n",
       "      <td>7.212195</td>\n",
       "      <td>5.131696</td>\n",
       "      <td>...</td>\n",
       "      <td>10.070893</td>\n",
       "      <td>9.061685</td>\n",
       "      <td>9.790334</td>\n",
       "      <td>11.017493</td>\n",
       "      <td>10.499448</td>\n",
       "      <td>13.185713</td>\n",
       "      <td>12.547003</td>\n",
       "      <td>14.486119</td>\n",
       "      <td>14.258236</td>\n",
       "      <td>non-TCMR</td>\n",
       "    </tr>\n",
       "    <tr>\n",
       "      <th>...</th>\n",
       "      <td>...</td>\n",
       "      <td>...</td>\n",
       "      <td>...</td>\n",
       "      <td>...</td>\n",
       "      <td>...</td>\n",
       "      <td>...</td>\n",
       "      <td>...</td>\n",
       "      <td>...</td>\n",
       "      <td>...</td>\n",
       "      <td>...</td>\n",
       "      <td>...</td>\n",
       "      <td>...</td>\n",
       "      <td>...</td>\n",
       "      <td>...</td>\n",
       "      <td>...</td>\n",
       "      <td>...</td>\n",
       "      <td>...</td>\n",
       "      <td>...</td>\n",
       "      <td>...</td>\n",
       "      <td>...</td>\n",
       "      <td>...</td>\n",
       "    </tr>\n",
       "    <tr>\n",
       "      <th>GSM1181812</th>\n",
       "      <td>10.454048</td>\n",
       "      <td>7.706253</td>\n",
       "      <td>6.524251</td>\n",
       "      <td>10.607357</td>\n",
       "      <td>3.605969</td>\n",
       "      <td>8.460911</td>\n",
       "      <td>7.513208</td>\n",
       "      <td>5.416094</td>\n",
       "      <td>11.424121</td>\n",
       "      <td>5.430866</td>\n",
       "      <td>...</td>\n",
       "      <td>7.995517</td>\n",
       "      <td>7.071609</td>\n",
       "      <td>7.489722</td>\n",
       "      <td>10.506278</td>\n",
       "      <td>9.999209</td>\n",
       "      <td>13.236914</td>\n",
       "      <td>12.404531</td>\n",
       "      <td>14.599733</td>\n",
       "      <td>14.394514</td>\n",
       "      <td>TCMR</td>\n",
       "    </tr>\n",
       "    <tr>\n",
       "      <th>GSM1181813</th>\n",
       "      <td>11.388653</td>\n",
       "      <td>7.807778</td>\n",
       "      <td>6.614894</td>\n",
       "      <td>11.171034</td>\n",
       "      <td>3.629013</td>\n",
       "      <td>7.898539</td>\n",
       "      <td>7.579380</td>\n",
       "      <td>5.531614</td>\n",
       "      <td>7.279399</td>\n",
       "      <td>5.259826</td>\n",
       "      <td>...</td>\n",
       "      <td>6.964866</td>\n",
       "      <td>5.988232</td>\n",
       "      <td>6.426082</td>\n",
       "      <td>10.763412</td>\n",
       "      <td>10.261191</td>\n",
       "      <td>13.127948</td>\n",
       "      <td>12.523954</td>\n",
       "      <td>14.551507</td>\n",
       "      <td>14.329776</td>\n",
       "      <td>non-TCMR</td>\n",
       "    </tr>\n",
       "    <tr>\n",
       "      <th>GSM1181814</th>\n",
       "      <td>11.519708</td>\n",
       "      <td>7.760067</td>\n",
       "      <td>6.603103</td>\n",
       "      <td>11.364226</td>\n",
       "      <td>3.813848</td>\n",
       "      <td>7.736864</td>\n",
       "      <td>7.594289</td>\n",
       "      <td>5.319085</td>\n",
       "      <td>6.958215</td>\n",
       "      <td>7.631223</td>\n",
       "      <td>...</td>\n",
       "      <td>9.762725</td>\n",
       "      <td>9.191578</td>\n",
       "      <td>9.420527</td>\n",
       "      <td>10.908478</td>\n",
       "      <td>10.432469</td>\n",
       "      <td>13.025978</td>\n",
       "      <td>12.159401</td>\n",
       "      <td>14.488154</td>\n",
       "      <td>14.230359</td>\n",
       "      <td>non-TCMR</td>\n",
       "    </tr>\n",
       "    <tr>\n",
       "      <th>GSM1181815</th>\n",
       "      <td>11.199254</td>\n",
       "      <td>7.673119</td>\n",
       "      <td>6.739547</td>\n",
       "      <td>11.152608</td>\n",
       "      <td>3.723227</td>\n",
       "      <td>8.171448</td>\n",
       "      <td>7.197212</td>\n",
       "      <td>5.525404</td>\n",
       "      <td>8.098440</td>\n",
       "      <td>6.139191</td>\n",
       "      <td>...</td>\n",
       "      <td>9.689791</td>\n",
       "      <td>8.839342</td>\n",
       "      <td>9.492090</td>\n",
       "      <td>10.688527</td>\n",
       "      <td>10.284390</td>\n",
       "      <td>13.022372</td>\n",
       "      <td>12.415825</td>\n",
       "      <td>14.379308</td>\n",
       "      <td>14.081824</td>\n",
       "      <td>non-TCMR</td>\n",
       "    </tr>\n",
       "    <tr>\n",
       "      <th>GSM1181816</th>\n",
       "      <td>11.244164</td>\n",
       "      <td>8.611928</td>\n",
       "      <td>7.842534</td>\n",
       "      <td>11.027038</td>\n",
       "      <td>3.620164</td>\n",
       "      <td>9.096655</td>\n",
       "      <td>7.356839</td>\n",
       "      <td>5.292341</td>\n",
       "      <td>11.133749</td>\n",
       "      <td>5.000294</td>\n",
       "      <td>...</td>\n",
       "      <td>10.098243</td>\n",
       "      <td>9.387589</td>\n",
       "      <td>10.204382</td>\n",
       "      <td>11.153600</td>\n",
       "      <td>10.666002</td>\n",
       "      <td>13.294565</td>\n",
       "      <td>12.576407</td>\n",
       "      <td>14.644678</td>\n",
       "      <td>14.307711</td>\n",
       "      <td>TCMR</td>\n",
       "    </tr>\n",
       "  </tbody>\n",
       "</table>\n",
       "<p>306 rows × 54676 columns</p>\n",
       "</div>"
      ],
      "text/plain": [
       "            DDR1 /// MIR4640      RFC2     HSPA6       PAX8    GUCA1A  \\\n",
       "GSM1181496         11.470281  7.907461  6.965705  11.435293  3.757472   \n",
       "GSM1181497         11.229925  8.043809  7.055036  11.149914  3.315159   \n",
       "GSM1181498         11.088060  7.656739  6.449851  11.075646  3.635014   \n",
       "GSM1181499         11.424030  7.719578  6.307674  11.124469  3.687385   \n",
       "GSM1181500         10.636565  7.714332  6.665597  10.814759  3.843610   \n",
       "...                      ...       ...       ...        ...       ...   \n",
       "GSM1181812         10.454048  7.706253  6.524251  10.607357  3.605969   \n",
       "GSM1181813         11.388653  7.807778  6.614894  11.171034  3.629013   \n",
       "GSM1181814         11.519708  7.760067  6.603103  11.364226  3.813848   \n",
       "GSM1181815         11.199254  7.673119  6.739547  11.152608  3.723227   \n",
       "GSM1181816         11.244164  8.611928  7.842534  11.027038  3.620164   \n",
       "\n",
       "            MIR5193 /// UBA7      THRA    PTPN21       CCL5    CYP2E1  ...  \\\n",
       "GSM1181496          8.628549  7.692872  5.538287   9.831144  8.203077  ...   \n",
       "GSM1181497          8.244606  7.290996  5.378012   8.247645  5.093607  ...   \n",
       "GSM1181498          8.249415  7.546280  5.586520   7.030063  5.043867  ...   \n",
       "GSM1181499          8.208735  7.795157  5.519622   6.375276  6.522005  ...   \n",
       "GSM1181500          8.061417  7.644351  5.587440   7.212195  5.131696  ...   \n",
       "...                      ...       ...       ...        ...       ...  ...   \n",
       "GSM1181812          8.460911  7.513208  5.416094  11.424121  5.430866  ...   \n",
       "GSM1181813          7.898539  7.579380  5.531614   7.279399  5.259826  ...   \n",
       "GSM1181814          7.736864  7.594289  5.319085   6.958215  7.631223  ...   \n",
       "GSM1181815          8.171448  7.197212  5.525404   8.098440  6.139191  ...   \n",
       "GSM1181816          9.096655  7.356839  5.292341  11.133749  5.000294  ...   \n",
       "\n",
       "            AFFX-r2-Ec-bioB-3_at  AFFX-r2-Ec-bioB-5_at  AFFX-r2-Ec-bioB-M_at  \\\n",
       "GSM1181496              9.897595              9.143688              9.779019   \n",
       "GSM1181497              9.827651              8.991790              9.800053   \n",
       "GSM1181498              9.548678              8.828183              9.411263   \n",
       "GSM1181499              9.778859              9.094259              9.549352   \n",
       "GSM1181500             10.070893              9.061685              9.790334   \n",
       "...                          ...                   ...                   ...   \n",
       "GSM1181812              7.995517              7.071609              7.489722   \n",
       "GSM1181813              6.964866              5.988232              6.426082   \n",
       "GSM1181814              9.762725              9.191578              9.420527   \n",
       "GSM1181815              9.689791              8.839342              9.492090   \n",
       "GSM1181816             10.098243              9.387589             10.204382   \n",
       "\n",
       "            AFFX-r2-Ec-bioC-3_at  AFFX-r2-Ec-bioC-5_at  AFFX-r2-Ec-bioD-3_at  \\\n",
       "GSM1181496             11.039537             10.455694             13.208906   \n",
       "GSM1181497             10.930397             10.420508             13.133785   \n",
       "GSM1181498             10.779396             10.312240             13.003317   \n",
       "GSM1181499             10.762561             10.288421             13.095126   \n",
       "GSM1181500             11.017493             10.499448             13.185713   \n",
       "...                          ...                   ...                   ...   \n",
       "GSM1181812             10.506278              9.999209             13.236914   \n",
       "GSM1181813             10.763412             10.261191             13.127948   \n",
       "GSM1181814             10.908478             10.432469             13.025978   \n",
       "GSM1181815             10.688527             10.284390             13.022372   \n",
       "GSM1181816             11.153600             10.666002             13.294565   \n",
       "\n",
       "            AFFX-r2-Ec-bioD-5_at  AFFX-r2-P1-cre-3_at  AFFX-r2-P1-cre-5_at  \\\n",
       "GSM1181496             12.411459            14.533467            14.236086   \n",
       "GSM1181497             12.540637            14.516156            14.274544   \n",
       "GSM1181498             12.298737            14.371308            14.141068   \n",
       "GSM1181499             12.259252            14.418170            14.192961   \n",
       "GSM1181500             12.547003            14.486119            14.258236   \n",
       "...                          ...                  ...                  ...   \n",
       "GSM1181812             12.404531            14.599733            14.394514   \n",
       "GSM1181813             12.523954            14.551507            14.329776   \n",
       "GSM1181814             12.159401            14.488154            14.230359   \n",
       "GSM1181815             12.415825            14.379308            14.081824   \n",
       "GSM1181816             12.576407            14.644678            14.307711   \n",
       "\n",
       "            Diagnosis  \n",
       "GSM1181496   non-TCMR  \n",
       "GSM1181497   non-TCMR  \n",
       "GSM1181498   non-TCMR  \n",
       "GSM1181499   non-TCMR  \n",
       "GSM1181500   non-TCMR  \n",
       "...               ...  \n",
       "GSM1181812       TCMR  \n",
       "GSM1181813   non-TCMR  \n",
       "GSM1181814   non-TCMR  \n",
       "GSM1181815   non-TCMR  \n",
       "GSM1181816       TCMR  \n",
       "\n",
       "[306 rows x 54676 columns]"
      ]
     },
     "execution_count": 2,
     "metadata": {},
     "output_type": "execute_result"
    }
   ],
   "source": [
    "expression_df"
   ]
  },
  {
   "cell_type": "markdown",
   "id": "baa086b6",
   "metadata": {},
   "source": [
    "21374's interval hubgene"
   ]
  },
  {
   "cell_type": "code",
   "execution_count": 3,
   "id": "a5426313",
   "metadata": {},
   "outputs": [],
   "source": [
    "hub_genes = [\"CXCL9\", \"MIR155 /// MIR155HG\", \"CD8A\", \"CLIC2\", \"GBP5.1\", \"235229_at\", \"RP1-93H18.6\"]"
   ]
  },
  {
   "cell_type": "code",
   "execution_count": 4,
   "id": "8eac3ee8",
   "metadata": {},
   "outputs": [
    {
     "name": "stdout",
     "output_type": "stream",
     "text": [
      "Logistic Regression Coefficients:\n",
      "                  Gene  Coefficient\n",
      "5            235229_at    -0.675164\n",
      "2                 CD8A    -0.510494\n",
      "3                CLIC2     0.382328\n",
      "4               GBP5.1     0.365006\n",
      "6          RP1-93H18.6    -0.235977\n",
      "1  MIR155 /// MIR155HG     0.069461\n",
      "0                CXCL9     0.050358\n"
     ]
    },
    {
     "data": {
      "image/png": "[encoded data removed]",
      "text/plain": [
       "<Figure size 800x500 with 1 Axes>"
      ]
     },
     "metadata": {},
     "output_type": "display_data"
    },
    {
     "name": "stdout",
     "output_type": "stream",
     "text": [
      "\n",
      "AUC - Logistic: 0.864\n",
      "AUC - Random Forest: 0.850\n"
     ]
    }
   ],
   "source": [
    "X = expression_df[hub_genes]\n",
    "\n",
    "# 处理标签（假设 'Rejection Status' 列存在）\n",
    "y = expression_df[\"Diagnosis\"].apply(lambda x: 1 if x in [\"non-TCMR\"] else 0)\n",
    "\n",
    "from sklearn.model_selection import train_test_split\n",
    "\n",
    "X_train, X_test, y_train, y_test = train_test_split(\n",
    "    X, y, test_size=0.3, random_state=42, stratify=y\n",
    ")\n",
    "\n",
    "from sklearn.linear_model import LogisticRegression\n",
    "from sklearn.ensemble import RandomForestClassifier\n",
    "from sklearn.metrics import roc_auc_score, classification_report\n",
    "import matplotlib.pyplot as plt\n",
    "import seaborn as sns\n",
    "\n",
    "# Logistic 回归模型（解释性强）\n",
    "lr = LogisticRegression(max_iter=1000)\n",
    "lr.fit(X_train, y_train)\n",
    "lr_auc = roc_auc_score(y_test, lr.predict_proba(X_test)[:, 1])\n",
    "\n",
    "# 打印 Logistic 的权重\n",
    "coef_df = pd.DataFrame({\n",
    "    \"Gene\": X.columns,\n",
    "    \"Coefficient\": lr.coef_[0]\n",
    "}).sort_values(by=\"Coefficient\", key=abs, ascending=False)\n",
    "print(\"Logistic Regression Coefficients:\")\n",
    "print(coef_df)\n",
    "\n",
    "# 随机森林模型（增强性能）\n",
    "rf = RandomForestClassifier(n_estimators=100, random_state=42)\n",
    "rf.fit(X_train, y_train)\n",
    "rf_auc = roc_auc_score(y_test, rf.predict_proba(X_test)[:, 1])\n",
    "\n",
    "# 打印重要性\n",
    "importances_df = pd.DataFrame({\n",
    "    \"Gene\": X.columns,\n",
    "    \"Importance\": rf.feature_importances_\n",
    "}).sort_values(by=\"Importance\", ascending=False)\n",
    "\n",
    "# 可视化重要性\n",
    "plt.figure(figsize=(8, 5))\n",
    "sns.barplot(data=importances_df, x=\"Importance\", y=\"Gene\")\n",
    "plt.title(\"Random Forest Feature Importance\")\n",
    "plt.tight_layout()\n",
    "plt.show()\n",
    "\n",
    "# 打印模型效果\n",
    "print(f\"\\nAUC - Logistic: {lr_auc:.3f}\")\n",
    "print(f\"AUC - Random Forest: {rf_auc:.3f}\")"
   ]
  },
  {
   "cell_type": "code",
   "execution_count": 5,
   "id": "693f8d0b",
   "metadata": {},
   "outputs": [
    {
     "name": "stdout",
     "output_type": "stream",
     "text": [
      " Stacking AUC: 0.869\n"
     ]
    }
   ],
   "source": [
    "#### STACKING MODEL\n",
    "from sklearn.ensemble import StackingClassifier\n",
    "from sklearn.linear_model import LogisticRegression\n",
    "from sklearn.ensemble import RandomForestClassifier\n",
    "\n",
    "# 基础模型（level-0）\n",
    "base_models = [\n",
    "    ('lr', LogisticRegression(max_iter=1000)),\n",
    "    ('rf', RandomForestClassifier(n_estimators=100))\n",
    "]\n",
    "\n",
    "# 堆叠后的元模型（level-1）\n",
    "stacked_model = StackingClassifier(\n",
    "    estimators=base_models,\n",
    "    final_estimator=LogisticRegression(),  # 也可以用 SVM 等\n",
    "    cv=5\n",
    ")\n",
    "\n",
    "# 训练 & 评估\n",
    "stacked_model.fit(X_train, y_train)\n",
    "stacked_auc = roc_auc_score(y_test, stacked_model.predict_proba(X_test)[:, 1])\n",
    "print(f\" Stacking AUC: {stacked_auc:.3f}\")"
   ]
  },
  {
   "cell_type": "markdown",
   "id": "1d6a9430",
   "metadata": {},
   "source": [
    "21374's cyto node hub gene"
   ]
  },
  {
   "cell_type": "code",
   "execution_count": 6,
   "id": "cefd5eeb",
   "metadata": {},
   "outputs": [],
   "source": [
    "hub_genes = [\"CXCL9\", \"GZMA\", \"CD8A\", \"IDO1\", \"CD69\"]"
   ]
  },
  {
   "cell_type": "code",
   "execution_count": 7,
   "id": "9d43b13e",
   "metadata": {},
   "outputs": [
    {
     "name": "stdout",
     "output_type": "stream",
     "text": [
      "Logistic Regression Coefficients:\n",
      "    Gene  Coefficient\n",
      "2   CD8A    -0.845168\n",
      "1   GZMA     0.481272\n",
      "3   IDO1    -0.217484\n",
      "4   CD69    -0.107151\n",
      "0  CXCL9    -0.011622\n"
     ]
    },
    {
     "data": {
      "image/png": "[encoded data removed]",
      "text/plain": [
       "<Figure size 800x500 with 1 Axes>"
      ]
     },
     "metadata": {},
     "output_type": "display_data"
    },
    {
     "name": "stdout",
     "output_type": "stream",
     "text": [
      "\n",
      "AUC - Logistic: 0.843\n",
      "AUC - Random Forest: 0.701\n"
     ]
    }
   ],
   "source": [
    "X = expression_df[hub_genes]\n",
    "\n",
    "# 处理标签（假设 'Rejection Status' 列存在）\n",
    "y = expression_df[\"Diagnosis\"].apply(lambda x: 1 if x in [\"non-TCMR\"] else 0)\n",
    "\n",
    "from sklearn.model_selection import train_test_split\n",
    "\n",
    "X_train, X_test, y_train, y_test = train_test_split(\n",
    "    X, y, test_size=0.3, random_state=42, stratify=y\n",
    ")\n",
    "\n",
    "from sklearn.linear_model import LogisticRegression\n",
    "from sklearn.ensemble import RandomForestClassifier\n",
    "from sklearn.metrics import roc_auc_score, classification_report\n",
    "import matplotlib.pyplot as plt\n",
    "import seaborn as sns\n",
    "\n",
    "# Logistic 回归模型（解释性强）\n",
    "lr = LogisticRegression(max_iter=1000)\n",
    "lr.fit(X_train, y_train)\n",
    "lr_auc = roc_auc_score(y_test, lr.predict_proba(X_test)[:, 1])\n",
    "\n",
    "# 打印 Logistic 的权重\n",
    "coef_df = pd.DataFrame({\n",
    "    \"Gene\": X.columns,\n",
    "    \"Coefficient\": lr.coef_[0]\n",
    "}).sort_values(by=\"Coefficient\", key=abs, ascending=False)\n",
    "print(\"Logistic Regression Coefficients:\")\n",
    "print(coef_df)\n",
    "\n",
    "# 随机森林模型（增强性能）\n",
    "rf = RandomForestClassifier(n_estimators=100, random_state=42)\n",
    "rf.fit(X_train, y_train)\n",
    "rf_auc = roc_auc_score(y_test, rf.predict_proba(X_test)[:, 1])\n",
    "\n",
    "# 打印重要性\n",
    "importances_df = pd.DataFrame({\n",
    "    \"Gene\": X.columns,\n",
    "    \"Importance\": rf.feature_importances_\n",
    "}).sort_values(by=\"Importance\", ascending=False)\n",
    "\n",
    "# 可视化重要性\n",
    "plt.figure(figsize=(8, 5))\n",
    "sns.barplot(data=importances_df, x=\"Importance\", y=\"Gene\")\n",
    "plt.title(\"Random Forest Feature Importance\")\n",
    "plt.tight_layout()\n",
    "plt.show()\n",
    "\n",
    "# 打印模型效果\n",
    "print(f\"\\nAUC - Logistic: {lr_auc:.3f}\")\n",
    "print(f\"AUC - Random Forest: {rf_auc:.3f}\")"
   ]
  },
  {
   "cell_type": "code",
   "execution_count": 8,
   "id": "10ef3c87",
   "metadata": {},
   "outputs": [
    {
     "name": "stdout",
     "output_type": "stream",
     "text": [
      " Stacking AUC: 0.788\n"
     ]
    }
   ],
   "source": [
    "#### STACKING MODEL\n",
    "from sklearn.ensemble import StackingClassifier\n",
    "from sklearn.linear_model import LogisticRegression\n",
    "from sklearn.ensemble import RandomForestClassifier\n",
    "\n",
    "# 基础模型（level-0）\n",
    "base_models = [\n",
    "    ('lr', LogisticRegression(max_iter=1000)),\n",
    "    ('rf', RandomForestClassifier(n_estimators=100))\n",
    "]\n",
    "\n",
    "# 堆叠后的元模型（level-1）\n",
    "stacked_model = StackingClassifier(\n",
    "    estimators=base_models,\n",
    "    final_estimator=LogisticRegression(),  # 也可以用 SVM 等\n",
    "    cv=5\n",
    ")\n",
    "\n",
    "# 训练 & 评估\n",
    "stacked_model.fit(X_train, y_train)\n",
    "stacked_auc = roc_auc_score(y_test, stacked_model.predict_proba(X_test)[:, 1])\n",
    "print(f\" Stacking AUC: {stacked_auc:.3f}\")"
   ]
  },
  {
   "cell_type": "markdown",
   "id": "0625fe03",
   "metadata": {},
   "source": [
    "36059's interval hub gene"
   ]
  },
  {
   "cell_type": "code",
   "execution_count": 9,
   "id": "ac5432b8",
   "metadata": {},
   "outputs": [],
   "source": [
    "hub_genes = [\"CCL4\", \"PLA1A\", \"FAM26F.1\", \"CXCL11\", \"RBP7\", \"IDO1\"]"
   ]
  },
  {
   "cell_type": "code",
   "execution_count": 10,
   "id": "ca9ddbdc",
   "metadata": {},
   "outputs": [
    {
     "name": "stdout",
     "output_type": "stream",
     "text": [
      "Logistic Regression Coefficients:\n",
      "       Gene  Coefficient\n",
      "5      IDO1    -0.433507\n",
      "0      CCL4    -0.429745\n",
      "3    CXCL11     0.197391\n",
      "2  FAM26F.1    -0.114955\n",
      "1     PLA1A     0.113838\n",
      "4      RBP7     0.112610\n"
     ]
    },
    {
     "data": {
      "image/png": "[encoded data removed]",
      "text/plain": [
       "<Figure size 800x500 with 1 Axes>"
      ]
     },
     "metadata": {},
     "output_type": "display_data"
    },
    {
     "name": "stdout",
     "output_type": "stream",
     "text": [
      "\n",
      "AUC - Logistic: 0.859\n",
      "AUC - Random Forest: 0.724\n"
     ]
    }
   ],
   "source": [
    "X = expression_df[hub_genes]\n",
    "\n",
    "# 处理标签（假设 'Rejection Status' 列存在）\n",
    "y = expression_df[\"Diagnosis\"].apply(lambda x: 1 if x in [\"non-TCMR\"] else 0)\n",
    "\n",
    "from sklearn.model_selection import train_test_split\n",
    "\n",
    "X_train, X_test, y_train, y_test = train_test_split(\n",
    "    X, y, test_size=0.3, random_state=42, stratify=y\n",
    ")\n",
    "\n",
    "from sklearn.linear_model import LogisticRegression\n",
    "from sklearn.ensemble import RandomForestClassifier\n",
    "from sklearn.metrics import roc_auc_score, classification_report\n",
    "import matplotlib.pyplot as plt\n",
    "import seaborn as sns\n",
    "\n",
    "# Logistic 回归模型（解释性强）\n",
    "lr = LogisticRegression(max_iter=1000)\n",
    "lr.fit(X_train, y_train)\n",
    "lr_auc = roc_auc_score(y_test, lr.predict_proba(X_test)[:, 1])\n",
    "\n",
    "# 打印 Logistic 的权重\n",
    "coef_df = pd.DataFrame({\n",
    "    \"Gene\": X.columns,\n",
    "    \"Coefficient\": lr.coef_[0]\n",
    "}).sort_values(by=\"Coefficient\", key=abs, ascending=False)\n",
    "print(\"Logistic Regression Coefficients:\")\n",
    "print(coef_df)\n",
    "\n",
    "# 随机森林模型（增强性能）\n",
    "rf = RandomForestClassifier(n_estimators=100, random_state=42)\n",
    "rf.fit(X_train, y_train)\n",
    "rf_auc = roc_auc_score(y_test, rf.predict_proba(X_test)[:, 1])\n",
    "\n",
    "# 打印重要性\n",
    "importances_df = pd.DataFrame({\n",
    "    \"Gene\": X.columns,\n",
    "    \"Importance\": rf.feature_importances_\n",
    "}).sort_values(by=\"Importance\", ascending=False)\n",
    "\n",
    "# 可视化重要性\n",
    "plt.figure(figsize=(8, 5))\n",
    "sns.barplot(data=importances_df, x=\"Importance\", y=\"Gene\")\n",
    "plt.title(\"Random Forest Feature Importance\")\n",
    "plt.tight_layout()\n",
    "plt.show()\n",
    "\n",
    "# 打印模型效果\n",
    "print(f\"\\nAUC - Logistic: {lr_auc:.3f}\")\n",
    "print(f\"AUC - Random Forest: {rf_auc:.3f}\")"
   ]
  },
  {
   "cell_type": "code",
   "execution_count": 11,
   "id": "b0918645",
   "metadata": {},
   "outputs": [
    {
     "name": "stdout",
     "output_type": "stream",
     "text": [
      " Stacking AUC: 0.813\n"
     ]
    }
   ],
   "source": [
    "#### STACKING MODEL\n",
    "from sklearn.ensemble import StackingClassifier\n",
    "from sklearn.linear_model import LogisticRegression\n",
    "from sklearn.ensemble import RandomForestClassifier\n",
    "\n",
    "# 基础模型（level-0）\n",
    "base_models = [\n",
    "    ('lr', LogisticRegression(max_iter=1000)),\n",
    "    ('rf', RandomForestClassifier(n_estimators=100))\n",
    "]\n",
    "\n",
    "# 堆叠后的元模型（level-1）\n",
    "stacked_model = StackingClassifier(\n",
    "    estimators=base_models,\n",
    "    final_estimator=LogisticRegression(),  # 也可以用 SVM 等\n",
    "    cv=5\n",
    ")\n",
    "\n",
    "# 训练 & 评估\n",
    "stacked_model.fit(X_train, y_train)\n",
    "stacked_auc = roc_auc_score(y_test, stacked_model.predict_proba(X_test)[:, 1])\n",
    "print(f\" Stacking AUC: {stacked_auc:.3f}\")"
   ]
  },
  {
   "cell_type": "markdown",
   "id": "41ea49e1",
   "metadata": {},
   "source": [
    "36059's cyto node hub gene"
   ]
  },
  {
   "cell_type": "code",
   "execution_count": 12,
   "id": "8c69de8a",
   "metadata": {},
   "outputs": [],
   "source": [
    "hub_genes = [\"CXCL10\", \"IDO1\", \"LILRB2\", \"CXCL9\", \"CCL4\"]"
   ]
  },
  {
   "cell_type": "code",
   "execution_count": 13,
   "id": "5e7c9b18",
   "metadata": {},
   "outputs": [
    {
     "name": "stdout",
     "output_type": "stream",
     "text": [
      "Logistic Regression Coefficients:\n",
      "     Gene  Coefficient\n",
      "2  LILRB2    -0.706667\n",
      "0  CXCL10     0.252705\n",
      "1    IDO1    -0.234411\n",
      "4    CCL4    -0.222288\n",
      "3   CXCL9    -0.154057\n"
     ]
    },
    {
     "data": {
      "image/png": "[encoded data removed]",
      "text/plain": [
       "<Figure size 800x500 with 1 Axes>"
      ]
     },
     "metadata": {},
     "output_type": "display_data"
    },
    {
     "name": "stdout",
     "output_type": "stream",
     "text": [
      "\n",
      "AUC - Logistic: 0.842\n",
      "AUC - Random Forest: 0.870\n"
     ]
    }
   ],
   "source": [
    "X = expression_df[hub_genes]\n",
    "\n",
    "# 处理标签（假设 'Rejection Status' 列存在）\n",
    "y = expression_df[\"Diagnosis\"].apply(lambda x: 1 if x in [\"non-TCMR\"] else 0)\n",
    "\n",
    "from sklearn.model_selection import train_test_split\n",
    "\n",
    "X_train, X_test, y_train, y_test = train_test_split(\n",
    "    X, y, test_size=0.3, random_state=42, stratify=y\n",
    ")\n",
    "\n",
    "from sklearn.linear_model import LogisticRegression\n",
    "from sklearn.ensemble import RandomForestClassifier\n",
    "from sklearn.metrics import roc_auc_score, classification_report\n",
    "import matplotlib.pyplot as plt\n",
    "import seaborn as sns\n",
    "\n",
    "# Logistic 回归模型（解释性强）\n",
    "lr = LogisticRegression(max_iter=1000)\n",
    "lr.fit(X_train, y_train)\n",
    "lr_auc = roc_auc_score(y_test, lr.predict_proba(X_test)[:, 1])\n",
    "\n",
    "# 打印 Logistic 的权重\n",
    "coef_df = pd.DataFrame({\n",
    "    \"Gene\": X.columns,\n",
    "    \"Coefficient\": lr.coef_[0]\n",
    "}).sort_values(by=\"Coefficient\", key=abs, ascending=False)\n",
    "print(\"Logistic Regression Coefficients:\")\n",
    "print(coef_df)\n",
    "\n",
    "# 随机森林模型（增强性能）\n",
    "rf = RandomForestClassifier(n_estimators=100, random_state=42)\n",
    "rf.fit(X_train, y_train)\n",
    "rf_auc = roc_auc_score(y_test, rf.predict_proba(X_test)[:, 1])\n",
    "\n",
    "# 打印重要性\n",
    "importances_df = pd.DataFrame({\n",
    "    \"Gene\": X.columns,\n",
    "    \"Importance\": rf.feature_importances_\n",
    "}).sort_values(by=\"Importance\", ascending=False)\n",
    "\n",
    "# 可视化重要性\n",
    "plt.figure(figsize=(8, 5))\n",
    "sns.barplot(data=importances_df, x=\"Importance\", y=\"Gene\")\n",
    "plt.title(\"Random Forest Feature Importance\")\n",
    "plt.tight_layout()\n",
    "plt.show()\n",
    "\n",
    "# 打印模型效果\n",
    "print(f\"\\nAUC - Logistic: {lr_auc:.3f}\")\n",
    "print(f\"AUC - Random Forest: {rf_auc:.3f}\")"
   ]
  },
  {
   "cell_type": "code",
   "execution_count": 15,
   "id": "19ca8c0e",
   "metadata": {},
   "outputs": [
    {
     "name": "stdout",
     "output_type": "stream",
     "text": [
      " Stacking AUC: 0.870\n"
     ]
    }
   ],
   "source": [
    "#### STACKING MODEL\n",
    "from sklearn.ensemble import StackingClassifier\n",
    "from sklearn.linear_model import LogisticRegression\n",
    "from sklearn.ensemble import RandomForestClassifier\n",
    "\n",
    "# 基础模型（level-0）\n",
    "base_models = [\n",
    "    ('lr', LogisticRegression(max_iter=1000)),\n",
    "    ('rf', RandomForestClassifier(n_estimators=100))\n",
    "]\n",
    "\n",
    "# 堆叠后的元模型（level-1）\n",
    "stacked_model = StackingClassifier(\n",
    "    estimators=base_models,\n",
    "    final_estimator=LogisticRegression(),  # 也可以用 SVM 等\n",
    "    cv=5\n",
    ")\n",
    "\n",
    "# 训练 & 评估\n",
    "stacked_model.fit(X_train, y_train)\n",
    "stacked_auc = roc_auc_score(y_test, stacked_model.predict_proba(X_test)[:, 1])\n",
    "print(f\" Stacking AUC: {stacked_auc:.3f}\")"
   ]
  },
  {
   "cell_type": "markdown",
   "id": "ad6fcf04",
   "metadata": {},
   "source": [
    "48581's interval hub gene"
   ]
  },
  {
   "cell_type": "code",
   "execution_count": 18,
   "id": "7914f4d4",
   "metadata": {},
   "outputs": [],
   "source": [
    "hub_genes = [\"SCMH1\", \"WDR3\", \"LOC100507073\"]"
   ]
  },
  {
   "cell_type": "code",
   "execution_count": 19,
   "id": "7e2a9ddf",
   "metadata": {},
   "outputs": [
    {
     "name": "stdout",
     "output_type": "stream",
     "text": [
      "Logistic Regression Coefficients:\n",
      "           Gene  Coefficient\n",
      "2  LOC100507073     1.629550\n",
      "0         SCMH1     1.598299\n",
      "1          WDR3     1.386054\n"
     ]
    },
    {
     "data": {
      "image/png": "[encoded data removed]",
      "text/plain": [
       "<Figure size 800x500 with 1 Axes>"
      ]
     },
     "metadata": {},
     "output_type": "display_data"
    },
    {
     "name": "stdout",
     "output_type": "stream",
     "text": [
      "\n",
      "AUC - Logistic: 0.829\n",
      "AUC - Random Forest: 0.750\n"
     ]
    }
   ],
   "source": [
    "X = expression_df[hub_genes]\n",
    "\n",
    "# 处理标签（假设 'Rejection Status' 列存在）\n",
    "y = expression_df[\"Diagnosis\"].apply(lambda x: 1 if x in [\"non-TCMR\"] else 0)\n",
    "\n",
    "from sklearn.model_selection import train_test_split\n",
    "\n",
    "X_train, X_test, y_train, y_test = train_test_split(\n",
    "    X, y, test_size=0.3, random_state=42, stratify=y\n",
    ")\n",
    "\n",
    "from sklearn.linear_model import LogisticRegression\n",
    "from sklearn.ensemble import RandomForestClassifier\n",
    "from sklearn.metrics import roc_auc_score, classification_report\n",
    "import matplotlib.pyplot as plt\n",
    "import seaborn as sns\n",
    "\n",
    "# Logistic 回归模型（解释性强）\n",
    "lr = LogisticRegression(max_iter=1000)\n",
    "lr.fit(X_train, y_train)\n",
    "lr_auc = roc_auc_score(y_test, lr.predict_proba(X_test)[:, 1])\n",
    "\n",
    "# 打印 Logistic 的权重\n",
    "coef_df = pd.DataFrame({\n",
    "    \"Gene\": X.columns,\n",
    "    \"Coefficient\": lr.coef_[0]\n",
    "}).sort_values(by=\"Coefficient\", key=abs, ascending=False)\n",
    "print(\"Logistic Regression Coefficients:\")\n",
    "print(coef_df)\n",
    "\n",
    "# 随机森林模型（增强性能）\n",
    "rf = RandomForestClassifier(n_estimators=100, random_state=42)\n",
    "rf.fit(X_train, y_train)\n",
    "rf_auc = roc_auc_score(y_test, rf.predict_proba(X_test)[:, 1])\n",
    "\n",
    "# 打印重要性\n",
    "importances_df = pd.DataFrame({\n",
    "    \"Gene\": X.columns,\n",
    "    \"Importance\": rf.feature_importances_\n",
    "}).sort_values(by=\"Importance\", ascending=False)\n",
    "\n",
    "# 可视化重要性\n",
    "plt.figure(figsize=(8, 5))\n",
    "sns.barplot(data=importances_df, x=\"Importance\", y=\"Gene\")\n",
    "plt.title(\"Random Forest Feature Importance\")\n",
    "plt.tight_layout()\n",
    "plt.show()\n",
    "\n",
    "# 打印模型效果\n",
    "print(f\"\\nAUC - Logistic: {lr_auc:.3f}\")\n",
    "print(f\"AUC - Random Forest: {rf_auc:.3f}\")"
   ]
  },
  {
   "cell_type": "code",
   "execution_count": 20,
   "id": "cafb9281",
   "metadata": {},
   "outputs": [
    {
     "name": "stdout",
     "output_type": "stream",
     "text": [
      " Stacking AUC: 0.798\n"
     ]
    }
   ],
   "source": [
    "#### STACKING MODEL\n",
    "from sklearn.ensemble import StackingClassifier\n",
    "from sklearn.linear_model import LogisticRegression\n",
    "from sklearn.ensemble import RandomForestClassifier\n",
    "\n",
    "# 基础模型（level-0）\n",
    "base_models = [\n",
    "    ('lr', LogisticRegression(max_iter=1000)),\n",
    "    ('rf', RandomForestClassifier(n_estimators=100))\n",
    "]\n",
    "\n",
    "# 堆叠后的元模型（level-1）\n",
    "stacked_model = StackingClassifier(\n",
    "    estimators=base_models,\n",
    "    final_estimator=LogisticRegression(),  # 也可以用 SVM 等\n",
    "    cv=5\n",
    ")\n",
    "\n",
    "# 训练 & 评估\n",
    "stacked_model.fit(X_train, y_train)\n",
    "stacked_auc = roc_auc_score(y_test, stacked_model.predict_proba(X_test)[:, 1])\n",
    "print(f\" Stacking AUC: {stacked_auc:.3f}\")"
   ]
  },
  {
   "cell_type": "markdown",
   "id": "5936feb8",
   "metadata": {},
   "source": [
    "48581's cyto node hub gene"
   ]
  },
  {
   "cell_type": "code",
   "execution_count": 21,
   "id": "bb2ef7e3",
   "metadata": {},
   "outputs": [],
   "source": [
    "hub_genes = [\"CXCL13\", \"LILRB2\", \"CD8A\", \"FOS\", \"RGS1\"]"
   ]
  },
  {
   "cell_type": "code",
   "execution_count": 22,
   "id": "7eff6ab0",
   "metadata": {},
   "outputs": [
    {
     "name": "stdout",
     "output_type": "stream",
     "text": [
      "Logistic Regression Coefficients:\n",
      "     Gene  Coefficient\n",
      "3     FOS    -0.728363\n",
      "2    CD8A    -0.564988\n",
      "1  LILRB2    -0.240289\n",
      "4    RGS1     0.228770\n",
      "0  CXCL13    -0.106756\n"
     ]
    },
    {
     "data": {
      "image/png": "[encoded data removed]",
      "text/plain": [
       "<Figure size 800x500 with 1 Axes>"
      ]
     },
     "metadata": {},
     "output_type": "display_data"
    },
    {
     "name": "stdout",
     "output_type": "stream",
     "text": [
      "\n",
      "AUC - Logistic: 0.930\n",
      "AUC - Random Forest: 0.846\n"
     ]
    }
   ],
   "source": [
    "X = expression_df[hub_genes]\n",
    "\n",
    "# 处理标签（假设 'Rejection Status' 列存在）\n",
    "y = expression_df[\"Diagnosis\"].apply(lambda x: 1 if x in [\"non-TCMR\"] else 0)\n",
    "\n",
    "from sklearn.model_selection import train_test_split\n",
    "\n",
    "X_train, X_test, y_train, y_test = train_test_split(\n",
    "    X, y, test_size=0.3, random_state=42, stratify=y\n",
    ")\n",
    "\n",
    "from sklearn.linear_model import LogisticRegression\n",
    "from sklearn.ensemble import RandomForestClassifier\n",
    "from sklearn.metrics import roc_auc_score, classification_report\n",
    "import matplotlib.pyplot as plt\n",
    "import seaborn as sns\n",
    "\n",
    "# Logistic 回归模型（解释性强）\n",
    "lr = LogisticRegression(max_iter=1000)\n",
    "lr.fit(X_train, y_train)\n",
    "lr_auc = roc_auc_score(y_test, lr.predict_proba(X_test)[:, 1])\n",
    "\n",
    "# 打印 Logistic 的权重\n",
    "coef_df = pd.DataFrame({\n",
    "    \"Gene\": X.columns,\n",
    "    \"Coefficient\": lr.coef_[0]\n",
    "}).sort_values(by=\"Coefficient\", key=abs, ascending=False)\n",
    "print(\"Logistic Regression Coefficients:\")\n",
    "print(coef_df)\n",
    "\n",
    "# 随机森林模型（增强性能）\n",
    "rf = RandomForestClassifier(n_estimators=100, random_state=42)\n",
    "rf.fit(X_train, y_train)\n",
    "rf_auc = roc_auc_score(y_test, rf.predict_proba(X_test)[:, 1])\n",
    "\n",
    "# 打印重要性\n",
    "importances_df = pd.DataFrame({\n",
    "    \"Gene\": X.columns,\n",
    "    \"Importance\": rf.feature_importances_\n",
    "}).sort_values(by=\"Importance\", ascending=False)\n",
    "\n",
    "# 可视化重要性\n",
    "plt.figure(figsize=(8, 5))\n",
    "sns.barplot(data=importances_df, x=\"Importance\", y=\"Gene\")\n",
    "plt.title(\"Random Forest Feature Importance\")\n",
    "plt.tight_layout()\n",
    "plt.show()\n",
    "\n",
    "# 打印模型效果\n",
    "print(f\"\\nAUC - Logistic: {lr_auc:.3f}\")\n",
    "print(f\"AUC - Random Forest: {rf_auc:.3f}\")"
   ]
  },
  {
   "cell_type": "code",
   "execution_count": 23,
   "id": "0ad343eb",
   "metadata": {},
   "outputs": [
    {
     "name": "stdout",
     "output_type": "stream",
     "text": [
      " Stacking AUC: 0.912\n"
     ]
    }
   ],
   "source": [
    "#### STACKING MODEL\n",
    "from sklearn.ensemble import StackingClassifier\n",
    "from sklearn.linear_model import LogisticRegression\n",
    "from sklearn.ensemble import RandomForestClassifier\n",
    "\n",
    "# 基础模型（level-0）\n",
    "base_models = [\n",
    "    ('lr', LogisticRegression(max_iter=1000)),\n",
    "    ('rf', RandomForestClassifier(n_estimators=100))\n",
    "]\n",
    "\n",
    "# 堆叠后的元模型（level-1）\n",
    "stacked_model = StackingClassifier(\n",
    "    estimators=base_models,\n",
    "    final_estimator=LogisticRegression(),  # 也可以用 SVM 等\n",
    "    cv=5\n",
    ")\n",
    "\n",
    "# 训练 & 评估\n",
    "stacked_model.fit(X_train, y_train)\n",
    "stacked_auc = roc_auc_score(y_test, stacked_model.predict_proba(X_test)[:, 1])\n",
    "print(f\" Stacking AUC: {stacked_auc:.3f}\")"
   ]
  },
  {
   "cell_type": "markdown",
   "id": "faa9f095",
   "metadata": {},
   "source": [
    "50058's interval hubgene"
   ]
  },
  {
   "cell_type": "code",
   "execution_count": 24,
   "id": "2601c694",
   "metadata": {},
   "outputs": [],
   "source": [
    "hub_genes = [\"FAM26F.1\", \"GPR171\", \"229668_at\", \"B2M.2\", \"FAXDC2\", \"CCL4\", \"CXCL11\", \"SOST\"]"
   ]
  },
  {
   "cell_type": "code",
   "execution_count": 25,
   "id": "c0bddce9",
   "metadata": {},
   "outputs": [
    {
     "name": "stdout",
     "output_type": "stream",
     "text": [
      "Logistic Regression Coefficients:\n",
      "        Gene  Coefficient\n",
      "4     FAXDC2     1.294068\n",
      "7       SOST    -0.728405\n",
      "3      B2M.2     0.631270\n",
      "5       CCL4    -0.579066\n",
      "0   FAM26F.1    -0.306149\n",
      "2  229668_at    -0.249460\n",
      "1     GPR171    -0.230601\n",
      "6     CXCL11     0.015486\n"
     ]
    },
    {
     "data": {
      "image/png": "[encoded data removed]",
      "text/plain": [
       "<Figure size 800x500 with 1 Axes>"
      ]
     },
     "metadata": {},
     "output_type": "display_data"
    },
    {
     "name": "stdout",
     "output_type": "stream",
     "text": [
      "\n",
      "AUC - Logistic: 0.873\n",
      "AUC - Random Forest: 0.934\n"
     ]
    }
   ],
   "source": [
    "X = expression_df[hub_genes]\n",
    "\n",
    "# 处理标签（假设 'Rejection Status' 列存在）\n",
    "y = expression_df[\"Diagnosis\"].apply(lambda x: 1 if x in [\"non-TCMR\"] else 0)\n",
    "\n",
    "from sklearn.model_selection import train_test_split\n",
    "\n",
    "X_train, X_test, y_train, y_test = train_test_split(\n",
    "    X, y, test_size=0.3, random_state=42, stratify=y\n",
    ")\n",
    "\n",
    "from sklearn.linear_model import LogisticRegression\n",
    "from sklearn.ensemble import RandomForestClassifier\n",
    "from sklearn.metrics import roc_auc_score, classification_report\n",
    "import matplotlib.pyplot as plt\n",
    "import seaborn as sns\n",
    "\n",
    "# Logistic 回归模型（解释性强）\n",
    "lr = LogisticRegression(max_iter=1000)\n",
    "lr.fit(X_train, y_train)\n",
    "lr_auc = roc_auc_score(y_test, lr.predict_proba(X_test)[:, 1])\n",
    "\n",
    "# 打印 Logistic 的权重\n",
    "coef_df = pd.DataFrame({\n",
    "    \"Gene\": X.columns,\n",
    "    \"Coefficient\": lr.coef_[0]\n",
    "}).sort_values(by=\"Coefficient\", key=abs, ascending=False)\n",
    "print(\"Logistic Regression Coefficients:\")\n",
    "print(coef_df)\n",
    "\n",
    "# 随机森林模型（增强性能）\n",
    "rf = RandomForestClassifier(n_estimators=100, random_state=42)\n",
    "rf.fit(X_train, y_train)\n",
    "rf_auc = roc_auc_score(y_test, rf.predict_proba(X_test)[:, 1])\n",
    "\n",
    "# 打印重要性\n",
    "importances_df = pd.DataFrame({\n",
    "    \"Gene\": X.columns,\n",
    "    \"Importance\": rf.feature_importances_\n",
    "}).sort_values(by=\"Importance\", ascending=False)\n",
    "\n",
    "# 可视化重要性\n",
    "plt.figure(figsize=(8, 5))\n",
    "sns.barplot(data=importances_df, x=\"Importance\", y=\"Gene\")\n",
    "plt.title(\"Random Forest Feature Importance\")\n",
    "plt.tight_layout()\n",
    "plt.show()\n",
    "\n",
    "# 打印模型效果\n",
    "print(f\"\\nAUC - Logistic: {lr_auc:.3f}\")\n",
    "print(f\"AUC - Random Forest: {rf_auc:.3f}\")"
   ]
  },
  {
   "cell_type": "code",
   "execution_count": 26,
   "id": "a820bbe0",
   "metadata": {},
   "outputs": [
    {
     "name": "stdout",
     "output_type": "stream",
     "text": [
      " Stacking AUC: 0.926\n"
     ]
    }
   ],
   "source": [
    "#### STACKING MODEL\n",
    "from sklearn.ensemble import StackingClassifier\n",
    "from sklearn.linear_model import LogisticRegression\n",
    "from sklearn.ensemble import RandomForestClassifier\n",
    "\n",
    "# 基础模型（level-0）\n",
    "base_models = [\n",
    "    ('lr', LogisticRegression(max_iter=1000)),\n",
    "    ('rf', RandomForestClassifier(n_estimators=100))\n",
    "]\n",
    "\n",
    "# 堆叠后的元模型（level-1）\n",
    "stacked_model = StackingClassifier(\n",
    "    estimators=base_models,\n",
    "    final_estimator=LogisticRegression(),  # 也可以用 SVM 等\n",
    "    cv=5\n",
    ")\n",
    "\n",
    "# 训练 & 评估\n",
    "stacked_model.fit(X_train, y_train)\n",
    "stacked_auc = roc_auc_score(y_test, stacked_model.predict_proba(X_test)[:, 1])\n",
    "print(f\" Stacking AUC: {stacked_auc:.3f}\")"
   ]
  },
  {
   "cell_type": "markdown",
   "id": "8fe579d8",
   "metadata": {},
   "source": [
    "59958's cyto node hubgene"
   ]
  },
  {
   "cell_type": "code",
   "execution_count": 27,
   "id": "e7d7f694",
   "metadata": {},
   "outputs": [],
   "source": [
    "hub_genes = [\"CXCL11\", \"B2M\", \"LCP2\", \"CCL4\",  \"FCGR3B\"]"
   ]
  },
  {
   "cell_type": "code",
   "execution_count": 28,
   "id": "c6199f57",
   "metadata": {},
   "outputs": [
    {
     "name": "stdout",
     "output_type": "stream",
     "text": [
      "Logistic Regression Coefficients:\n",
      "     Gene  Coefficient\n",
      "1     B2M    -0.539025\n",
      "3    CCL4    -0.358455\n",
      "4  FCGR3B    -0.335613\n",
      "2    LCP2    -0.274974\n",
      "0  CXCL11     0.126254\n"
     ]
    },
    {
     "data": {
      "image/png": "[encoded data removed]",
      "text/plain": [
       "<Figure size 800x500 with 1 Axes>"
      ]
     },
     "metadata": {},
     "output_type": "display_data"
    },
    {
     "name": "stdout",
     "output_type": "stream",
     "text": [
      "\n",
      "AUC - Logistic: 0.834\n",
      "AUC - Random Forest: 0.753\n"
     ]
    }
   ],
   "source": [
    "X = expression_df[hub_genes]\n",
    "\n",
    "# 处理标签（假设 'Rejection Status' 列存在）\n",
    "y = expression_df[\"Diagnosis\"].apply(lambda x: 1 if x in [\"non-TCMR\"] else 0)\n",
    "\n",
    "from sklearn.model_selection import train_test_split\n",
    "\n",
    "X_train, X_test, y_train, y_test = train_test_split(\n",
    "    X, y, test_size=0.3, random_state=42, stratify=y\n",
    ")\n",
    "\n",
    "from sklearn.linear_model import LogisticRegression\n",
    "from sklearn.ensemble import RandomForestClassifier\n",
    "from sklearn.metrics import roc_auc_score, classification_report\n",
    "import matplotlib.pyplot as plt\n",
    "import seaborn as sns\n",
    "\n",
    "# Logistic 回归模型（解释性强）\n",
    "lr = LogisticRegression(max_iter=1000)\n",
    "lr.fit(X_train, y_train)\n",
    "lr_auc = roc_auc_score(y_test, lr.predict_proba(X_test)[:, 1])\n",
    "\n",
    "# 打印 Logistic 的权重\n",
    "coef_df = pd.DataFrame({\n",
    "    \"Gene\": X.columns,\n",
    "    \"Coefficient\": lr.coef_[0]\n",
    "}).sort_values(by=\"Coefficient\", key=abs, ascending=False)\n",
    "print(\"Logistic Regression Coefficients:\")\n",
    "print(coef_df)\n",
    "\n",
    "# 随机森林模型（增强性能）\n",
    "rf = RandomForestClassifier(n_estimators=100, random_state=42)\n",
    "rf.fit(X_train, y_train)\n",
    "rf_auc = roc_auc_score(y_test, rf.predict_proba(X_test)[:, 1])\n",
    "\n",
    "# 打印重要性\n",
    "importances_df = pd.DataFrame({\n",
    "    \"Gene\": X.columns,\n",
    "    \"Importance\": rf.feature_importances_\n",
    "}).sort_values(by=\"Importance\", ascending=False)\n",
    "\n",
    "# 可视化重要性\n",
    "plt.figure(figsize=(8, 5))\n",
    "sns.barplot(data=importances_df, x=\"Importance\", y=\"Gene\")\n",
    "plt.title(\"Random Forest Feature Importance\")\n",
    "plt.tight_layout()\n",
    "plt.show()\n",
    "\n",
    "# 打印模型效果\n",
    "print(f\"\\nAUC - Logistic: {lr_auc:.3f}\")\n",
    "print(f\"AUC - Random Forest: {rf_auc:.3f}\")"
   ]
  },
  {
   "cell_type": "code",
   "execution_count": 29,
   "id": "c2abaa03",
   "metadata": {},
   "outputs": [
    {
     "name": "stdout",
     "output_type": "stream",
     "text": [
      " Stacking AUC: 0.801\n"
     ]
    }
   ],
   "source": [
    "#### STACKING MODEL\n",
    "from sklearn.ensemble import StackingClassifier\n",
    "from sklearn.linear_model import LogisticRegression\n",
    "from sklearn.ensemble import RandomForestClassifier\n",
    "\n",
    "# 基础模型（level-0）\n",
    "base_models = [\n",
    "    ('lr', LogisticRegression(max_iter=1000)),\n",
    "    ('rf', RandomForestClassifier(n_estimators=100))\n",
    "]\n",
    "\n",
    "# 堆叠后的元模型（level-1）\n",
    "stacked_model = StackingClassifier(\n",
    "    estimators=base_models,\n",
    "    final_estimator=LogisticRegression(),  # 也可以用 SVM 等\n",
    "    cv=5\n",
    ")\n",
    "\n",
    "# 训练 & 评估\n",
    "stacked_model.fit(X_train, y_train)\n",
    "stacked_auc = roc_auc_score(y_test, stacked_model.predict_proba(X_test)[:, 1])\n",
    "print(f\" Stacking AUC: {stacked_auc:.3f}\")"
   ]
  }
 ],
 "metadata": {
  "kernelspec": {
   "display_name": "Python 3",
   "language": "python",
   "name": "python3"
  },
  "language_info": {
   "codemirror_mode": {
    "name": "ipython",
    "version": 3
   },
   "file_extension": ".py",
   "mimetype": "text/x-python",
   "name": "python",
   "nbconvert_exporter": "python",
   "pygments_lexer": "ipython3",
   "version": "3.11.9"
  }
 },
 "nbformat": 4,
 "nbformat_minor": 5
}
