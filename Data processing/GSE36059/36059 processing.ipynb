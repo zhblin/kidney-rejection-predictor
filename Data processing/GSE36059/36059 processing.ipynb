{
 "cells": [
  {
   "cell_type": "markdown",
   "id": "67ee4af1",
   "metadata": {},
   "source": [
    "36059 Dataset hubgene prediction & model selection"
   ]
  },
  {
   "cell_type": "code",
   "execution_count": 40,
   "id": "50a0a04c",
   "metadata": {},
   "outputs": [],
   "source": [
    "import pandas as pd\n",
    "\n",
    "# 读取表达矩阵（行为样本，列为基因 + 标签）\n",
    "expression_df = pd.read_csv(\"gse36059.csv\", index_col=0)"
   ]
  },
  {
   "cell_type": "code",
   "execution_count": 2,
   "id": "5173b6da",
   "metadata": {},
   "outputs": [
    {
     "data": {
      "text/html": [
       "<div>\n",
       "<style scoped>\n",
       "    .dataframe tbody tr th:only-of-type {\n",
       "        vertical-align: middle;\n",
       "    }\n",
       "\n",
       "    .dataframe tbody tr th {\n",
       "        vertical-align: top;\n",
       "    }\n",
       "\n",
       "    .dataframe thead th {\n",
       "        text-align: right;\n",
       "    }\n",
       "</style>\n",
       "<table border=\"1\" class=\"dataframe\">\n",
       "  <thead>\n",
       "    <tr style=\"text-align: right;\">\n",
       "      <th></th>\n",
       "      <th>DDR1 /// MIR4640</th>\n",
       "      <th>RFC2</th>\n",
       "      <th>HSPA6</th>\n",
       "      <th>PAX8</th>\n",
       "      <th>GUCA1A</th>\n",
       "      <th>MIR5193 /// UBA7</th>\n",
       "      <th>THRA</th>\n",
       "      <th>PTPN21</th>\n",
       "      <th>CCL5</th>\n",
       "      <th>CYP2E1</th>\n",
       "      <th>...</th>\n",
       "      <th>AFFX-r2-Ec-bioB-3_at</th>\n",
       "      <th>AFFX-r2-Ec-bioB-5_at</th>\n",
       "      <th>AFFX-r2-Ec-bioB-M_at</th>\n",
       "      <th>AFFX-r2-Ec-bioC-3_at</th>\n",
       "      <th>AFFX-r2-Ec-bioC-5_at</th>\n",
       "      <th>AFFX-r2-Ec-bioD-3_at</th>\n",
       "      <th>AFFX-r2-Ec-bioD-5_at</th>\n",
       "      <th>AFFX-r2-P1-cre-3_at</th>\n",
       "      <th>AFFX-r2-P1-cre-5_at</th>\n",
       "      <th>Diagnosis</th>\n",
       "    </tr>\n",
       "  </thead>\n",
       "  <tbody>\n",
       "    <tr>\n",
       "      <th>GSM880204</th>\n",
       "      <td>9.808114</td>\n",
       "      <td>6.039012</td>\n",
       "      <td>5.810846</td>\n",
       "      <td>10.342781</td>\n",
       "      <td>3.211123</td>\n",
       "      <td>7.615631</td>\n",
       "      <td>5.473264</td>\n",
       "      <td>5.130847</td>\n",
       "      <td>5.967407</td>\n",
       "      <td>3.806599</td>\n",
       "      <td>...</td>\n",
       "      <td>8.405380</td>\n",
       "      <td>7.976476</td>\n",
       "      <td>7.577744</td>\n",
       "      <td>9.686881</td>\n",
       "      <td>9.287713</td>\n",
       "      <td>11.949707</td>\n",
       "      <td>11.562166</td>\n",
       "      <td>13.446336</td>\n",
       "      <td>13.311750</td>\n",
       "      <td>Non-rejecting</td>\n",
       "    </tr>\n",
       "    <tr>\n",
       "      <th>GSM880205</th>\n",
       "      <td>10.682125</td>\n",
       "      <td>6.608906</td>\n",
       "      <td>5.847419</td>\n",
       "      <td>10.667633</td>\n",
       "      <td>2.924908</td>\n",
       "      <td>8.282238</td>\n",
       "      <td>5.222516</td>\n",
       "      <td>4.620912</td>\n",
       "      <td>8.913122</td>\n",
       "      <td>4.053772</td>\n",
       "      <td>...</td>\n",
       "      <td>8.385829</td>\n",
       "      <td>8.377783</td>\n",
       "      <td>8.108189</td>\n",
       "      <td>10.007514</td>\n",
       "      <td>9.596678</td>\n",
       "      <td>12.094172</td>\n",
       "      <td>11.836863</td>\n",
       "      <td>13.640625</td>\n",
       "      <td>13.376220</td>\n",
       "      <td>Non-rejecting</td>\n",
       "    </tr>\n",
       "    <tr>\n",
       "      <th>GSM880206</th>\n",
       "      <td>9.659079</td>\n",
       "      <td>6.025781</td>\n",
       "      <td>6.089887</td>\n",
       "      <td>10.385927</td>\n",
       "      <td>3.191762</td>\n",
       "      <td>7.013927</td>\n",
       "      <td>5.483255</td>\n",
       "      <td>5.346077</td>\n",
       "      <td>5.872588</td>\n",
       "      <td>4.038955</td>\n",
       "      <td>...</td>\n",
       "      <td>8.621434</td>\n",
       "      <td>8.669645</td>\n",
       "      <td>8.406157</td>\n",
       "      <td>10.095641</td>\n",
       "      <td>9.831340</td>\n",
       "      <td>12.238378</td>\n",
       "      <td>11.861172</td>\n",
       "      <td>13.875352</td>\n",
       "      <td>13.715878</td>\n",
       "      <td>Non-rejecting</td>\n",
       "    </tr>\n",
       "    <tr>\n",
       "      <th>GSM880207</th>\n",
       "      <td>10.083274</td>\n",
       "      <td>6.254128</td>\n",
       "      <td>5.386257</td>\n",
       "      <td>10.383023</td>\n",
       "      <td>3.096177</td>\n",
       "      <td>7.217460</td>\n",
       "      <td>5.364841</td>\n",
       "      <td>4.968738</td>\n",
       "      <td>5.622734</td>\n",
       "      <td>7.228756</td>\n",
       "      <td>...</td>\n",
       "      <td>9.197614</td>\n",
       "      <td>9.086772</td>\n",
       "      <td>8.752838</td>\n",
       "      <td>10.489239</td>\n",
       "      <td>10.235579</td>\n",
       "      <td>12.551390</td>\n",
       "      <td>12.098305</td>\n",
       "      <td>13.951246</td>\n",
       "      <td>13.789232</td>\n",
       "      <td>Non-rejecting</td>\n",
       "    </tr>\n",
       "    <tr>\n",
       "      <th>GSM880208</th>\n",
       "      <td>10.460354</td>\n",
       "      <td>6.304075</td>\n",
       "      <td>5.550745</td>\n",
       "      <td>11.367598</td>\n",
       "      <td>3.059629</td>\n",
       "      <td>7.658014</td>\n",
       "      <td>5.402205</td>\n",
       "      <td>5.469187</td>\n",
       "      <td>4.728435</td>\n",
       "      <td>3.733386</td>\n",
       "      <td>...</td>\n",
       "      <td>8.391848</td>\n",
       "      <td>8.082121</td>\n",
       "      <td>8.007603</td>\n",
       "      <td>9.887173</td>\n",
       "      <td>9.587661</td>\n",
       "      <td>12.296905</td>\n",
       "      <td>11.817117</td>\n",
       "      <td>13.796431</td>\n",
       "      <td>13.553796</td>\n",
       "      <td>Non-rejecting</td>\n",
       "    </tr>\n",
       "    <tr>\n",
       "      <th>...</th>\n",
       "      <td>...</td>\n",
       "      <td>...</td>\n",
       "      <td>...</td>\n",
       "      <td>...</td>\n",
       "      <td>...</td>\n",
       "      <td>...</td>\n",
       "      <td>...</td>\n",
       "      <td>...</td>\n",
       "      <td>...</td>\n",
       "      <td>...</td>\n",
       "      <td>...</td>\n",
       "      <td>...</td>\n",
       "      <td>...</td>\n",
       "      <td>...</td>\n",
       "      <td>...</td>\n",
       "      <td>...</td>\n",
       "      <td>...</td>\n",
       "      <td>...</td>\n",
       "      <td>...</td>\n",
       "      <td>...</td>\n",
       "      <td>...</td>\n",
       "    </tr>\n",
       "    <tr>\n",
       "      <th>GSM880610</th>\n",
       "      <td>9.934819</td>\n",
       "      <td>5.786077</td>\n",
       "      <td>5.567057</td>\n",
       "      <td>10.392874</td>\n",
       "      <td>3.156632</td>\n",
       "      <td>7.294769</td>\n",
       "      <td>5.369574</td>\n",
       "      <td>5.101342</td>\n",
       "      <td>6.439260</td>\n",
       "      <td>3.589525</td>\n",
       "      <td>...</td>\n",
       "      <td>8.265206</td>\n",
       "      <td>8.087644</td>\n",
       "      <td>7.751108</td>\n",
       "      <td>9.891176</td>\n",
       "      <td>9.537927</td>\n",
       "      <td>11.972551</td>\n",
       "      <td>11.618292</td>\n",
       "      <td>13.642457</td>\n",
       "      <td>13.353197</td>\n",
       "      <td>Non-rejecting</td>\n",
       "    </tr>\n",
       "    <tr>\n",
       "      <th>GSM880611</th>\n",
       "      <td>10.331492</td>\n",
       "      <td>6.694437</td>\n",
       "      <td>5.935698</td>\n",
       "      <td>10.768941</td>\n",
       "      <td>3.277184</td>\n",
       "      <td>7.890006</td>\n",
       "      <td>5.652688</td>\n",
       "      <td>5.427916</td>\n",
       "      <td>7.976543</td>\n",
       "      <td>4.006042</td>\n",
       "      <td>...</td>\n",
       "      <td>8.048401</td>\n",
       "      <td>7.891162</td>\n",
       "      <td>7.706554</td>\n",
       "      <td>9.714787</td>\n",
       "      <td>9.397498</td>\n",
       "      <td>12.002003</td>\n",
       "      <td>11.617847</td>\n",
       "      <td>13.395456</td>\n",
       "      <td>13.256493</td>\n",
       "      <td>Mixed</td>\n",
       "    </tr>\n",
       "    <tr>\n",
       "      <th>GSM880612</th>\n",
       "      <td>10.434603</td>\n",
       "      <td>6.764096</td>\n",
       "      <td>6.189874</td>\n",
       "      <td>10.814140</td>\n",
       "      <td>3.115665</td>\n",
       "      <td>8.154171</td>\n",
       "      <td>5.165332</td>\n",
       "      <td>4.886810</td>\n",
       "      <td>8.652118</td>\n",
       "      <td>3.891277</td>\n",
       "      <td>...</td>\n",
       "      <td>7.330773</td>\n",
       "      <td>7.173659</td>\n",
       "      <td>7.095531</td>\n",
       "      <td>8.988399</td>\n",
       "      <td>8.574608</td>\n",
       "      <td>11.305505</td>\n",
       "      <td>10.803184</td>\n",
       "      <td>12.971723</td>\n",
       "      <td>12.677655</td>\n",
       "      <td>ABMR</td>\n",
       "    </tr>\n",
       "    <tr>\n",
       "      <th>GSM880613</th>\n",
       "      <td>10.172647</td>\n",
       "      <td>6.226061</td>\n",
       "      <td>5.550959</td>\n",
       "      <td>10.757275</td>\n",
       "      <td>3.154218</td>\n",
       "      <td>7.604247</td>\n",
       "      <td>5.295393</td>\n",
       "      <td>4.996001</td>\n",
       "      <td>6.927812</td>\n",
       "      <td>3.810087</td>\n",
       "      <td>...</td>\n",
       "      <td>8.184583</td>\n",
       "      <td>7.906788</td>\n",
       "      <td>7.629129</td>\n",
       "      <td>9.619145</td>\n",
       "      <td>9.333553</td>\n",
       "      <td>12.004095</td>\n",
       "      <td>11.629319</td>\n",
       "      <td>13.372509</td>\n",
       "      <td>13.103544</td>\n",
       "      <td>Non-rejecting</td>\n",
       "    </tr>\n",
       "    <tr>\n",
       "      <th>GSM880614</th>\n",
       "      <td>9.717351</td>\n",
       "      <td>6.889039</td>\n",
       "      <td>6.058230</td>\n",
       "      <td>10.178743</td>\n",
       "      <td>3.126419</td>\n",
       "      <td>7.978510</td>\n",
       "      <td>5.521879</td>\n",
       "      <td>5.157721</td>\n",
       "      <td>9.354343</td>\n",
       "      <td>3.782452</td>\n",
       "      <td>...</td>\n",
       "      <td>7.912465</td>\n",
       "      <td>7.601108</td>\n",
       "      <td>7.632612</td>\n",
       "      <td>9.689859</td>\n",
       "      <td>9.328132</td>\n",
       "      <td>11.980187</td>\n",
       "      <td>11.490682</td>\n",
       "      <td>13.344565</td>\n",
       "      <td>13.074462</td>\n",
       "      <td>TCMR</td>\n",
       "    </tr>\n",
       "  </tbody>\n",
       "</table>\n",
       "<p>411 rows × 54676 columns</p>\n",
       "</div>"
      ],
      "text/plain": [
       "           DDR1 /// MIR4640      RFC2     HSPA6       PAX8    GUCA1A  \\\n",
       "GSM880204          9.808114  6.039012  5.810846  10.342781  3.211123   \n",
       "GSM880205         10.682125  6.608906  5.847419  10.667633  2.924908   \n",
       "GSM880206          9.659079  6.025781  6.089887  10.385927  3.191762   \n",
       "GSM880207         10.083274  6.254128  5.386257  10.383023  3.096177   \n",
       "GSM880208         10.460354  6.304075  5.550745  11.367598  3.059629   \n",
       "...                     ...       ...       ...        ...       ...   \n",
       "GSM880610          9.934819  5.786077  5.567057  10.392874  3.156632   \n",
       "GSM880611         10.331492  6.694437  5.935698  10.768941  3.277184   \n",
       "GSM880612         10.434603  6.764096  6.189874  10.814140  3.115665   \n",
       "GSM880613         10.172647  6.226061  5.550959  10.757275  3.154218   \n",
       "GSM880614          9.717351  6.889039  6.058230  10.178743  3.126419   \n",
       "\n",
       "           MIR5193 /// UBA7      THRA    PTPN21      CCL5    CYP2E1  ...  \\\n",
       "GSM880204          7.615631  5.473264  5.130847  5.967407  3.806599  ...   \n",
       "GSM880205          8.282238  5.222516  4.620912  8.913122  4.053772  ...   \n",
       "GSM880206          7.013927  5.483255  5.346077  5.872588  4.038955  ...   \n",
       "GSM880207          7.217460  5.364841  4.968738  5.622734  7.228756  ...   \n",
       "GSM880208          7.658014  5.402205  5.469187  4.728435  3.733386  ...   \n",
       "...                     ...       ...       ...       ...       ...  ...   \n",
       "GSM880610          7.294769  5.369574  5.101342  6.439260  3.589525  ...   \n",
       "GSM880611          7.890006  5.652688  5.427916  7.976543  4.006042  ...   \n",
       "GSM880612          8.154171  5.165332  4.886810  8.652118  3.891277  ...   \n",
       "GSM880613          7.604247  5.295393  4.996001  6.927812  3.810087  ...   \n",
       "GSM880614          7.978510  5.521879  5.157721  9.354343  3.782452  ...   \n",
       "\n",
       "           AFFX-r2-Ec-bioB-3_at  AFFX-r2-Ec-bioB-5_at  AFFX-r2-Ec-bioB-M_at  \\\n",
       "GSM880204              8.405380              7.976476              7.577744   \n",
       "GSM880205              8.385829              8.377783              8.108189   \n",
       "GSM880206              8.621434              8.669645              8.406157   \n",
       "GSM880207              9.197614              9.086772              8.752838   \n",
       "GSM880208              8.391848              8.082121              8.007603   \n",
       "...                         ...                   ...                   ...   \n",
       "GSM880610              8.265206              8.087644              7.751108   \n",
       "GSM880611              8.048401              7.891162              7.706554   \n",
       "GSM880612              7.330773              7.173659              7.095531   \n",
       "GSM880613              8.184583              7.906788              7.629129   \n",
       "GSM880614              7.912465              7.601108              7.632612   \n",
       "\n",
       "           AFFX-r2-Ec-bioC-3_at  AFFX-r2-Ec-bioC-5_at  AFFX-r2-Ec-bioD-3_at  \\\n",
       "GSM880204              9.686881              9.287713             11.949707   \n",
       "GSM880205             10.007514              9.596678             12.094172   \n",
       "GSM880206             10.095641              9.831340             12.238378   \n",
       "GSM880207             10.489239             10.235579             12.551390   \n",
       "GSM880208              9.887173              9.587661             12.296905   \n",
       "...                         ...                   ...                   ...   \n",
       "GSM880610              9.891176              9.537927             11.972551   \n",
       "GSM880611              9.714787              9.397498             12.002003   \n",
       "GSM880612              8.988399              8.574608             11.305505   \n",
       "GSM880613              9.619145              9.333553             12.004095   \n",
       "GSM880614              9.689859              9.328132             11.980187   \n",
       "\n",
       "           AFFX-r2-Ec-bioD-5_at  AFFX-r2-P1-cre-3_at  AFFX-r2-P1-cre-5_at  \\\n",
       "GSM880204             11.562166            13.446336            13.311750   \n",
       "GSM880205             11.836863            13.640625            13.376220   \n",
       "GSM880206             11.861172            13.875352            13.715878   \n",
       "GSM880207             12.098305            13.951246            13.789232   \n",
       "GSM880208             11.817117            13.796431            13.553796   \n",
       "...                         ...                  ...                  ...   \n",
       "GSM880610             11.618292            13.642457            13.353197   \n",
       "GSM880611             11.617847            13.395456            13.256493   \n",
       "GSM880612             10.803184            12.971723            12.677655   \n",
       "GSM880613             11.629319            13.372509            13.103544   \n",
       "GSM880614             11.490682            13.344565            13.074462   \n",
       "\n",
       "               Diagnosis  \n",
       "GSM880204  Non-rejecting  \n",
       "GSM880205  Non-rejecting  \n",
       "GSM880206  Non-rejecting  \n",
       "GSM880207  Non-rejecting  \n",
       "GSM880208  Non-rejecting  \n",
       "...                  ...  \n",
       "GSM880610  Non-rejecting  \n",
       "GSM880611          Mixed  \n",
       "GSM880612           ABMR  \n",
       "GSM880613  Non-rejecting  \n",
       "GSM880614           TCMR  \n",
       "\n",
       "[411 rows x 54676 columns]"
      ]
     },
     "execution_count": 2,
     "metadata": {},
     "output_type": "execute_result"
    }
   ],
   "source": [
    "expression_df"
   ]
  },
  {
   "cell_type": "markdown",
   "id": "60198b8f",
   "metadata": {},
   "source": [
    "21374's interval Hubgene"
   ]
  },
  {
   "cell_type": "code",
   "execution_count": 2,
   "id": "86bb9c31",
   "metadata": {},
   "outputs": [],
   "source": [
    "hub_genes = [\"CXCL9\", \"MIR155 /// MIR155HG\", \"CD8A\", \"CLIC2\", \"GBP5.1\", \"235229_at\", \"RP1-93H18.6\"]"
   ]
  },
  {
   "cell_type": "code",
   "execution_count": 3,
   "id": "296e49a6",
   "metadata": {},
   "outputs": [],
   "source": [
    "X = expression_df[hub_genes]\n",
    "\n",
    "# 处理标签（假设 'Rejection Status' 列存在）\n",
    "y = expression_df[\"Diagnosis\"].apply(lambda x: 1 if x in [\"TCMR\", \"ABMR\", \"Mixed\"] else 0)"
   ]
  },
  {
   "cell_type": "code",
   "execution_count": 4,
   "id": "e126a580",
   "metadata": {},
   "outputs": [],
   "source": [
    "from sklearn.model_selection import train_test_split\n",
    "\n",
    "X_train, X_test, y_train, y_test = train_test_split(\n",
    "    X, y, test_size=0.3, random_state=42, stratify=y\n",
    ")"
   ]
  },
  {
   "cell_type": "code",
   "execution_count": 5,
   "id": "89834999",
   "metadata": {},
   "outputs": [
    {
     "name": "stdout",
     "output_type": "stream",
     "text": [
      "Logistic Regression Coefficients:\n",
      "                  Gene  Coefficient\n",
      "3                CLIC2     1.256477\n",
      "5            235229_at     0.489816\n",
      "1  MIR155 /// MIR155HG    -0.475565\n",
      "0                CXCL9     0.279286\n",
      "6          RP1-93H18.6    -0.172755\n",
      "2                 CD8A     0.069670\n",
      "4               GBP5.1     0.031526\n"
     ]
    },
    {
     "data": {
      "image/png": "[encoded data removed]",
      "text/plain": [
       "<Figure size 800x500 with 1 Axes>"
      ]
     },
     "metadata": {},
     "output_type": "display_data"
    },
    {
     "name": "stdout",
     "output_type": "stream",
     "text": [
      "\n",
      "AUC - Logistic: 0.822\n",
      "AUC - Random Forest: 0.794\n"
     ]
    }
   ],
   "source": [
    "from sklearn.linear_model import LogisticRegression\n",
    "from sklearn.ensemble import RandomForestClassifier\n",
    "from sklearn.metrics import roc_auc_score, classification_report\n",
    "import matplotlib.pyplot as plt\n",
    "import seaborn as sns\n",
    "\n",
    "# Logistic 回归模型（解释性强）\n",
    "lr = LogisticRegression(max_iter=1000)\n",
    "lr.fit(X_train, y_train)\n",
    "lr_auc = roc_auc_score(y_test, lr.predict_proba(X_test)[:, 1])\n",
    "\n",
    "# 打印 Logistic 的权重\n",
    "coef_df = pd.DataFrame({\n",
    "    \"Gene\": X.columns,\n",
    "    \"Coefficient\": lr.coef_[0]\n",
    "}).sort_values(by=\"Coefficient\", key=abs, ascending=False)\n",
    "print(\"Logistic Regression Coefficients:\")\n",
    "print(coef_df)\n",
    "\n",
    "# 随机森林模型（增强性能）\n",
    "rf = RandomForestClassifier(n_estimators=100, random_state=42)\n",
    "rf.fit(X_train, y_train)\n",
    "rf_auc = roc_auc_score(y_test, rf.predict_proba(X_test)[:, 1])\n",
    "\n",
    "# 打印重要性\n",
    "importances_df = pd.DataFrame({\n",
    "    \"Gene\": X.columns,\n",
    "    \"Importance\": rf.feature_importances_\n",
    "}).sort_values(by=\"Importance\", ascending=False)\n",
    "\n",
    "# 可视化重要性\n",
    "plt.figure(figsize=(8, 5))\n",
    "sns.barplot(data=importances_df, x=\"Importance\", y=\"Gene\")\n",
    "plt.title(\"Random Forest Feature Importance\")\n",
    "plt.tight_layout()\n",
    "plt.show()\n",
    "\n",
    "# 打印模型效果\n",
    "print(f\"\\nAUC - Logistic: {lr_auc:.3f}\")\n",
    "print(f\"AUC - Random Forest: {rf_auc:.3f}\")"
   ]
  },
  {
   "cell_type": "code",
   "execution_count": 6,
   "id": "ff8ebaa3",
   "metadata": {},
   "outputs": [
    {
     "name": "stdout",
     "output_type": "stream",
     "text": [
      " Stacking AUC: 0.825\n"
     ]
    }
   ],
   "source": [
    "#### STACKING MODEL\n",
    "from sklearn.ensemble import StackingClassifier\n",
    "from sklearn.linear_model import LogisticRegression\n",
    "from sklearn.ensemble import RandomForestClassifier\n",
    "\n",
    "# 基础模型（level-0）\n",
    "base_models = [\n",
    "    ('lr', LogisticRegression(max_iter=1000)),\n",
    "    ('rf', RandomForestClassifier(n_estimators=100))\n",
    "]\n",
    "\n",
    "# 堆叠后的元模型（level-1）\n",
    "stacked_model = StackingClassifier(\n",
    "    estimators=base_models,\n",
    "    final_estimator=LogisticRegression(),  # 也可以用 SVM 等\n",
    "    cv=5\n",
    ")\n",
    "\n",
    "# 训练 & 评估\n",
    "stacked_model.fit(X_train, y_train)\n",
    "stacked_auc = roc_auc_score(y_test, stacked_model.predict_proba(X_test)[:, 1])\n",
    "print(f\" Stacking AUC: {stacked_auc:.3f}\")"
   ]
  },
  {
   "cell_type": "markdown",
   "id": "53265d14",
   "metadata": {},
   "source": [
    "21374's cyto node hubgene"
   ]
  },
  {
   "cell_type": "code",
   "execution_count": 7,
   "id": "3dd6ee4b",
   "metadata": {},
   "outputs": [],
   "source": [
    "hub_genes = [\"CXCL9\", \"GZMA\", \"CD8A\", \"IDO1\", \"CD69\"]"
   ]
  },
  {
   "cell_type": "code",
   "execution_count": 8,
   "id": "6c5be4a8",
   "metadata": {},
   "outputs": [],
   "source": [
    "X = expression_df[hub_genes]\n",
    "\n",
    "# 处理标签（假设 'Rejection Status' 列存在）\n",
    "y = expression_df[\"Diagnosis\"].apply(lambda x: 1 if x in [\"TCMR\", \"ABMR\", \"Mixed\"] else 0)"
   ]
  },
  {
   "cell_type": "code",
   "execution_count": 9,
   "id": "6bfae9e1",
   "metadata": {},
   "outputs": [],
   "source": [
    "from sklearn.model_selection import train_test_split\n",
    "\n",
    "X_train, X_test, y_train, y_test = train_test_split(\n",
    "    X, y, test_size=0.3, random_state=42, stratify=y\n",
    ")"
   ]
  },
  {
   "cell_type": "code",
   "execution_count": 11,
   "id": "2aad7928",
   "metadata": {},
   "outputs": [
    {
     "name": "stdout",
     "output_type": "stream",
     "text": [
      "Logistic Regression Coefficients:\n",
      "    Gene  Coefficient\n",
      "3   IDO1     0.772179\n",
      "0  CXCL9     0.243775\n",
      "4   CD69     0.198756\n",
      "2   CD8A    -0.171763\n",
      "1   GZMA    -0.062570\n"
     ]
    },
    {
     "data": {
      "image/png": "[encoded data removed]",
      "text/plain": [
       "<Figure size 800x500 with 1 Axes>"
      ]
     },
     "metadata": {},
     "output_type": "display_data"
    },
    {
     "name": "stdout",
     "output_type": "stream",
     "text": [
      "\n",
      "AUC - Logistic: 0.806\n",
      "AUC - Random Forest: 0.763\n"
     ]
    }
   ],
   "source": [
    "from sklearn.linear_model import LogisticRegression\n",
    "from sklearn.ensemble import RandomForestClassifier\n",
    "from sklearn.metrics import roc_auc_score, classification_report\n",
    "import matplotlib.pyplot as plt\n",
    "import seaborn as sns\n",
    "\n",
    "# Logistic 回归模型（解释性强）\n",
    "lr = LogisticRegression(max_iter=1000)\n",
    "lr.fit(X_train, y_train)\n",
    "lr_auc = roc_auc_score(y_test, lr.predict_proba(X_test)[:, 1])\n",
    "\n",
    "# 打印 Logistic 的权重\n",
    "coef_df = pd.DataFrame({\n",
    "    \"Gene\": X.columns,\n",
    "    \"Coefficient\": lr.coef_[0]\n",
    "}).sort_values(by=\"Coefficient\", key=abs, ascending=False)\n",
    "print(\"Logistic Regression Coefficients:\")\n",
    "print(coef_df)\n",
    "\n",
    "# 随机森林模型（增强性能）\n",
    "rf = RandomForestClassifier(n_estimators=100, random_state=42)\n",
    "rf.fit(X_train, y_train)\n",
    "rf_auc = roc_auc_score(y_test, rf.predict_proba(X_test)[:, 1])\n",
    "\n",
    "# 打印重要性\n",
    "importances_df = pd.DataFrame({\n",
    "    \"Gene\": X.columns,\n",
    "    \"Importance\": rf.feature_importances_\n",
    "}).sort_values(by=\"Importance\", ascending=False)\n",
    "\n",
    "# 可视化重要性\n",
    "plt.figure(figsize=(8, 5))\n",
    "sns.barplot(data=importances_df, x=\"Importance\", y=\"Gene\")\n",
    "plt.title(\"Random Forest Feature Importance\")\n",
    "plt.tight_layout()\n",
    "plt.show()\n",
    "\n",
    "# 打印模型效果\n",
    "print(f\"\\nAUC - Logistic: {lr_auc:.3f}\")\n",
    "print(f\"AUC - Random Forest: {rf_auc:.3f}\")"
   ]
  },
  {
   "cell_type": "code",
   "execution_count": 12,
   "id": "2f6e19e9",
   "metadata": {},
   "outputs": [
    {
     "name": "stdout",
     "output_type": "stream",
     "text": [
      " Stacking AUC: 0.792\n"
     ]
    }
   ],
   "source": [
    "#### STACKING MODEL\n",
    "from sklearn.ensemble import StackingClassifier\n",
    "from sklearn.linear_model import LogisticRegression\n",
    "from sklearn.ensemble import RandomForestClassifier\n",
    "\n",
    "# 基础模型（level-0）\n",
    "base_models = [\n",
    "    ('lr', LogisticRegression(max_iter=1000)),\n",
    "    ('rf', RandomForestClassifier(n_estimators=100))\n",
    "]\n",
    "\n",
    "# 堆叠后的元模型（level-1）\n",
    "stacked_model = StackingClassifier(\n",
    "    estimators=base_models,\n",
    "    final_estimator=LogisticRegression(),  # 也可以用 SVM 等\n",
    "    cv=5\n",
    ")\n",
    "\n",
    "# 训练 & 评估\n",
    "stacked_model.fit(X_train, y_train)\n",
    "stacked_auc = roc_auc_score(y_test, stacked_model.predict_proba(X_test)[:, 1])\n",
    "print(f\" Stacking AUC: {stacked_auc:.3f}\")"
   ]
  },
  {
   "cell_type": "markdown",
   "id": "c18f7f17",
   "metadata": {},
   "source": [
    "36059's interval hub gene"
   ]
  },
  {
   "cell_type": "code",
   "execution_count": 13,
   "id": "cd340d2a",
   "metadata": {},
   "outputs": [],
   "source": [
    "hub_genes = [\"CCL4\", \"PLA1A\", \"FAM26F.1\", \"CXCL11\", \"RBP7\", \"IDO1\"]"
   ]
  },
  {
   "cell_type": "code",
   "execution_count": 14,
   "id": "2568cd7b",
   "metadata": {},
   "outputs": [],
   "source": [
    "X = expression_df[hub_genes]\n",
    "\n",
    "# 处理标签（假设 'Rejection Status' 列存在）\n",
    "y = expression_df[\"Diagnosis\"].apply(lambda x: 1 if x in [\"TCMR\", \"ABMR\", \"Mixed\"] else 0)"
   ]
  },
  {
   "cell_type": "code",
   "execution_count": 15,
   "id": "6ebae9f3",
   "metadata": {},
   "outputs": [],
   "source": [
    "from sklearn.model_selection import train_test_split\n",
    "\n",
    "X_train, X_test, y_train, y_test = train_test_split(\n",
    "    X, y, test_size=0.3, random_state=42, stratify=y\n",
    ")"
   ]
  },
  {
   "cell_type": "code",
   "execution_count": 16,
   "id": "454831c8",
   "metadata": {},
   "outputs": [
    {
     "name": "stdout",
     "output_type": "stream",
     "text": [
      "Logistic Regression Coefficients:\n",
      "       Gene  Coefficient\n",
      "1     PLA1A     0.389588\n",
      "0      CCL4     0.319277\n",
      "4      RBP7    -0.254291\n",
      "2  FAM26F.1     0.226847\n",
      "3    CXCL11     0.193681\n",
      "5      IDO1     0.147211\n"
     ]
    },
    {
     "data": {
      "image/png": "[encoded data removed]",
      "text/plain": [
       "<Figure size 800x500 with 1 Axes>"
      ]
     },
     "metadata": {},
     "output_type": "display_data"
    },
    {
     "name": "stdout",
     "output_type": "stream",
     "text": [
      "\n",
      "AUC - Logistic: 0.839\n",
      "AUC - Random Forest: 0.842\n"
     ]
    }
   ],
   "source": [
    "from sklearn.linear_model import LogisticRegression\n",
    "from sklearn.ensemble import RandomForestClassifier\n",
    "from sklearn.metrics import roc_auc_score, classification_report\n",
    "import matplotlib.pyplot as plt\n",
    "import seaborn as sns\n",
    "\n",
    "# Logistic 回归模型（解释性强）\n",
    "lr = LogisticRegression(max_iter=1000)\n",
    "lr.fit(X_train, y_train)\n",
    "lr_auc = roc_auc_score(y_test, lr.predict_proba(X_test)[:, 1])\n",
    "\n",
    "# 打印 Logistic 的权重\n",
    "coef_df = pd.DataFrame({\n",
    "    \"Gene\": X.columns,\n",
    "    \"Coefficient\": lr.coef_[0]\n",
    "}).sort_values(by=\"Coefficient\", key=abs, ascending=False)\n",
    "print(\"Logistic Regression Coefficients:\")\n",
    "print(coef_df)\n",
    "\n",
    "# 随机森林模型（增强性能）\n",
    "rf = RandomForestClassifier(n_estimators=100, random_state=42)\n",
    "rf.fit(X_train, y_train)\n",
    "rf_auc = roc_auc_score(y_test, rf.predict_proba(X_test)[:, 1])\n",
    "\n",
    "# 打印重要性\n",
    "importances_df = pd.DataFrame({\n",
    "    \"Gene\": X.columns,\n",
    "    \"Importance\": rf.feature_importances_\n",
    "}).sort_values(by=\"Importance\", ascending=False)\n",
    "\n",
    "# 可视化重要性\n",
    "plt.figure(figsize=(8, 5))\n",
    "sns.barplot(data=importances_df, x=\"Importance\", y=\"Gene\")\n",
    "plt.title(\"Random Forest Feature Importance\")\n",
    "plt.tight_layout()\n",
    "plt.show()\n",
    "\n",
    "# 打印模型效果\n",
    "print(f\"\\nAUC - Logistic: {lr_auc:.3f}\")\n",
    "print(f\"AUC - Random Forest: {rf_auc:.3f}\")"
   ]
  },
  {
   "cell_type": "code",
   "execution_count": 17,
   "id": "fc3d0374",
   "metadata": {},
   "outputs": [
    {
     "name": "stdout",
     "output_type": "stream",
     "text": [
      " Stacking AUC: 0.850\n"
     ]
    }
   ],
   "source": [
    "#### STACKING MODEL\n",
    "from sklearn.ensemble import StackingClassifier\n",
    "from sklearn.linear_model import LogisticRegression\n",
    "from sklearn.ensemble import RandomForestClassifier\n",
    "\n",
    "# 基础模型（level-0）\n",
    "base_models = [\n",
    "    ('lr', LogisticRegression(max_iter=1000)),\n",
    "    ('rf', RandomForestClassifier(n_estimators=100))\n",
    "]\n",
    "\n",
    "# 堆叠后的元模型（level-1）\n",
    "stacked_model = StackingClassifier(\n",
    "    estimators=base_models,\n",
    "    final_estimator=LogisticRegression(),  # 也可以用 SVM 等\n",
    "    cv=5\n",
    ")\n",
    "\n",
    "# 训练 & 评估\n",
    "stacked_model.fit(X_train, y_train)\n",
    "stacked_auc = roc_auc_score(y_test, stacked_model.predict_proba(X_test)[:, 1])\n",
    "print(f\" Stacking AUC: {stacked_auc:.3f}\")"
   ]
  },
  {
   "cell_type": "markdown",
   "id": "0980d802",
   "metadata": {},
   "source": [
    "36059's cyto node hubgene"
   ]
  },
  {
   "cell_type": "code",
   "execution_count": 18,
   "id": "eff96c93",
   "metadata": {},
   "outputs": [],
   "source": [
    "hub_genes = [\"CXCL10\", \"IDO1\", \"LILRB2\", \"CXCL9\", \"CCL4\"]"
   ]
  },
  {
   "cell_type": "code",
   "execution_count": 19,
   "id": "5c3b5c29",
   "metadata": {},
   "outputs": [],
   "source": [
    "X = expression_df[hub_genes]\n",
    "\n",
    "# 处理标签（假设 'Rejection Status' 列存在）\n",
    "y = expression_df[\"Diagnosis\"].apply(lambda x: 1 if x in [\"TCMR\", \"ABMR\", \"Mixed\"] else 0)"
   ]
  },
  {
   "cell_type": "code",
   "execution_count": 20,
   "id": "70b39532",
   "metadata": {},
   "outputs": [],
   "source": [
    "from sklearn.model_selection import train_test_split\n",
    "\n",
    "X_train, X_test, y_train, y_test = train_test_split(\n",
    "    X, y, test_size=0.3, random_state=42, stratify=y\n",
    ")"
   ]
  },
  {
   "cell_type": "code",
   "execution_count": 21,
   "id": "644446fd",
   "metadata": {},
   "outputs": [
    {
     "name": "stdout",
     "output_type": "stream",
     "text": [
      "Logistic Regression Coefficients:\n",
      "     Gene  Coefficient\n",
      "1    IDO1     0.404301\n",
      "4    CCL4     0.368130\n",
      "2  LILRB2     0.363712\n",
      "0  CXCL10     0.217504\n",
      "3   CXCL9     0.036913\n"
     ]
    },
    {
     "data": {
      "image/png": "[encoded data removed]",
      "text/plain": [
       "<Figure size 800x500 with 1 Axes>"
      ]
     },
     "metadata": {},
     "output_type": "display_data"
    },
    {
     "name": "stdout",
     "output_type": "stream",
     "text": [
      "\n",
      "AUC - Logistic: 0.805\n",
      "AUC - Random Forest: 0.796\n"
     ]
    }
   ],
   "source": [
    "from sklearn.linear_model import LogisticRegression\n",
    "from sklearn.ensemble import RandomForestClassifier\n",
    "from sklearn.metrics import roc_auc_score, classification_report\n",
    "import matplotlib.pyplot as plt\n",
    "import seaborn as sns\n",
    "\n",
    "# Logistic 回归模型（解释性强）\n",
    "lr = LogisticRegression(max_iter=1000)\n",
    "lr.fit(X_train, y_train)\n",
    "lr_auc = roc_auc_score(y_test, lr.predict_proba(X_test)[:, 1])\n",
    "\n",
    "# 打印 Logistic 的权重\n",
    "coef_df = pd.DataFrame({\n",
    "    \"Gene\": X.columns,\n",
    "    \"Coefficient\": lr.coef_[0]\n",
    "}).sort_values(by=\"Coefficient\", key=abs, ascending=False)\n",
    "print(\"Logistic Regression Coefficients:\")\n",
    "print(coef_df)\n",
    "\n",
    "# 随机森林模型（增强性能）\n",
    "rf = RandomForestClassifier(n_estimators=100, random_state=42)\n",
    "rf.fit(X_train, y_train)\n",
    "rf_auc = roc_auc_score(y_test, rf.predict_proba(X_test)[:, 1])\n",
    "\n",
    "# 打印重要性\n",
    "importances_df = pd.DataFrame({\n",
    "    \"Gene\": X.columns,\n",
    "    \"Importance\": rf.feature_importances_\n",
    "}).sort_values(by=\"Importance\", ascending=False)\n",
    "\n",
    "# 可视化重要性\n",
    "plt.figure(figsize=(8, 5))\n",
    "sns.barplot(data=importances_df, x=\"Importance\", y=\"Gene\")\n",
    "plt.title(\"Random Forest Feature Importance\")\n",
    "plt.tight_layout()\n",
    "plt.show()\n",
    "\n",
    "# 打印模型效果\n",
    "print(f\"\\nAUC - Logistic: {lr_auc:.3f}\")\n",
    "print(f\"AUC - Random Forest: {rf_auc:.3f}\")"
   ]
  },
  {
   "cell_type": "code",
   "execution_count": 22,
   "id": "5dec314c",
   "metadata": {},
   "outputs": [
    {
     "name": "stdout",
     "output_type": "stream",
     "text": [
      " Stacking AUC: 0.809\n"
     ]
    }
   ],
   "source": [
    "#### STACKING MODEL\n",
    "from sklearn.ensemble import StackingClassifier\n",
    "from sklearn.linear_model import LogisticRegression\n",
    "from sklearn.ensemble import RandomForestClassifier\n",
    "\n",
    "# 基础模型（level-0）\n",
    "base_models = [\n",
    "    ('lr', LogisticRegression(max_iter=1000)),\n",
    "    ('rf', RandomForestClassifier(n_estimators=100))\n",
    "]\n",
    "\n",
    "# 堆叠后的元模型（level-1）\n",
    "stacked_model = StackingClassifier(\n",
    "    estimators=base_models,\n",
    "    final_estimator=LogisticRegression(),  # 也可以用 SVM 等\n",
    "    cv=5\n",
    ")\n",
    "\n",
    "# 训练 & 评估\n",
    "stacked_model.fit(X_train, y_train)\n",
    "stacked_auc = roc_auc_score(y_test, stacked_model.predict_proba(X_test)[:, 1])\n",
    "print(f\" Stacking AUC: {stacked_auc:.3f}\")"
   ]
  },
  {
   "cell_type": "markdown",
   "id": "14a88136",
   "metadata": {},
   "source": [
    "48581's interval hub gene"
   ]
  },
  {
   "cell_type": "code",
   "execution_count": 39,
   "id": "f2b4a362",
   "metadata": {},
   "outputs": [],
   "source": [
    "hub_genes = [\"SCMH1\", \"WDR3\", \"LOC100507073\"]"
   ]
  },
  {
   "cell_type": "code",
   "execution_count": 41,
   "id": "415465e8",
   "metadata": {},
   "outputs": [
    {
     "name": "stdout",
     "output_type": "stream",
     "text": [
      "Logistic Regression Coefficients:\n",
      "           Gene  Coefficient\n",
      "0         SCMH1    -1.163216\n",
      "1          WDR3     0.558516\n",
      "2  LOC100507073     0.275316\n"
     ]
    },
    {
     "data": {
      "image/png": "[encoded data removed]",
      "text/plain": [
       "<Figure size 800x500 with 1 Axes>"
      ]
     },
     "metadata": {},
     "output_type": "display_data"
    },
    {
     "name": "stdout",
     "output_type": "stream",
     "text": [
      "\n",
      "AUC - Logistic: 0.598\n",
      "AUC - Random Forest: 0.534\n"
     ]
    }
   ],
   "source": [
    "X = expression_df[hub_genes]\n",
    "\n",
    "# 处理标签（假设 'Rejection Status' 列存在）\n",
    "y = expression_df[\"Diagnosis\"].apply(lambda x: 1 if x in [\"TCMR\", \"ABMR\", \"Mixed\"] else 0)\n",
    "\n",
    "from sklearn.model_selection import train_test_split\n",
    "\n",
    "X_train, X_test, y_train, y_test = train_test_split(\n",
    "    X, y, test_size=0.3, random_state=42, stratify=y\n",
    ")\n",
    "\n",
    "from sklearn.linear_model import LogisticRegression\n",
    "from sklearn.ensemble import RandomForestClassifier\n",
    "from sklearn.metrics import roc_auc_score, classification_report\n",
    "import matplotlib.pyplot as plt\n",
    "import seaborn as sns\n",
    "\n",
    "# Logistic 回归模型（解释性强）\n",
    "lr = LogisticRegression(max_iter=1000)\n",
    "lr.fit(X_train, y_train)\n",
    "lr_auc = roc_auc_score(y_test, lr.predict_proba(X_test)[:, 1])\n",
    "\n",
    "# 打印 Logistic 的权重\n",
    "coef_df = pd.DataFrame({\n",
    "    \"Gene\": X.columns,\n",
    "    \"Coefficient\": lr.coef_[0]\n",
    "}).sort_values(by=\"Coefficient\", key=abs, ascending=False)\n",
    "print(\"Logistic Regression Coefficients:\")\n",
    "print(coef_df)\n",
    "\n",
    "# 随机森林模型（增强性能）\n",
    "rf = RandomForestClassifier(n_estimators=100, random_state=42)\n",
    "rf.fit(X_train, y_train)\n",
    "rf_auc = roc_auc_score(y_test, rf.predict_proba(X_test)[:, 1])\n",
    "\n",
    "# 打印重要性\n",
    "importances_df = pd.DataFrame({\n",
    "    \"Gene\": X.columns,\n",
    "    \"Importance\": rf.feature_importances_\n",
    "}).sort_values(by=\"Importance\", ascending=False)\n",
    "\n",
    "# 可视化重要性\n",
    "plt.figure(figsize=(8, 5))\n",
    "sns.barplot(data=importances_df, x=\"Importance\", y=\"Gene\")\n",
    "plt.title(\"Random Forest Feature Importance\")\n",
    "plt.tight_layout()\n",
    "plt.show()\n",
    "\n",
    "# 打印模型效果\n",
    "print(f\"\\nAUC - Logistic: {lr_auc:.3f}\")\n",
    "print(f\"AUC - Random Forest: {rf_auc:.3f}\")"
   ]
  },
  {
   "cell_type": "code",
   "execution_count": 42,
   "id": "a2286b91",
   "metadata": {},
   "outputs": [
    {
     "name": "stdout",
     "output_type": "stream",
     "text": [
      " Stacking AUC: 0.559\n"
     ]
    }
   ],
   "source": [
    "#### STACKING MODEL\n",
    "from sklearn.ensemble import StackingClassifier\n",
    "from sklearn.linear_model import LogisticRegression\n",
    "from sklearn.ensemble import RandomForestClassifier\n",
    "\n",
    "# 基础模型（level-0）\n",
    "base_models = [\n",
    "    ('lr', LogisticRegression(max_iter=1000)),\n",
    "    ('rf', RandomForestClassifier(n_estimators=100))\n",
    "]\n",
    "\n",
    "# 堆叠后的元模型（level-1）\n",
    "stacked_model = StackingClassifier(\n",
    "    estimators=base_models,\n",
    "    final_estimator=LogisticRegression(),  # 也可以用 SVM 等\n",
    "    cv=5\n",
    ")\n",
    "\n",
    "# 训练 & 评估\n",
    "stacked_model.fit(X_train, y_train)\n",
    "stacked_auc = roc_auc_score(y_test, stacked_model.predict_proba(X_test)[:, 1])\n",
    "print(f\" Stacking AUC: {stacked_auc:.3f}\")"
   ]
  },
  {
   "cell_type": "markdown",
   "id": "5bafe774",
   "metadata": {},
   "source": [
    "48581's cyto node hub gene"
   ]
  },
  {
   "cell_type": "code",
   "execution_count": 43,
   "id": "b555e9e1",
   "metadata": {},
   "outputs": [],
   "source": [
    "hub_genes = [\"CXCL13\", \"LILRB2\", \"CD8A\", \"FOS\", \"RGS1\"]"
   ]
  },
  {
   "cell_type": "code",
   "execution_count": 45,
   "id": "b55d5722",
   "metadata": {},
   "outputs": [
    {
     "name": "stdout",
     "output_type": "stream",
     "text": [
      "Logistic Regression Coefficients:\n",
      "     Gene  Coefficient\n",
      "1  LILRB2     1.498378\n",
      "2    CD8A     0.671417\n",
      "3     FOS    -0.251463\n",
      "4    RGS1    -0.243310\n",
      "0  CXCL13    -0.112273\n"
     ]
    },
    {
     "data": {
      "image/png": "[encoded data removed]",
      "text/plain": [
       "<Figure size 800x500 with 1 Axes>"
      ]
     },
     "metadata": {},
     "output_type": "display_data"
    },
    {
     "name": "stdout",
     "output_type": "stream",
     "text": [
      "\n",
      "AUC - Logistic: 0.711\n",
      "AUC - Random Forest: 0.690\n"
     ]
    }
   ],
   "source": [
    "X = expression_df[hub_genes]\n",
    "\n",
    "# 处理标签（假设 'Rejection Status' 列存在）\n",
    "y = expression_df[\"Diagnosis\"].apply(lambda x: 1 if x in [\"TCMR\", \"ABMR\", \"Mixed\"] else 0)\n",
    "\n",
    "from sklearn.model_selection import train_test_split\n",
    "\n",
    "X_train, X_test, y_train, y_test = train_test_split(\n",
    "    X, y, test_size=0.3, random_state=42, stratify=y\n",
    ")\n",
    "\n",
    "from sklearn.linear_model import LogisticRegression\n",
    "from sklearn.ensemble import RandomForestClassifier\n",
    "from sklearn.metrics import roc_auc_score, classification_report\n",
    "import matplotlib.pyplot as plt\n",
    "import seaborn as sns\n",
    "\n",
    "# Logistic 回归模型（解释性强）\n",
    "lr = LogisticRegression(max_iter=1000)\n",
    "lr.fit(X_train, y_train)\n",
    "lr_auc = roc_auc_score(y_test, lr.predict_proba(X_test)[:, 1])\n",
    "\n",
    "# 打印 Logistic 的权重\n",
    "coef_df = pd.DataFrame({\n",
    "    \"Gene\": X.columns,\n",
    "    \"Coefficient\": lr.coef_[0]\n",
    "}).sort_values(by=\"Coefficient\", key=abs, ascending=False)\n",
    "print(\"Logistic Regression Coefficients:\")\n",
    "print(coef_df)\n",
    "\n",
    "# 随机森林模型（增强性能）\n",
    "rf = RandomForestClassifier(n_estimators=100, random_state=42)\n",
    "rf.fit(X_train, y_train)\n",
    "rf_auc = roc_auc_score(y_test, rf.predict_proba(X_test)[:, 1])\n",
    "\n",
    "# 打印重要性\n",
    "importances_df = pd.DataFrame({\n",
    "    \"Gene\": X.columns,\n",
    "    \"Importance\": rf.feature_importances_\n",
    "}).sort_values(by=\"Importance\", ascending=False)\n",
    "\n",
    "# 可视化重要性\n",
    "plt.figure(figsize=(8, 5))\n",
    "sns.barplot(data=importances_df, x=\"Importance\", y=\"Gene\")\n",
    "plt.title(\"Random Forest Feature Importance\")\n",
    "plt.tight_layout()\n",
    "plt.show()\n",
    "\n",
    "# 打印模型效果\n",
    "print(f\"\\nAUC - Logistic: {lr_auc:.3f}\")\n",
    "print(f\"AUC - Random Forest: {rf_auc:.3f}\")"
   ]
  },
  {
   "cell_type": "code",
   "execution_count": 46,
   "id": "9c6c0d36",
   "metadata": {},
   "outputs": [
    {
     "name": "stdout",
     "output_type": "stream",
     "text": [
      " Stacking AUC: 0.714\n"
     ]
    }
   ],
   "source": [
    "#### STACKING MODEL\n",
    "from sklearn.ensemble import StackingClassifier\n",
    "from sklearn.linear_model import LogisticRegression\n",
    "from sklearn.ensemble import RandomForestClassifier\n",
    "\n",
    "# 基础模型（level-0）\n",
    "base_models = [\n",
    "    ('lr', LogisticRegression(max_iter=1000)),\n",
    "    ('rf', RandomForestClassifier(n_estimators=100))\n",
    "]\n",
    "\n",
    "# 堆叠后的元模型（level-1）\n",
    "stacked_model = StackingClassifier(\n",
    "    estimators=base_models,\n",
    "    final_estimator=LogisticRegression(),  # 也可以用 SVM 等\n",
    "    cv=5\n",
    ")\n",
    "\n",
    "# 训练 & 评估\n",
    "stacked_model.fit(X_train, y_train)\n",
    "stacked_auc = roc_auc_score(y_test, stacked_model.predict_proba(X_test)[:, 1])\n",
    "print(f\" Stacking AUC: {stacked_auc:.3f}\")"
   ]
  },
  {
   "cell_type": "markdown",
   "id": "d4117c24",
   "metadata": {},
   "source": [
    "50058's interval hub gene"
   ]
  },
  {
   "cell_type": "code",
   "execution_count": 23,
   "id": "42a22e9a",
   "metadata": {},
   "outputs": [],
   "source": [
    "hub_genes = [\"FAM26F.1\", \"GPR171\", \"229668_at\", \"B2M.2\", \"FAXDC2\", \"CCL4\", \"CXCL11\", \"SOST\"]"
   ]
  },
  {
   "cell_type": "code",
   "execution_count": 24,
   "id": "417942f5",
   "metadata": {},
   "outputs": [
    {
     "name": "stdout",
     "output_type": "stream",
     "text": [
      "Logistic Regression Coefficients:\n",
      "        Gene  Coefficient\n",
      "2  229668_at     0.804802\n",
      "4     FAXDC2     0.615580\n",
      "5       CCL4     0.466501\n",
      "7       SOST    -0.449536\n",
      "6     CXCL11     0.384549\n",
      "0   FAM26F.1     0.202620\n",
      "3      B2M.2     0.136388\n",
      "1     GPR171     0.059961\n"
     ]
    },
    {
     "data": {
      "image/png": "[encoded data removed]",
      "text/plain": [
       "<Figure size 800x500 with 1 Axes>"
      ]
     },
     "metadata": {},
     "output_type": "display_data"
    },
    {
     "name": "stdout",
     "output_type": "stream",
     "text": [
      "\n",
      "AUC - Logistic: 0.842\n",
      "AUC - Random Forest: 0.823\n"
     ]
    }
   ],
   "source": [
    "X = expression_df[hub_genes]\n",
    "\n",
    "# 处理标签（假设 'Rejection Status' 列存在）\n",
    "y = expression_df[\"Diagnosis\"].apply(lambda x: 1 if x in [\"TCMR\", \"ABMR\", \"Mixed\"] else 0)\n",
    "\n",
    "from sklearn.model_selection import train_test_split\n",
    "\n",
    "X_train, X_test, y_train, y_test = train_test_split(\n",
    "    X, y, test_size=0.3, random_state=42, stratify=y\n",
    ")\n",
    "\n",
    "from sklearn.linear_model import LogisticRegression\n",
    "from sklearn.ensemble import RandomForestClassifier\n",
    "from sklearn.metrics import roc_auc_score, classification_report\n",
    "import matplotlib.pyplot as plt\n",
    "import seaborn as sns\n",
    "\n",
    "# Logistic 回归模型（解释性强）\n",
    "lr = LogisticRegression(max_iter=1000)\n",
    "lr.fit(X_train, y_train)\n",
    "lr_auc = roc_auc_score(y_test, lr.predict_proba(X_test)[:, 1])\n",
    "\n",
    "# 打印 Logistic 的权重\n",
    "coef_df = pd.DataFrame({\n",
    "    \"Gene\": X.columns,\n",
    "    \"Coefficient\": lr.coef_[0]\n",
    "}).sort_values(by=\"Coefficient\", key=abs, ascending=False)\n",
    "print(\"Logistic Regression Coefficients:\")\n",
    "print(coef_df)\n",
    "\n",
    "# 随机森林模型（增强性能）\n",
    "rf = RandomForestClassifier(n_estimators=100, random_state=42)\n",
    "rf.fit(X_train, y_train)\n",
    "rf_auc = roc_auc_score(y_test, rf.predict_proba(X_test)[:, 1])\n",
    "\n",
    "# 打印重要性\n",
    "importances_df = pd.DataFrame({\n",
    "    \"Gene\": X.columns,\n",
    "    \"Importance\": rf.feature_importances_\n",
    "}).sort_values(by=\"Importance\", ascending=False)\n",
    "\n",
    "# 可视化重要性\n",
    "plt.figure(figsize=(8, 5))\n",
    "sns.barplot(data=importances_df, x=\"Importance\", y=\"Gene\")\n",
    "plt.title(\"Random Forest Feature Importance\")\n",
    "plt.tight_layout()\n",
    "plt.show()\n",
    "\n",
    "# 打印模型效果\n",
    "print(f\"\\nAUC - Logistic: {lr_auc:.3f}\")\n",
    "print(f\"AUC - Random Forest: {rf_auc:.3f}\")"
   ]
  },
  {
   "cell_type": "code",
   "execution_count": 25,
   "id": "6e35d77f",
   "metadata": {},
   "outputs": [
    {
     "name": "stdout",
     "output_type": "stream",
     "text": [
      " Stacking AUC: 0.848\n"
     ]
    }
   ],
   "source": [
    "#### STACKING MODEL\n",
    "from sklearn.ensemble import StackingClassifier\n",
    "from sklearn.linear_model import LogisticRegression\n",
    "from sklearn.ensemble import RandomForestClassifier\n",
    "\n",
    "# 基础模型（level-0）\n",
    "base_models = [\n",
    "    ('lr', LogisticRegression(max_iter=1000)),\n",
    "    ('rf', RandomForestClassifier(n_estimators=100))\n",
    "]\n",
    "\n",
    "# 堆叠后的元模型（level-1）\n",
    "stacked_model = StackingClassifier(\n",
    "    estimators=base_models,\n",
    "    final_estimator=LogisticRegression(),  # 也可以用 SVM 等\n",
    "    cv=5\n",
    ")\n",
    "\n",
    "# 训练 & 评估\n",
    "stacked_model.fit(X_train, y_train)\n",
    "stacked_auc = roc_auc_score(y_test, stacked_model.predict_proba(X_test)[:, 1])\n",
    "print(f\" Stacking AUC: {stacked_auc:.3f}\")"
   ]
  },
  {
   "cell_type": "markdown",
   "id": "f3fd33a2",
   "metadata": {},
   "source": [
    "50058's cyto node hub gene"
   ]
  },
  {
   "cell_type": "code",
   "execution_count": 33,
   "id": "d79671c1",
   "metadata": {},
   "outputs": [],
   "source": [
    "hub_genes = [\"CXCL11\", \"B2M\", \"LCP2\", \"CCL4\",  \"FCGR3B\"]"
   ]
  },
  {
   "cell_type": "code",
   "execution_count": 34,
   "id": "710c62c2",
   "metadata": {},
   "outputs": [
    {
     "name": "stdout",
     "output_type": "stream",
     "text": [
      "Logistic Regression Coefficients:\n",
      "     Gene  Coefficient\n",
      "3    CCL4     0.604173\n",
      "0  CXCL11     0.423341\n",
      "1     B2M    -0.277477\n",
      "4  FCGR3B     0.074551\n",
      "2    LCP2     0.025606\n"
     ]
    },
    {
     "data": {
      "image/png": "[encoded data removed]",
      "text/plain": [
       "<Figure size 800x500 with 1 Axes>"
      ]
     },
     "metadata": {},
     "output_type": "display_data"
    },
    {
     "name": "stdout",
     "output_type": "stream",
     "text": [
      "\n",
      "AUC - Logistic: 0.838\n",
      "AUC - Random Forest: 0.845\n"
     ]
    }
   ],
   "source": [
    "X = expression_df[hub_genes]\n",
    "\n",
    "# 处理标签（假设 'Rejection Status' 列存在）\n",
    "y = expression_df[\"Diagnosis\"].apply(lambda x: 1 if x in [\"TCMR\", \"ABMR\", \"Mixed\"] else 0)\n",
    "\n",
    "from sklearn.model_selection import train_test_split\n",
    "\n",
    "X_train, X_test, y_train, y_test = train_test_split(\n",
    "    X, y, test_size=0.3, random_state=42, stratify=y\n",
    ")\n",
    "\n",
    "from sklearn.linear_model import LogisticRegression\n",
    "from sklearn.ensemble import RandomForestClassifier\n",
    "from sklearn.metrics import roc_auc_score, classification_report\n",
    "import matplotlib.pyplot as plt\n",
    "import seaborn as sns\n",
    "\n",
    "# Logistic 回归模型（解释性强）\n",
    "lr = LogisticRegression(max_iter=1000)\n",
    "lr.fit(X_train, y_train)\n",
    "lr_auc = roc_auc_score(y_test, lr.predict_proba(X_test)[:, 1])\n",
    "\n",
    "# 打印 Logistic 的权重\n",
    "coef_df = pd.DataFrame({\n",
    "    \"Gene\": X.columns,\n",
    "    \"Coefficient\": lr.coef_[0]\n",
    "}).sort_values(by=\"Coefficient\", key=abs, ascending=False)\n",
    "print(\"Logistic Regression Coefficients:\")\n",
    "print(coef_df)\n",
    "\n",
    "# 随机森林模型（增强性能）\n",
    "rf = RandomForestClassifier(n_estimators=100, random_state=42)\n",
    "rf.fit(X_train, y_train)\n",
    "rf_auc = roc_auc_score(y_test, rf.predict_proba(X_test)[:, 1])\n",
    "\n",
    "# 打印重要性\n",
    "importances_df = pd.DataFrame({\n",
    "    \"Gene\": X.columns,\n",
    "    \"Importance\": rf.feature_importances_\n",
    "}).sort_values(by=\"Importance\", ascending=False)\n",
    "\n",
    "# 可视化重要性\n",
    "plt.figure(figsize=(8, 5))\n",
    "sns.barplot(data=importances_df, x=\"Importance\", y=\"Gene\")\n",
    "plt.title(\"Random Forest Feature Importance\")\n",
    "plt.tight_layout()\n",
    "plt.show()\n",
    "\n",
    "# 打印模型效果\n",
    "print(f\"\\nAUC - Logistic: {lr_auc:.3f}\")\n",
    "print(f\"AUC - Random Forest: {rf_auc:.3f}\")"
   ]
  },
  {
   "cell_type": "code",
   "execution_count": 38,
   "id": "8cff1446",
   "metadata": {},
   "outputs": [
    {
     "name": "stdout",
     "output_type": "stream",
     "text": [
      " Stacking AUC: 0.840\n"
     ]
    }
   ],
   "source": [
    "#### STACKING MODEL\n",
    "from sklearn.ensemble import StackingClassifier\n",
    "from sklearn.linear_model import LogisticRegression\n",
    "from sklearn.ensemble import RandomForestClassifier\n",
    "\n",
    "# 基础模型（level-0）\n",
    "base_models = [\n",
    "    ('lr', LogisticRegression(max_iter=1000)),\n",
    "    ('rf', RandomForestClassifier(n_estimators=100))\n",
    "]\n",
    "\n",
    "# 堆叠后的元模型（level-1）\n",
    "stacked_model = StackingClassifier(\n",
    "    estimators=base_models,\n",
    "    final_estimator=LogisticRegression(),  # 也可以用 SVM 等\n",
    "    cv=5\n",
    ")\n",
    "\n",
    "# 训练 & 评估\n",
    "stacked_model.fit(X_train, y_train)\n",
    "stacked_auc = roc_auc_score(y_test, stacked_model.predict_proba(X_test)[:, 1])\n",
    "print(f\" Stacking AUC: {stacked_auc:.3f}\")"
   ]
  }
 ],
 "metadata": {
  "kernelspec": {
   "display_name": "Python 3",
   "language": "python",
   "name": "python3"
  },
  "language_info": {
   "codemirror_mode": {
    "name": "ipython",
    "version": 3
   },
   "file_extension": ".py",
   "mimetype": "text/x-python",
   "name": "python",
   "nbconvert_exporter": "python",
   "pygments_lexer": "ipython3",
   "version": "3.11.9"
  }
 },
 "nbformat": 4,
 "nbformat_minor": 5
}
