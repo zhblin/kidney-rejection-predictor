{
 "cells": [
  {
   "cell_type": "markdown",
   "id": "37215149",
   "metadata": {},
   "source": [
    "21374 Dataset hubgene prediction & model selection"
   ]
  },
  {
   "cell_type": "code",
   "execution_count": 30,
   "id": "04a5954d",
   "metadata": {},
   "outputs": [],
   "source": [
    "import pandas as pd\n",
    "\n",
    "# 读取表达矩阵（行为样本，列为基因 + 标签）\n",
    "expression_df = pd.read_csv(\"gse21374.csv\", index_col=0)"
   ]
  },
  {
   "cell_type": "code",
   "execution_count": 14,
   "id": "c412bec5",
   "metadata": {},
   "outputs": [
    {
     "data": {
      "text/html": [
       "<div>\n",
       "<style scoped>\n",
       "    .dataframe tbody tr th:only-of-type {\n",
       "        vertical-align: middle;\n",
       "    }\n",
       "\n",
       "    .dataframe tbody tr th {\n",
       "        vertical-align: top;\n",
       "    }\n",
       "\n",
       "    .dataframe thead th {\n",
       "        text-align: right;\n",
       "    }\n",
       "</style>\n",
       "<table border=\"1\" class=\"dataframe\">\n",
       "  <thead>\n",
       "    <tr style=\"text-align: right;\">\n",
       "      <th></th>\n",
       "      <th>DDR1 /// MIR4640</th>\n",
       "      <th>RFC2</th>\n",
       "      <th>HSPA6</th>\n",
       "      <th>PAX8</th>\n",
       "      <th>GUCA1A</th>\n",
       "      <th>MIR5193 /// UBA7</th>\n",
       "      <th>THRA</th>\n",
       "      <th>PTPN21</th>\n",
       "      <th>CCL5</th>\n",
       "      <th>CYP2E1</th>\n",
       "      <th>...</th>\n",
       "      <th>AFFX-r2-Ec-bioB-3_at</th>\n",
       "      <th>AFFX-r2-Ec-bioB-5_at</th>\n",
       "      <th>AFFX-r2-Ec-bioB-M_at</th>\n",
       "      <th>AFFX-r2-Ec-bioC-3_at</th>\n",
       "      <th>AFFX-r2-Ec-bioC-5_at</th>\n",
       "      <th>AFFX-r2-Ec-bioD-3_at</th>\n",
       "      <th>AFFX-r2-Ec-bioD-5_at</th>\n",
       "      <th>AFFX-r2-P1-cre-3_at</th>\n",
       "      <th>AFFX-r2-P1-cre-5_at</th>\n",
       "      <th>Rejection Status</th>\n",
       "    </tr>\n",
       "  </thead>\n",
       "  <tbody>\n",
       "    <tr>\n",
       "      <th>GSM533921</th>\n",
       "      <td>9.977242</td>\n",
       "      <td>6.600568</td>\n",
       "      <td>5.785312</td>\n",
       "      <td>10.792120</td>\n",
       "      <td>3.136564</td>\n",
       "      <td>7.374997</td>\n",
       "      <td>5.140061</td>\n",
       "      <td>5.069820</td>\n",
       "      <td>6.536344</td>\n",
       "      <td>3.666495</td>\n",
       "      <td>...</td>\n",
       "      <td>8.531635</td>\n",
       "      <td>8.459645</td>\n",
       "      <td>8.269925</td>\n",
       "      <td>9.848628</td>\n",
       "      <td>9.559851</td>\n",
       "      <td>11.928238</td>\n",
       "      <td>11.583730</td>\n",
       "      <td>13.653370</td>\n",
       "      <td>13.386179</td>\n",
       "      <td>nonrej</td>\n",
       "    </tr>\n",
       "    <tr>\n",
       "      <th>GSM533922</th>\n",
       "      <td>10.528307</td>\n",
       "      <td>6.488367</td>\n",
       "      <td>5.658249</td>\n",
       "      <td>10.973320</td>\n",
       "      <td>3.228242</td>\n",
       "      <td>7.581415</td>\n",
       "      <td>5.416706</td>\n",
       "      <td>4.873167</td>\n",
       "      <td>6.463633</td>\n",
       "      <td>3.717725</td>\n",
       "      <td>...</td>\n",
       "      <td>8.734464</td>\n",
       "      <td>8.747167</td>\n",
       "      <td>8.409865</td>\n",
       "      <td>10.177910</td>\n",
       "      <td>9.784476</td>\n",
       "      <td>12.336352</td>\n",
       "      <td>11.898083</td>\n",
       "      <td>13.843765</td>\n",
       "      <td>13.632752</td>\n",
       "      <td>nonrej</td>\n",
       "    </tr>\n",
       "    <tr>\n",
       "      <th>GSM533923</th>\n",
       "      <td>10.676130</td>\n",
       "      <td>6.651939</td>\n",
       "      <td>5.856184</td>\n",
       "      <td>10.669966</td>\n",
       "      <td>2.907612</td>\n",
       "      <td>8.281132</td>\n",
       "      <td>5.269089</td>\n",
       "      <td>4.669336</td>\n",
       "      <td>8.707918</td>\n",
       "      <td>4.014568</td>\n",
       "      <td>...</td>\n",
       "      <td>8.376691</td>\n",
       "      <td>8.384332</td>\n",
       "      <td>8.132519</td>\n",
       "      <td>10.046965</td>\n",
       "      <td>9.569640</td>\n",
       "      <td>12.116085</td>\n",
       "      <td>11.832005</td>\n",
       "      <td>13.667481</td>\n",
       "      <td>13.378050</td>\n",
       "      <td>nonrej</td>\n",
       "    </tr>\n",
       "    <tr>\n",
       "      <th>GSM533924</th>\n",
       "      <td>9.586508</td>\n",
       "      <td>6.141822</td>\n",
       "      <td>5.866988</td>\n",
       "      <td>10.342068</td>\n",
       "      <td>3.091361</td>\n",
       "      <td>7.753586</td>\n",
       "      <td>5.319843</td>\n",
       "      <td>4.795367</td>\n",
       "      <td>6.231689</td>\n",
       "      <td>3.554402</td>\n",
       "      <td>...</td>\n",
       "      <td>8.457440</td>\n",
       "      <td>8.078330</td>\n",
       "      <td>7.824382</td>\n",
       "      <td>10.106060</td>\n",
       "      <td>9.697052</td>\n",
       "      <td>12.001332</td>\n",
       "      <td>11.741060</td>\n",
       "      <td>13.485789</td>\n",
       "      <td>13.207374</td>\n",
       "      <td>nonrej</td>\n",
       "    </tr>\n",
       "    <tr>\n",
       "      <th>GSM533925</th>\n",
       "      <td>9.979894</td>\n",
       "      <td>6.097477</td>\n",
       "      <td>5.563888</td>\n",
       "      <td>10.622161</td>\n",
       "      <td>3.055088</td>\n",
       "      <td>7.230532</td>\n",
       "      <td>5.203597</td>\n",
       "      <td>4.984110</td>\n",
       "      <td>5.227120</td>\n",
       "      <td>3.722629</td>\n",
       "      <td>...</td>\n",
       "      <td>8.204733</td>\n",
       "      <td>7.874217</td>\n",
       "      <td>7.472743</td>\n",
       "      <td>9.727984</td>\n",
       "      <td>9.370505</td>\n",
       "      <td>11.958363</td>\n",
       "      <td>11.536944</td>\n",
       "      <td>13.471246</td>\n",
       "      <td>13.135800</td>\n",
       "      <td>nonrej</td>\n",
       "    </tr>\n",
       "    <tr>\n",
       "      <th>...</th>\n",
       "      <td>...</td>\n",
       "      <td>...</td>\n",
       "      <td>...</td>\n",
       "      <td>...</td>\n",
       "      <td>...</td>\n",
       "      <td>...</td>\n",
       "      <td>...</td>\n",
       "      <td>...</td>\n",
       "      <td>...</td>\n",
       "      <td>...</td>\n",
       "      <td>...</td>\n",
       "      <td>...</td>\n",
       "      <td>...</td>\n",
       "      <td>...</td>\n",
       "      <td>...</td>\n",
       "      <td>...</td>\n",
       "      <td>...</td>\n",
       "      <td>...</td>\n",
       "      <td>...</td>\n",
       "      <td>...</td>\n",
       "      <td>...</td>\n",
       "    </tr>\n",
       "    <tr>\n",
       "      <th>GSM534198</th>\n",
       "      <td>9.915120</td>\n",
       "      <td>6.624997</td>\n",
       "      <td>5.568316</td>\n",
       "      <td>10.438484</td>\n",
       "      <td>3.103627</td>\n",
       "      <td>7.818179</td>\n",
       "      <td>5.421174</td>\n",
       "      <td>5.126141</td>\n",
       "      <td>6.215026</td>\n",
       "      <td>5.122113</td>\n",
       "      <td>...</td>\n",
       "      <td>7.993118</td>\n",
       "      <td>7.674132</td>\n",
       "      <td>7.387992</td>\n",
       "      <td>9.462764</td>\n",
       "      <td>9.072026</td>\n",
       "      <td>11.555894</td>\n",
       "      <td>11.048639</td>\n",
       "      <td>13.232026</td>\n",
       "      <td>12.899544</td>\n",
       "      <td>nonrej</td>\n",
       "    </tr>\n",
       "    <tr>\n",
       "      <th>GSM534199</th>\n",
       "      <td>10.144107</td>\n",
       "      <td>6.357931</td>\n",
       "      <td>5.652100</td>\n",
       "      <td>10.353695</td>\n",
       "      <td>3.146691</td>\n",
       "      <td>8.059700</td>\n",
       "      <td>5.402151</td>\n",
       "      <td>4.818083</td>\n",
       "      <td>8.423771</td>\n",
       "      <td>3.645498</td>\n",
       "      <td>...</td>\n",
       "      <td>8.000036</td>\n",
       "      <td>7.573051</td>\n",
       "      <td>7.360223</td>\n",
       "      <td>9.429183</td>\n",
       "      <td>9.008347</td>\n",
       "      <td>11.632159</td>\n",
       "      <td>11.113692</td>\n",
       "      <td>13.221589</td>\n",
       "      <td>12.937811</td>\n",
       "      <td>rej</td>\n",
       "    </tr>\n",
       "    <tr>\n",
       "      <th>GSM534200</th>\n",
       "      <td>10.561913</td>\n",
       "      <td>6.496042</td>\n",
       "      <td>5.696330</td>\n",
       "      <td>11.125695</td>\n",
       "      <td>3.236582</td>\n",
       "      <td>8.156774</td>\n",
       "      <td>5.411519</td>\n",
       "      <td>5.139511</td>\n",
       "      <td>5.891711</td>\n",
       "      <td>3.904116</td>\n",
       "      <td>...</td>\n",
       "      <td>8.167168</td>\n",
       "      <td>8.010875</td>\n",
       "      <td>7.881892</td>\n",
       "      <td>9.540081</td>\n",
       "      <td>9.151547</td>\n",
       "      <td>11.830302</td>\n",
       "      <td>11.330476</td>\n",
       "      <td>13.428277</td>\n",
       "      <td>13.152557</td>\n",
       "      <td>nonrej</td>\n",
       "    </tr>\n",
       "    <tr>\n",
       "      <th>GSM534201</th>\n",
       "      <td>10.179040</td>\n",
       "      <td>6.318934</td>\n",
       "      <td>6.072288</td>\n",
       "      <td>10.237774</td>\n",
       "      <td>3.112964</td>\n",
       "      <td>7.913483</td>\n",
       "      <td>5.462635</td>\n",
       "      <td>5.399999</td>\n",
       "      <td>8.669699</td>\n",
       "      <td>3.651492</td>\n",
       "      <td>...</td>\n",
       "      <td>8.556826</td>\n",
       "      <td>8.365313</td>\n",
       "      <td>8.160081</td>\n",
       "      <td>10.020628</td>\n",
       "      <td>9.670360</td>\n",
       "      <td>12.130981</td>\n",
       "      <td>11.740694</td>\n",
       "      <td>13.662238</td>\n",
       "      <td>13.427396</td>\n",
       "      <td>nonrej</td>\n",
       "    </tr>\n",
       "    <tr>\n",
       "      <th>GSM534202</th>\n",
       "      <td>9.801515</td>\n",
       "      <td>6.209618</td>\n",
       "      <td>5.657939</td>\n",
       "      <td>10.358064</td>\n",
       "      <td>3.134502</td>\n",
       "      <td>7.487442</td>\n",
       "      <td>5.552613</td>\n",
       "      <td>4.994002</td>\n",
       "      <td>5.107989</td>\n",
       "      <td>4.016128</td>\n",
       "      <td>...</td>\n",
       "      <td>8.830168</td>\n",
       "      <td>8.545098</td>\n",
       "      <td>8.232420</td>\n",
       "      <td>9.932995</td>\n",
       "      <td>9.664537</td>\n",
       "      <td>12.193851</td>\n",
       "      <td>11.828750</td>\n",
       "      <td>13.620108</td>\n",
       "      <td>13.334538</td>\n",
       "      <td>nonrej</td>\n",
       "    </tr>\n",
       "  </tbody>\n",
       "</table>\n",
       "<p>282 rows × 54676 columns</p>\n",
       "</div>"
      ],
      "text/plain": [
       "           DDR1 /// MIR4640      RFC2     HSPA6       PAX8    GUCA1A  \\\n",
       "GSM533921          9.977242  6.600568  5.785312  10.792120  3.136564   \n",
       "GSM533922         10.528307  6.488367  5.658249  10.973320  3.228242   \n",
       "GSM533923         10.676130  6.651939  5.856184  10.669966  2.907612   \n",
       "GSM533924          9.586508  6.141822  5.866988  10.342068  3.091361   \n",
       "GSM533925          9.979894  6.097477  5.563888  10.622161  3.055088   \n",
       "...                     ...       ...       ...        ...       ...   \n",
       "GSM534198          9.915120  6.624997  5.568316  10.438484  3.103627   \n",
       "GSM534199         10.144107  6.357931  5.652100  10.353695  3.146691   \n",
       "GSM534200         10.561913  6.496042  5.696330  11.125695  3.236582   \n",
       "GSM534201         10.179040  6.318934  6.072288  10.237774  3.112964   \n",
       "GSM534202          9.801515  6.209618  5.657939  10.358064  3.134502   \n",
       "\n",
       "           MIR5193 /// UBA7      THRA    PTPN21      CCL5    CYP2E1  ...  \\\n",
       "GSM533921          7.374997  5.140061  5.069820  6.536344  3.666495  ...   \n",
       "GSM533922          7.581415  5.416706  4.873167  6.463633  3.717725  ...   \n",
       "GSM533923          8.281132  5.269089  4.669336  8.707918  4.014568  ...   \n",
       "GSM533924          7.753586  5.319843  4.795367  6.231689  3.554402  ...   \n",
       "GSM533925          7.230532  5.203597  4.984110  5.227120  3.722629  ...   \n",
       "...                     ...       ...       ...       ...       ...  ...   \n",
       "GSM534198          7.818179  5.421174  5.126141  6.215026  5.122113  ...   \n",
       "GSM534199          8.059700  5.402151  4.818083  8.423771  3.645498  ...   \n",
       "GSM534200          8.156774  5.411519  5.139511  5.891711  3.904116  ...   \n",
       "GSM534201          7.913483  5.462635  5.399999  8.669699  3.651492  ...   \n",
       "GSM534202          7.487442  5.552613  4.994002  5.107989  4.016128  ...   \n",
       "\n",
       "           AFFX-r2-Ec-bioB-3_at  AFFX-r2-Ec-bioB-5_at  AFFX-r2-Ec-bioB-M_at  \\\n",
       "GSM533921              8.531635              8.459645              8.269925   \n",
       "GSM533922              8.734464              8.747167              8.409865   \n",
       "GSM533923              8.376691              8.384332              8.132519   \n",
       "GSM533924              8.457440              8.078330              7.824382   \n",
       "GSM533925              8.204733              7.874217              7.472743   \n",
       "...                         ...                   ...                   ...   \n",
       "GSM534198              7.993118              7.674132              7.387992   \n",
       "GSM534199              8.000036              7.573051              7.360223   \n",
       "GSM534200              8.167168              8.010875              7.881892   \n",
       "GSM534201              8.556826              8.365313              8.160081   \n",
       "GSM534202              8.830168              8.545098              8.232420   \n",
       "\n",
       "           AFFX-r2-Ec-bioC-3_at  AFFX-r2-Ec-bioC-5_at  AFFX-r2-Ec-bioD-3_at  \\\n",
       "GSM533921              9.848628              9.559851             11.928238   \n",
       "GSM533922             10.177910              9.784476             12.336352   \n",
       "GSM533923             10.046965              9.569640             12.116085   \n",
       "GSM533924             10.106060              9.697052             12.001332   \n",
       "GSM533925              9.727984              9.370505             11.958363   \n",
       "...                         ...                   ...                   ...   \n",
       "GSM534198              9.462764              9.072026             11.555894   \n",
       "GSM534199              9.429183              9.008347             11.632159   \n",
       "GSM534200              9.540081              9.151547             11.830302   \n",
       "GSM534201             10.020628              9.670360             12.130981   \n",
       "GSM534202              9.932995              9.664537             12.193851   \n",
       "\n",
       "           AFFX-r2-Ec-bioD-5_at  AFFX-r2-P1-cre-3_at  AFFX-r2-P1-cre-5_at  \\\n",
       "GSM533921             11.583730            13.653370            13.386179   \n",
       "GSM533922             11.898083            13.843765            13.632752   \n",
       "GSM533923             11.832005            13.667481            13.378050   \n",
       "GSM533924             11.741060            13.485789            13.207374   \n",
       "GSM533925             11.536944            13.471246            13.135800   \n",
       "...                         ...                  ...                  ...   \n",
       "GSM534198             11.048639            13.232026            12.899544   \n",
       "GSM534199             11.113692            13.221589            12.937811   \n",
       "GSM534200             11.330476            13.428277            13.152557   \n",
       "GSM534201             11.740694            13.662238            13.427396   \n",
       "GSM534202             11.828750            13.620108            13.334538   \n",
       "\n",
       "           Rejection Status  \n",
       "GSM533921            nonrej  \n",
       "GSM533922            nonrej  \n",
       "GSM533923            nonrej  \n",
       "GSM533924            nonrej  \n",
       "GSM533925            nonrej  \n",
       "...                     ...  \n",
       "GSM534198            nonrej  \n",
       "GSM534199               rej  \n",
       "GSM534200            nonrej  \n",
       "GSM534201            nonrej  \n",
       "GSM534202            nonrej  \n",
       "\n",
       "[282 rows x 54676 columns]"
      ]
     },
     "execution_count": 14,
     "metadata": {},
     "output_type": "execute_result"
    }
   ],
   "source": [
    "expression_df"
   ]
  },
  {
   "cell_type": "markdown",
   "id": "b391a1a6",
   "metadata": {},
   "source": [
    "21374's interval Hubgene"
   ]
  },
  {
   "cell_type": "code",
   "execution_count": 8,
   "id": "901940e1",
   "metadata": {},
   "outputs": [],
   "source": [
    "hub_genes = [\"CXCL9\", \"MIR155 /// MIR155HG\", \"CD8A\", \"CLIC2\", \"GBP5.1\", \"235229_at\", \"RP1-93H18.6\"]"
   ]
  },
  {
   "cell_type": "code",
   "execution_count": 9,
   "id": "a8d2cd49",
   "metadata": {},
   "outputs": [],
   "source": [
    "X = expression_df[hub_genes]\n",
    "\n",
    "# 处理标签（假设 'Rejection Status' 列存在）\n",
    "y = expression_df[\"Rejection Status\"].map({\"rej\": 1, \"nonrej\": 0})"
   ]
  },
  {
   "cell_type": "code",
   "execution_count": 10,
   "id": "ddc72035",
   "metadata": {},
   "outputs": [],
   "source": [
    "from sklearn.model_selection import train_test_split\n",
    "\n",
    "X_train, X_test, y_train, y_test = train_test_split(\n",
    "    X, y, test_size=0.3, random_state=42, stratify=y\n",
    ")"
   ]
  },
  {
   "cell_type": "code",
   "execution_count": 11,
   "id": "7200554f",
   "metadata": {},
   "outputs": [
    {
     "name": "stdout",
     "output_type": "stream",
     "text": [
      "Logistic Regression Coefficients:\n",
      "                  Gene  Coefficient\n",
      "3                CLIC2     0.610288\n",
      "5            235229_at     0.450816\n",
      "1  MIR155 /// MIR155HG     0.198586\n",
      "6          RP1-93H18.6     0.187683\n",
      "2                 CD8A     0.152362\n",
      "4               GBP5.1    -0.056243\n",
      "0                CXCL9     0.027678\n"
     ]
    },
    {
     "data": {
      "image/png": "[encoded data removed]",
      "text/plain": [
       "<Figure size 800x500 with 1 Axes>"
      ]
     },
     "metadata": {},
     "output_type": "display_data"
    },
    {
     "name": "stdout",
     "output_type": "stream",
     "text": [
      "\n",
      "AUC - Logistic: 0.907\n",
      "AUC - Random Forest: 0.879\n"
     ]
    }
   ],
   "source": [
    "from sklearn.linear_model import LogisticRegression\n",
    "from sklearn.ensemble import RandomForestClassifier\n",
    "from sklearn.metrics import roc_auc_score, classification_report\n",
    "import matplotlib.pyplot as plt\n",
    "import seaborn as sns\n",
    "\n",
    "# Logistic 回归模型（解释性强）\n",
    "lr = LogisticRegression(max_iter=1000)\n",
    "lr.fit(X_train, y_train)\n",
    "lr_auc = roc_auc_score(y_test, lr.predict_proba(X_test)[:, 1])\n",
    "\n",
    "# 打印 Logistic 的权重\n",
    "coef_df = pd.DataFrame({\n",
    "    \"Gene\": X.columns,\n",
    "    \"Coefficient\": lr.coef_[0]\n",
    "}).sort_values(by=\"Coefficient\", key=abs, ascending=False)\n",
    "print(\"Logistic Regression Coefficients:\")\n",
    "print(coef_df)\n",
    "\n",
    "# 随机森林模型（增强性能）\n",
    "rf = RandomForestClassifier(n_estimators=100, random_state=42)\n",
    "rf.fit(X_train, y_train)\n",
    "rf_auc = roc_auc_score(y_test, rf.predict_proba(X_test)[:, 1])\n",
    "\n",
    "# 打印重要性\n",
    "importances_df = pd.DataFrame({\n",
    "    \"Gene\": X.columns,\n",
    "    \"Importance\": rf.feature_importances_\n",
    "}).sort_values(by=\"Importance\", ascending=False)\n",
    "\n",
    "# 可视化重要性\n",
    "plt.figure(figsize=(8, 5))\n",
    "sns.barplot(data=importances_df, x=\"Importance\", y=\"Gene\")\n",
    "plt.title(\"Random Forest Feature Importance\")\n",
    "plt.tight_layout()\n",
    "plt.show()\n",
    "\n",
    "# 打印模型效果\n",
    "print(f\"\\nAUC - Logistic: {lr_auc:.3f}\")\n",
    "print(f\"AUC - Random Forest: {rf_auc:.3f}\")"
   ]
  },
  {
   "cell_type": "code",
   "execution_count": 12,
   "id": "c8a70dd7",
   "metadata": {},
   "outputs": [
    {
     "name": "stdout",
     "output_type": "stream",
     "text": [
      " Stacking AUC: 0.905\n"
     ]
    }
   ],
   "source": [
    "#### STACKING MODEL\n",
    "from sklearn.ensemble import StackingClassifier\n",
    "from sklearn.linear_model import LogisticRegression\n",
    "from sklearn.ensemble import RandomForestClassifier\n",
    "\n",
    "# 基础模型（level-0）\n",
    "base_models = [\n",
    "    ('lr', LogisticRegression(max_iter=1000)),\n",
    "    ('rf', RandomForestClassifier(n_estimators=100))\n",
    "]\n",
    "\n",
    "# 堆叠后的元模型（level-1）\n",
    "stacked_model = StackingClassifier(\n",
    "    estimators=base_models,\n",
    "    final_estimator=LogisticRegression(),  # 也可以用 SVM 等\n",
    "    cv=5\n",
    ")\n",
    "\n",
    "# 训练 & 评估\n",
    "stacked_model.fit(X_train, y_train)\n",
    "stacked_auc = roc_auc_score(y_test, stacked_model.predict_proba(X_test)[:, 1])\n",
    "print(f\" Stacking AUC: {stacked_auc:.3f}\")"
   ]
  },
  {
   "cell_type": "markdown",
   "id": "9171b544",
   "metadata": {},
   "source": [
    "21374's cyto node hubgene"
   ]
  },
  {
   "cell_type": "code",
   "execution_count": 3,
   "id": "305d490c",
   "metadata": {},
   "outputs": [],
   "source": [
    "hub_genes = [\"CXCL9\", \"GZMA\", \"CD8A\", \"IDO1\", \"CD69\"]"
   ]
  },
  {
   "cell_type": "code",
   "execution_count": 4,
   "id": "86651ee7",
   "metadata": {},
   "outputs": [],
   "source": [
    "X = expression_df[hub_genes]\n",
    "\n",
    "# 处理标签（假设 'Rejection Status' 列存在）\n",
    "y = expression_df[\"Rejection Status\"].map({\"rej\": 1, \"nonrej\": 0})"
   ]
  },
  {
   "cell_type": "code",
   "execution_count": 5,
   "id": "b1479a8f",
   "metadata": {},
   "outputs": [],
   "source": [
    "from sklearn.model_selection import train_test_split\n",
    "\n",
    "X_train, X_test, y_train, y_test = train_test_split(\n",
    "    X, y, test_size=0.3, random_state=42, stratify=y\n",
    ")"
   ]
  },
  {
   "cell_type": "code",
   "execution_count": 6,
   "id": "49c04c40",
   "metadata": {},
   "outputs": [
    {
     "name": "stdout",
     "output_type": "stream",
     "text": [
      "Logistic Regression Coefficients:\n",
      "    Gene  Coefficient\n",
      "2   CD8A     0.412275\n",
      "0  CXCL9     0.332155\n",
      "3   IDO1     0.119002\n",
      "4   CD69     0.106296\n",
      "1   GZMA     0.043249\n"
     ]
    },
    {
     "data": {
      "image/png": "[encoded data removed]",
      "text/plain": [
       "<Figure size 800x500 with 1 Axes>"
      ]
     },
     "metadata": {},
     "output_type": "display_data"
    },
    {
     "name": "stdout",
     "output_type": "stream",
     "text": [
      "\n",
      "AUC - Logistic: 0.931\n",
      "AUC - Random Forest: 0.896\n"
     ]
    }
   ],
   "source": [
    "from sklearn.linear_model import LogisticRegression\n",
    "from sklearn.ensemble import RandomForestClassifier\n",
    "from sklearn.metrics import roc_auc_score, classification_report\n",
    "import matplotlib.pyplot as plt\n",
    "import seaborn as sns\n",
    "\n",
    "# Logistic 回归模型（解释性强）\n",
    "lr = LogisticRegression(max_iter=1000)\n",
    "lr.fit(X_train, y_train)\n",
    "lr_auc = roc_auc_score(y_test, lr.predict_proba(X_test)[:, 1])\n",
    "\n",
    "# 打印 Logistic 的权重\n",
    "coef_df = pd.DataFrame({\n",
    "    \"Gene\": X.columns,\n",
    "    \"Coefficient\": lr.coef_[0]\n",
    "}).sort_values(by=\"Coefficient\", key=abs, ascending=False)\n",
    "print(\"Logistic Regression Coefficients:\")\n",
    "print(coef_df)\n",
    "\n",
    "# 随机森林模型（增强性能）\n",
    "rf = RandomForestClassifier(n_estimators=100, random_state=42)\n",
    "rf.fit(X_train, y_train)\n",
    "rf_auc = roc_auc_score(y_test, rf.predict_proba(X_test)[:, 1])\n",
    "\n",
    "# 打印重要性\n",
    "importances_df = pd.DataFrame({\n",
    "    \"Gene\": X.columns,\n",
    "    \"Importance\": rf.feature_importances_\n",
    "}).sort_values(by=\"Importance\", ascending=False)\n",
    "\n",
    "# 可视化重要性\n",
    "plt.figure(figsize=(8, 5))\n",
    "sns.barplot(data=importances_df, x=\"Importance\", y=\"Gene\")\n",
    "plt.title(\"Random Forest Feature Importance\")\n",
    "plt.tight_layout()\n",
    "plt.show()\n",
    "\n",
    "# 打印模型效果\n",
    "print(f\"\\nAUC - Logistic: {lr_auc:.3f}\")\n",
    "print(f\"AUC - Random Forest: {rf_auc:.3f}\")"
   ]
  },
  {
   "cell_type": "code",
   "execution_count": 7,
   "id": "984b74ba",
   "metadata": {},
   "outputs": [
    {
     "name": "stdout",
     "output_type": "stream",
     "text": [
      " Stacking AUC: 0.929\n"
     ]
    }
   ],
   "source": [
    "#### STACKING MODEL\n",
    "from sklearn.ensemble import StackingClassifier\n",
    "from sklearn.linear_model import LogisticRegression\n",
    "from sklearn.ensemble import RandomForestClassifier\n",
    "\n",
    "# 基础模型（level-0）\n",
    "base_models = [\n",
    "    ('lr', LogisticRegression(max_iter=1000)),\n",
    "    ('rf', RandomForestClassifier(n_estimators=100))\n",
    "]\n",
    "\n",
    "# 堆叠后的元模型（level-1）\n",
    "stacked_model = StackingClassifier(\n",
    "    estimators=base_models,\n",
    "    final_estimator=LogisticRegression(),  # 也可以用 SVM 等\n",
    "    cv=5\n",
    ")\n",
    "\n",
    "# 训练 & 评估\n",
    "stacked_model.fit(X_train, y_train)\n",
    "stacked_auc = roc_auc_score(y_test, stacked_model.predict_proba(X_test)[:, 1])\n",
    "print(f\" Stacking AUC: {stacked_auc:.3f}\")"
   ]
  },
  {
   "cell_type": "markdown",
   "id": "8cc7e472",
   "metadata": {},
   "source": [
    "36059's interval hub gene"
   ]
  },
  {
   "cell_type": "code",
   "execution_count": 15,
   "id": "f693be1d",
   "metadata": {},
   "outputs": [],
   "source": [
    "hub_genes = [\"CCL4\", \"PLA1A\", \"FAM26F.1\", \"CXCL11\", \"RBP7\", \"IDO1\"]"
   ]
  },
  {
   "cell_type": "code",
   "execution_count": 16,
   "id": "30889a61",
   "metadata": {},
   "outputs": [],
   "source": [
    "X = expression_df[hub_genes]\n",
    "\n",
    "# 处理标签（假设 'Rejection Status' 列存在）\n",
    "y = expression_df[\"Rejection Status\"].map({\"rej\": 1, \"nonrej\": 0})"
   ]
  },
  {
   "cell_type": "code",
   "execution_count": 17,
   "id": "d91420ae",
   "metadata": {},
   "outputs": [],
   "source": [
    "from sklearn.model_selection import train_test_split\n",
    "\n",
    "X_train, X_test, y_train, y_test = train_test_split(\n",
    "    X, y, test_size=0.3, random_state=42, stratify=y\n",
    ")"
   ]
  },
  {
   "cell_type": "code",
   "execution_count": 18,
   "id": "23b27770",
   "metadata": {},
   "outputs": [
    {
     "name": "stdout",
     "output_type": "stream",
     "text": [
      "Logistic Regression Coefficients:\n",
      "       Gene  Coefficient\n",
      "2  FAM26F.1     0.498262\n",
      "4      RBP7    -0.287828\n",
      "3    CXCL11     0.281747\n",
      "0      CCL4     0.220039\n",
      "1     PLA1A    -0.146863\n",
      "5      IDO1    -0.042699\n"
     ]
    },
    {
     "data": {
      "image/png": "[encoded data removed]",
      "text/plain": [
       "<Figure size 800x500 with 1 Axes>"
      ]
     },
     "metadata": {},
     "output_type": "display_data"
    },
    {
     "name": "stdout",
     "output_type": "stream",
     "text": [
      "\n",
      "AUC - Logistic: 0.897\n",
      "AUC - Random Forest: 0.870\n"
     ]
    }
   ],
   "source": [
    "from sklearn.linear_model import LogisticRegression\n",
    "from sklearn.ensemble import RandomForestClassifier\n",
    "from sklearn.metrics import roc_auc_score, classification_report\n",
    "import matplotlib.pyplot as plt\n",
    "import seaborn as sns\n",
    "\n",
    "# Logistic 回归模型（解释性强）\n",
    "lr = LogisticRegression(max_iter=1000)\n",
    "lr.fit(X_train, y_train)\n",
    "lr_auc = roc_auc_score(y_test, lr.predict_proba(X_test)[:, 1])\n",
    "\n",
    "# 打印 Logistic 的权重\n",
    "coef_df = pd.DataFrame({\n",
    "    \"Gene\": X.columns,\n",
    "    \"Coefficient\": lr.coef_[0]\n",
    "}).sort_values(by=\"Coefficient\", key=abs, ascending=False)\n",
    "print(\"Logistic Regression Coefficients:\")\n",
    "print(coef_df)\n",
    "\n",
    "# 随机森林模型（增强性能）\n",
    "rf = RandomForestClassifier(n_estimators=100, random_state=42)\n",
    "rf.fit(X_train, y_train)\n",
    "rf_auc = roc_auc_score(y_test, rf.predict_proba(X_test)[:, 1])\n",
    "\n",
    "# 打印重要性\n",
    "importances_df = pd.DataFrame({\n",
    "    \"Gene\": X.columns,\n",
    "    \"Importance\": rf.feature_importances_\n",
    "}).sort_values(by=\"Importance\", ascending=False)\n",
    "\n",
    "# 可视化重要性\n",
    "plt.figure(figsize=(8, 5))\n",
    "sns.barplot(data=importances_df, x=\"Importance\", y=\"Gene\")\n",
    "plt.title(\"Random Forest Feature Importance\")\n",
    "plt.tight_layout()\n",
    "plt.show()\n",
    "\n",
    "# 打印模型效果\n",
    "print(f\"\\nAUC - Logistic: {lr_auc:.3f}\")\n",
    "print(f\"AUC - Random Forest: {rf_auc:.3f}\")"
   ]
  },
  {
   "cell_type": "code",
   "execution_count": null,
   "id": "997e37ae",
   "metadata": {},
   "outputs": [
    {
     "name": "stdout",
     "output_type": "stream",
     "text": [
      " Stacking AUC: 0.898\n"
     ]
    }
   ],
   "source": [
    "#### STACKING MODEL\n",
    "from sklearn.ensemble import StackingClassifier\n",
    "from sklearn.linear_model import LogisticRegression\n",
    "from sklearn.ensemble import RandomForestClassifier\n",
    "\n",
    "# 基础模型（level-0）\n",
    "base_models = [\n",
    "    ('lr', LogisticRegression(max_iter=1000)),\n",
    "    ('rf', RandomForestClassifier(n_estimators=100))\n",
    "]\n",
    "\n",
    "# 堆叠后的元模型（level-1）\n",
    "stacked_model = StackingClassifier(\n",
    "    estimators=base_models,\n",
    "    final_estimator=LogisticRegression(), \n",
    "    cv=5\n",
    ")\n",
    "\n",
    "# 训练 & 评估\n",
    "stacked_model.fit(X_train, y_train)\n",
    "stacked_auc = roc_auc_score(y_test, stacked_model.predict_proba(X_test)[:, 1])\n",
    "print(f\" Stacking AUC: {stacked_auc:.3f}\")"
   ]
  },
  {
   "cell_type": "markdown",
   "id": "96443bbe",
   "metadata": {},
   "source": [
    "36059's cyto node hubgene"
   ]
  },
  {
   "cell_type": "code",
   "execution_count": 20,
   "id": "fa5c051a",
   "metadata": {},
   "outputs": [],
   "source": [
    "hub_genes = [\"CXCL10\", \"IDO1\", \"LILRB2\", \"CXCL9\", \"CCL4\"]"
   ]
  },
  {
   "cell_type": "code",
   "execution_count": 21,
   "id": "c07a8cbd",
   "metadata": {},
   "outputs": [],
   "source": [
    "X = expression_df[hub_genes]\n",
    "\n",
    "# 处理标签（假设 'Rejection Status' 列存在）\n",
    "y = expression_df[\"Rejection Status\"].map({\"rej\": 1, \"nonrej\": 0})"
   ]
  },
  {
   "cell_type": "code",
   "execution_count": 22,
   "id": "533148fd",
   "metadata": {},
   "outputs": [],
   "source": [
    "from sklearn.model_selection import train_test_split\n",
    "\n",
    "X_train, X_test, y_train, y_test = train_test_split(\n",
    "    X, y, test_size=0.3, random_state=42, stratify=y\n",
    ")"
   ]
  },
  {
   "cell_type": "code",
   "execution_count": 23,
   "id": "abe9f473",
   "metadata": {},
   "outputs": [
    {
     "name": "stdout",
     "output_type": "stream",
     "text": [
      "Logistic Regression Coefficients:\n",
      "     Gene  Coefficient\n",
      "3   CXCL9     0.360986\n",
      "4    CCL4     0.331357\n",
      "2  LILRB2     0.275450\n",
      "1    IDO1     0.159125\n",
      "0  CXCL10    -0.026511\n"
     ]
    },
    {
     "data": {
      "image/png": "[encoded data removed]",
      "text/plain": [
       "<Figure size 800x500 with 1 Axes>"
      ]
     },
     "metadata": {},
     "output_type": "display_data"
    },
    {
     "name": "stdout",
     "output_type": "stream",
     "text": [
      "\n",
      "AUC - Logistic: 0.900\n",
      "AUC - Random Forest: 0.881\n"
     ]
    }
   ],
   "source": [
    "from sklearn.linear_model import LogisticRegression\n",
    "from sklearn.ensemble import RandomForestClassifier\n",
    "from sklearn.metrics import roc_auc_score, classification_report\n",
    "import matplotlib.pyplot as plt\n",
    "import seaborn as sns\n",
    "\n",
    "# Logistic 回归模型（解释性强）\n",
    "lr = LogisticRegression(max_iter=1000)\n",
    "lr.fit(X_train, y_train)\n",
    "lr_auc = roc_auc_score(y_test, lr.predict_proba(X_test)[:, 1])\n",
    "\n",
    "# 打印 Logistic 的权重\n",
    "coef_df = pd.DataFrame({\n",
    "    \"Gene\": X.columns,\n",
    "    \"Coefficient\": lr.coef_[0]\n",
    "}).sort_values(by=\"Coefficient\", key=abs, ascending=False)\n",
    "print(\"Logistic Regression Coefficients:\")\n",
    "print(coef_df)\n",
    "\n",
    "# 随机森林模型（增强性能）\n",
    "rf = RandomForestClassifier(n_estimators=100, random_state=42)\n",
    "rf.fit(X_train, y_train)\n",
    "rf_auc = roc_auc_score(y_test, rf.predict_proba(X_test)[:, 1])\n",
    "\n",
    "# 打印重要性\n",
    "importances_df = pd.DataFrame({\n",
    "    \"Gene\": X.columns,\n",
    "    \"Importance\": rf.feature_importances_\n",
    "}).sort_values(by=\"Importance\", ascending=False)\n",
    "\n",
    "# 可视化重要性\n",
    "plt.figure(figsize=(8, 5))\n",
    "sns.barplot(data=importances_df, x=\"Importance\", y=\"Gene\")\n",
    "plt.title(\"Random Forest Feature Importance\")\n",
    "plt.tight_layout()\n",
    "plt.show()\n",
    "\n",
    "# 打印模型效果\n",
    "print(f\"\\nAUC - Logistic: {lr_auc:.3f}\")\n",
    "print(f\"AUC - Random Forest: {rf_auc:.3f}\")"
   ]
  },
  {
   "cell_type": "code",
   "execution_count": null,
   "id": "5dd5c22f",
   "metadata": {},
   "outputs": [
    {
     "name": "stdout",
     "output_type": "stream",
     "text": [
      " Stacking AUC: 0.901\n"
     ]
    }
   ],
   "source": [
    "#### STACKING MODEL\n",
    "from sklearn.ensemble import StackingClassifier\n",
    "from sklearn.linear_model import LogisticRegression\n",
    "from sklearn.ensemble import RandomForestClassifier\n",
    "\n",
    "# （level-0）\n",
    "base_models = [\n",
    "    ('lr', LogisticRegression(max_iter=1000)),\n",
    "    ('rf', RandomForestClassifier(n_estimators=100))\n",
    "]\n",
    "\n",
    "# （level-1）\n",
    "stacked_model = StackingClassifier(\n",
    "    estimators=base_models,\n",
    "    final_estimator=LogisticRegression(), \n",
    "    cv=5\n",
    ")\n",
    "\n",
    "stacked_model.fit(X_train, y_train)\n",
    "stacked_auc = roc_auc_score(y_test, stacked_model.predict_proba(X_test)[:, 1])\n",
    "print(f\" Stacking AUC: {stacked_auc:.3f}\")"
   ]
  },
  {
   "cell_type": "markdown",
   "id": "09d27853",
   "metadata": {},
   "source": [
    "48581's interval hub gene"
   ]
  },
  {
   "cell_type": "code",
   "execution_count": 31,
   "id": "a30bad25",
   "metadata": {},
   "outputs": [],
   "source": [
    "hub_genes = [\"SCMH1\", \"WDR3\", \"LOC100507073\"]"
   ]
  },
  {
   "cell_type": "code",
   "execution_count": 32,
   "id": "9bd7b188",
   "metadata": {},
   "outputs": [
    {
     "name": "stdout",
     "output_type": "stream",
     "text": [
      "Logistic Regression Coefficients:\n",
      "           Gene  Coefficient\n",
      "0         SCMH1    -0.860241\n",
      "2  LOC100507073    -0.572751\n",
      "1          WDR3     0.404869\n"
     ]
    },
    {
     "data": {
      "image/png": "[encoded data removed]",
      "text/plain": [
       "<Figure size 800x500 with 1 Axes>"
      ]
     },
     "metadata": {},
     "output_type": "display_data"
    },
    {
     "name": "stdout",
     "output_type": "stream",
     "text": [
      "\n",
      "AUC - Logistic: 0.691\n",
      "AUC - Random Forest: 0.595\n"
     ]
    }
   ],
   "source": [
    "X = expression_df[hub_genes]\n",
    "\n",
    "# 处理标签（假设 'Rejection Status' 列存在）\n",
    "y = expression_df[\"Rejection Status\"].map({\"rej\": 1, \"nonrej\": 0})\n",
    "\n",
    "from sklearn.model_selection import train_test_split\n",
    "\n",
    "X_train, X_test, y_train, y_test = train_test_split(\n",
    "    X, y, test_size=0.3, random_state=42, stratify=y\n",
    ")\n",
    "\n",
    "from sklearn.linear_model import LogisticRegression\n",
    "from sklearn.ensemble import RandomForestClassifier\n",
    "from sklearn.metrics import roc_auc_score, classification_report\n",
    "import matplotlib.pyplot as plt\n",
    "import seaborn as sns\n",
    "\n",
    "# Logistic 回归模型（解释性强）\n",
    "lr = LogisticRegression(max_iter=1000)\n",
    "lr.fit(X_train, y_train)\n",
    "lr_auc = roc_auc_score(y_test, lr.predict_proba(X_test)[:, 1])\n",
    "\n",
    "# 打印 Logistic 的权重\n",
    "coef_df = pd.DataFrame({\n",
    "    \"Gene\": X.columns,\n",
    "    \"Coefficient\": lr.coef_[0]\n",
    "}).sort_values(by=\"Coefficient\", key=abs, ascending=False)\n",
    "print(\"Logistic Regression Coefficients:\")\n",
    "print(coef_df)\n",
    "\n",
    "# 随机森林模型（增强性能）\n",
    "rf = RandomForestClassifier(n_estimators=100, random_state=42)\n",
    "rf.fit(X_train, y_train)\n",
    "rf_auc = roc_auc_score(y_test, rf.predict_proba(X_test)[:, 1])\n",
    "\n",
    "# 打印重要性\n",
    "importances_df = pd.DataFrame({\n",
    "    \"Gene\": X.columns,\n",
    "    \"Importance\": rf.feature_importances_\n",
    "}).sort_values(by=\"Importance\", ascending=False)\n",
    "\n",
    "# 可视化重要性\n",
    "plt.figure(figsize=(8, 5))\n",
    "sns.barplot(data=importances_df, x=\"Importance\", y=\"Gene\")\n",
    "plt.title(\"Random Forest Feature Importance\")\n",
    "plt.tight_layout()\n",
    "plt.show()\n",
    "\n",
    "# 打印模型效果\n",
    "print(f\"\\nAUC - Logistic: {lr_auc:.3f}\")\n",
    "print(f\"AUC - Random Forest: {rf_auc:.3f}\")"
   ]
  },
  {
   "cell_type": "code",
   "execution_count": 33,
   "id": "7bb33630",
   "metadata": {},
   "outputs": [
    {
     "name": "stdout",
     "output_type": "stream",
     "text": [
      " Stacking AUC: 0.660\n"
     ]
    }
   ],
   "source": [
    "#### STACKING MODEL\n",
    "from sklearn.ensemble import StackingClassifier\n",
    "from sklearn.linear_model import LogisticRegression\n",
    "from sklearn.ensemble import RandomForestClassifier\n",
    "\n",
    "# （level-0）\n",
    "base_models = [\n",
    "    ('lr', LogisticRegression(max_iter=1000)),\n",
    "    ('rf', RandomForestClassifier(n_estimators=100))\n",
    "]\n",
    "\n",
    "# （level-1）\n",
    "stacked_model = StackingClassifier(\n",
    "    estimators=base_models,\n",
    "    final_estimator=LogisticRegression(), \n",
    "    cv=5\n",
    ")\n",
    "\n",
    "stacked_model.fit(X_train, y_train)\n",
    "stacked_auc = roc_auc_score(y_test, stacked_model.predict_proba(X_test)[:, 1])\n",
    "print(f\" Stacking AUC: {stacked_auc:.3f}\")"
   ]
  },
  {
   "cell_type": "markdown",
   "id": "6e67d115",
   "metadata": {},
   "source": [
    "48581's cyto node hub gene"
   ]
  },
  {
   "cell_type": "code",
   "execution_count": 34,
   "id": "cf62835c",
   "metadata": {},
   "outputs": [],
   "source": [
    "hub_genes = [\"CXCL13\", \"LILRB2\", \"CD8A\", \"FOS\", \"RGS1\"]"
   ]
  },
  {
   "cell_type": "code",
   "execution_count": 35,
   "id": "b14861da",
   "metadata": {},
   "outputs": [
    {
     "name": "stdout",
     "output_type": "stream",
     "text": [
      "Logistic Regression Coefficients:\n",
      "     Gene  Coefficient\n",
      "1  LILRB2     0.742282\n",
      "2    CD8A     0.628023\n",
      "4    RGS1    -0.214736\n",
      "0  CXCL13     0.133396\n",
      "3     FOS     0.011985\n"
     ]
    },
    {
     "data": {
      "image/png": "[encoded data removed]",
      "text/plain": [
       "<Figure size 800x500 with 1 Axes>"
      ]
     },
     "metadata": {},
     "output_type": "display_data"
    },
    {
     "name": "stdout",
     "output_type": "stream",
     "text": [
      "\n",
      "AUC - Logistic: 0.912\n",
      "AUC - Random Forest: 0.874\n"
     ]
    }
   ],
   "source": [
    "X = expression_df[hub_genes]\n",
    "\n",
    "# 处理标签（假设 'Rejection Status' 列存在）\n",
    "y = expression_df[\"Rejection Status\"].map({\"rej\": 1, \"nonrej\": 0})\n",
    "\n",
    "from sklearn.model_selection import train_test_split\n",
    "\n",
    "X_train, X_test, y_train, y_test = train_test_split(\n",
    "    X, y, test_size=0.3, random_state=42, stratify=y\n",
    ")\n",
    "\n",
    "from sklearn.linear_model import LogisticRegression\n",
    "from sklearn.ensemble import RandomForestClassifier\n",
    "from sklearn.metrics import roc_auc_score, classification_report\n",
    "import matplotlib.pyplot as plt\n",
    "import seaborn as sns\n",
    "\n",
    "# Logistic 回归模型（解释性强）\n",
    "lr = LogisticRegression(max_iter=1000)\n",
    "lr.fit(X_train, y_train)\n",
    "lr_auc = roc_auc_score(y_test, lr.predict_proba(X_test)[:, 1])\n",
    "\n",
    "# 打印 Logistic 的权重\n",
    "coef_df = pd.DataFrame({\n",
    "    \"Gene\": X.columns,\n",
    "    \"Coefficient\": lr.coef_[0]\n",
    "}).sort_values(by=\"Coefficient\", key=abs, ascending=False)\n",
    "print(\"Logistic Regression Coefficients:\")\n",
    "print(coef_df)\n",
    "\n",
    "# 随机森林模型（增强性能）\n",
    "rf = RandomForestClassifier(n_estimators=100, random_state=42)\n",
    "rf.fit(X_train, y_train)\n",
    "rf_auc = roc_auc_score(y_test, rf.predict_proba(X_test)[:, 1])\n",
    "\n",
    "# 打印重要性\n",
    "importances_df = pd.DataFrame({\n",
    "    \"Gene\": X.columns,\n",
    "    \"Importance\": rf.feature_importances_\n",
    "}).sort_values(by=\"Importance\", ascending=False)\n",
    "\n",
    "# 可视化重要性\n",
    "plt.figure(figsize=(8, 5))\n",
    "sns.barplot(data=importances_df, x=\"Importance\", y=\"Gene\")\n",
    "plt.title(\"Random Forest Feature Importance\")\n",
    "plt.tight_layout()\n",
    "plt.show()\n",
    "\n",
    "# 打印模型效果\n",
    "print(f\"\\nAUC - Logistic: {lr_auc:.3f}\")\n",
    "print(f\"AUC - Random Forest: {rf_auc:.3f}\")"
   ]
  },
  {
   "cell_type": "code",
   "execution_count": 37,
   "id": "dc14bfea",
   "metadata": {},
   "outputs": [
    {
     "name": "stdout",
     "output_type": "stream",
     "text": [
      " Stacking AUC: 0.920\n"
     ]
    }
   ],
   "source": [
    "#### STACKING MODEL\n",
    "from sklearn.ensemble import StackingClassifier\n",
    "from sklearn.linear_model import LogisticRegression\n",
    "from sklearn.ensemble import RandomForestClassifier\n",
    "\n",
    "# （level-0）\n",
    "base_models = [\n",
    "    ('lr', LogisticRegression(max_iter=1000)),\n",
    "    ('rf', RandomForestClassifier(n_estimators=100))\n",
    "]\n",
    "\n",
    "# （level-1）\n",
    "stacked_model = StackingClassifier(\n",
    "    estimators=base_models,\n",
    "    final_estimator=LogisticRegression(), \n",
    "    cv=5\n",
    ")\n",
    "\n",
    "stacked_model.fit(X_train, y_train)\n",
    "stacked_auc = roc_auc_score(y_test, stacked_model.predict_proba(X_test)[:, 1])\n",
    "print(f\" Stacking AUC: {stacked_auc:.3f}\")"
   ]
  },
  {
   "cell_type": "markdown",
   "id": "b44105cc",
   "metadata": {},
   "source": [
    "50058's interval hub gene"
   ]
  },
  {
   "cell_type": "code",
   "execution_count": 20,
   "id": "8e5fc47d",
   "metadata": {},
   "outputs": [],
   "source": [
    "hub_genes = [\"FAM26F.1\", \"GPR171\", \"229668_at\", \"B2M.2\", \"FAXDC2\", \"CCL4\", \"CXCL11\", \"SOST\"]"
   ]
  },
  {
   "cell_type": "code",
   "execution_count": 21,
   "id": "d65b5233",
   "metadata": {},
   "outputs": [
    {
     "name": "stdout",
     "output_type": "stream",
     "text": [
      "Logistic Regression Coefficients:\n",
      "        Gene  Coefficient\n",
      "4     FAXDC2     0.665229\n",
      "0   FAM26F.1     0.318942\n",
      "3      B2M.2     0.293779\n",
      "6     CXCL11     0.257220\n",
      "1     GPR171     0.233245\n",
      "5       CCL4     0.188804\n",
      "2  229668_at    -0.185872\n",
      "7       SOST    -0.073252\n"
     ]
    },
    {
     "data": {
      "image/png": "[encoded data removed]",
      "text/plain": [
       "<Figure size 800x500 with 1 Axes>"
      ]
     },
     "metadata": {},
     "output_type": "display_data"
    },
    {
     "name": "stdout",
     "output_type": "stream",
     "text": [
      "\n",
      "AUC - Logistic: 0.893\n",
      "AUC - Random Forest: 0.894\n"
     ]
    }
   ],
   "source": [
    "X = expression_df[hub_genes]\n",
    "\n",
    "# 处理标签（假设 'Rejection Status' 列存在）\n",
    "y = expression_df[\"Rejection Status\"].map({\"rej\": 1, \"nonrej\": 0})\n",
    "\n",
    "from sklearn.model_selection import train_test_split\n",
    "\n",
    "X_train, X_test, y_train, y_test = train_test_split(\n",
    "    X, y, test_size=0.3, random_state=42, stratify=y\n",
    ")\n",
    "\n",
    "from sklearn.linear_model import LogisticRegression\n",
    "from sklearn.ensemble import RandomForestClassifier\n",
    "from sklearn.metrics import roc_auc_score, classification_report\n",
    "import matplotlib.pyplot as plt\n",
    "import seaborn as sns\n",
    "\n",
    "# Logistic 回归模型（解释性强）\n",
    "lr = LogisticRegression(max_iter=1000)\n",
    "lr.fit(X_train, y_train)\n",
    "lr_auc = roc_auc_score(y_test, lr.predict_proba(X_test)[:, 1])\n",
    "\n",
    "# 打印 Logistic 的权重\n",
    "coef_df = pd.DataFrame({\n",
    "    \"Gene\": X.columns,\n",
    "    \"Coefficient\": lr.coef_[0]\n",
    "}).sort_values(by=\"Coefficient\", key=abs, ascending=False)\n",
    "print(\"Logistic Regression Coefficients:\")\n",
    "print(coef_df)\n",
    "\n",
    "# 随机森林模型（增强性能）\n",
    "rf = RandomForestClassifier(n_estimators=100, random_state=42)\n",
    "rf.fit(X_train, y_train)\n",
    "rf_auc = roc_auc_score(y_test, rf.predict_proba(X_test)[:, 1])\n",
    "\n",
    "# 打印重要性\n",
    "importances_df = pd.DataFrame({\n",
    "    \"Gene\": X.columns,\n",
    "    \"Importance\": rf.feature_importances_\n",
    "}).sort_values(by=\"Importance\", ascending=False)\n",
    "\n",
    "# 可视化重要性\n",
    "plt.figure(figsize=(8, 5))\n",
    "sns.barplot(data=importances_df, x=\"Importance\", y=\"Gene\")\n",
    "plt.title(\"Random Forest Feature Importance\")\n",
    "plt.tight_layout()\n",
    "plt.show()\n",
    "\n",
    "# 打印模型效果\n",
    "print(f\"\\nAUC - Logistic: {lr_auc:.3f}\")\n",
    "print(f\"AUC - Random Forest: {rf_auc:.3f}\")"
   ]
  },
  {
   "cell_type": "code",
   "execution_count": 22,
   "id": "b568444a",
   "metadata": {},
   "outputs": [
    {
     "name": "stdout",
     "output_type": "stream",
     "text": [
      " Stacking AUC: 0.896\n"
     ]
    }
   ],
   "source": [
    "#### STACKING MODEL\n",
    "from sklearn.ensemble import StackingClassifier\n",
    "from sklearn.linear_model import LogisticRegression\n",
    "from sklearn.ensemble import RandomForestClassifier\n",
    "\n",
    "# （level-0）\n",
    "base_models = [\n",
    "    ('lr', LogisticRegression(max_iter=1000)),\n",
    "    ('rf', RandomForestClassifier(n_estimators=100))\n",
    "]\n",
    "\n",
    "# （level-1）\n",
    "stacked_model = StackingClassifier(\n",
    "    estimators=base_models,\n",
    "    final_estimator=LogisticRegression(), \n",
    "    cv=5\n",
    ")\n",
    "\n",
    "stacked_model.fit(X_train, y_train)\n",
    "stacked_auc = roc_auc_score(y_test, stacked_model.predict_proba(X_test)[:, 1])\n",
    "print(f\" Stacking AUC: {stacked_auc:.3f}\")"
   ]
  },
  {
   "cell_type": "markdown",
   "id": "7dd5b67f",
   "metadata": {},
   "source": [
    "50058's cyto node hub gene"
   ]
  },
  {
   "cell_type": "code",
   "execution_count": 24,
   "id": "1bdbdc7d",
   "metadata": {},
   "outputs": [],
   "source": [
    "hub_genes = [\"CXCL11\", \"B2M\", \"LCP2\", \"CCL4\",  \"FCGR3B\"]"
   ]
  },
  {
   "cell_type": "code",
   "execution_count": 25,
   "id": "d50c1a49",
   "metadata": {},
   "outputs": [
    {
     "name": "stdout",
     "output_type": "stream",
     "text": [
      "Logistic Regression Coefficients:\n",
      "     Gene  Coefficient\n",
      "1     B2M     0.873823\n",
      "2    LCP2     0.523463\n",
      "0  CXCL11     0.259551\n",
      "4  FCGR3B     0.191920\n",
      "3    CCL4     0.147251\n"
     ]
    },
    {
     "data": {
      "image/png": "[encoded data removed]",
      "text/plain": [
       "<Figure size 800x500 with 1 Axes>"
      ]
     },
     "metadata": {},
     "output_type": "display_data"
    },
    {
     "name": "stdout",
     "output_type": "stream",
     "text": [
      "\n",
      "AUC - Logistic: 0.880\n",
      "AUC - Random Forest: 0.866\n"
     ]
    }
   ],
   "source": [
    "X = expression_df[hub_genes]\n",
    "\n",
    "# 处理标签（假设 'Rejection Status' 列存在）\n",
    "y = expression_df[\"Rejection Status\"].map({\"rej\": 1, \"nonrej\": 0})\n",
    "\n",
    "from sklearn.model_selection import train_test_split\n",
    "\n",
    "X_train, X_test, y_train, y_test = train_test_split(\n",
    "    X, y, test_size=0.3, random_state=42, stratify=y\n",
    ")\n",
    "\n",
    "from sklearn.linear_model import LogisticRegression\n",
    "from sklearn.ensemble import RandomForestClassifier\n",
    "from sklearn.metrics import roc_auc_score, classification_report\n",
    "import matplotlib.pyplot as plt\n",
    "import seaborn as sns\n",
    "\n",
    "# Logistic 回归模型（解释性强）\n",
    "lr = LogisticRegression(max_iter=1000)\n",
    "lr.fit(X_train, y_train)\n",
    "lr_auc = roc_auc_score(y_test, lr.predict_proba(X_test)[:, 1])\n",
    "\n",
    "# 打印 Logistic 的权重\n",
    "coef_df = pd.DataFrame({\n",
    "    \"Gene\": X.columns,\n",
    "    \"Coefficient\": lr.coef_[0]\n",
    "}).sort_values(by=\"Coefficient\", key=abs, ascending=False)\n",
    "print(\"Logistic Regression Coefficients:\")\n",
    "print(coef_df)\n",
    "\n",
    "# 随机森林模型（增强性能）\n",
    "rf = RandomForestClassifier(n_estimators=100, random_state=42)\n",
    "rf.fit(X_train, y_train)\n",
    "rf_auc = roc_auc_score(y_test, rf.predict_proba(X_test)[:, 1])\n",
    "\n",
    "# 打印重要性\n",
    "importances_df = pd.DataFrame({\n",
    "    \"Gene\": X.columns,\n",
    "    \"Importance\": rf.feature_importances_\n",
    "}).sort_values(by=\"Importance\", ascending=False)\n",
    "\n",
    "# 可视化重要性\n",
    "plt.figure(figsize=(8, 5))\n",
    "sns.barplot(data=importances_df, x=\"Importance\", y=\"Gene\")\n",
    "plt.title(\"Random Forest Feature Importance\")\n",
    "plt.tight_layout()\n",
    "plt.show()\n",
    "\n",
    "# 打印模型效果\n",
    "print(f\"\\nAUC - Logistic: {lr_auc:.3f}\")\n",
    "print(f\"AUC - Random Forest: {rf_auc:.3f}\")"
   ]
  },
  {
   "cell_type": "code",
   "execution_count": 26,
   "id": "d95bda3c",
   "metadata": {},
   "outputs": [
    {
     "name": "stdout",
     "output_type": "stream",
     "text": [
      " Stacking AUC: 0.884\n"
     ]
    }
   ],
   "source": [
    "#### STACKING MODEL\n",
    "from sklearn.ensemble import StackingClassifier\n",
    "from sklearn.linear_model import LogisticRegression\n",
    "from sklearn.ensemble import RandomForestClassifier\n",
    "\n",
    "# （level-0）\n",
    "base_models = [\n",
    "    ('lr', LogisticRegression(max_iter=1000)),\n",
    "    ('rf', RandomForestClassifier(n_estimators=100))\n",
    "]\n",
    "\n",
    "# （level-1）\n",
    "stacked_model = StackingClassifier(\n",
    "    estimators=base_models,\n",
    "    final_estimator=LogisticRegression(), \n",
    "    cv=5\n",
    ")\n",
    "\n",
    "stacked_model.fit(X_train, y_train)\n",
    "stacked_auc = roc_auc_score(y_test, stacked_model.predict_proba(X_test)[:, 1])\n",
    "print(f\" Stacking AUC: {stacked_auc:.3f}\")"
   ]
  }
 ],
 "metadata": {
  "kernelspec": {
   "display_name": "Python 3",
   "language": "python",
   "name": "python3"
  },
  "language_info": {
   "codemirror_mode": {
    "name": "ipython",
    "version": 3
   },
   "file_extension": ".py",
   "mimetype": "text/x-python",
   "name": "python",
   "nbconvert_exporter": "python",
   "pygments_lexer": "ipython3",
   "version": "3.11.9"
  }
 },
 "nbformat": 4,
 "nbformat_minor": 5
}
