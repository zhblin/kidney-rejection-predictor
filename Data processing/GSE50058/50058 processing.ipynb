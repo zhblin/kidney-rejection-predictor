{
 "cells": [
  {
   "cell_type": "markdown",
   "id": "868b17d9",
   "metadata": {},
   "source": [
    "500581 hubggene and model processing"
   ]
  },
  {
   "cell_type": "code",
   "execution_count": 40,
   "id": "79d32efd",
   "metadata": {},
   "outputs": [],
   "source": [
    "import pandas as pd\n",
    "\n",
    "expression_df = pd.read_csv(\"GSE50058.csv\", index_col=0)"
   ]
  },
  {
   "cell_type": "code",
   "execution_count": 2,
   "id": "0656ae71",
   "metadata": {},
   "outputs": [
    {
     "data": {
      "text/html": [
       "<div>\n",
       "<style scoped>\n",
       "    .dataframe tbody tr th:only-of-type {\n",
       "        vertical-align: middle;\n",
       "    }\n",
       "\n",
       "    .dataframe tbody tr th {\n",
       "        vertical-align: top;\n",
       "    }\n",
       "\n",
       "    .dataframe thead th {\n",
       "        text-align: right;\n",
       "    }\n",
       "</style>\n",
       "<table border=\"1\" class=\"dataframe\">\n",
       "  <thead>\n",
       "    <tr style=\"text-align: right;\">\n",
       "      <th></th>\n",
       "      <th>DDR1 /// MIR4640</th>\n",
       "      <th>RFC2</th>\n",
       "      <th>HSPA6</th>\n",
       "      <th>PAX8</th>\n",
       "      <th>GUCA1A</th>\n",
       "      <th>MIR5193 /// UBA7</th>\n",
       "      <th>THRA</th>\n",
       "      <th>PTPN21</th>\n",
       "      <th>CCL5</th>\n",
       "      <th>CYP2E1</th>\n",
       "      <th>...</th>\n",
       "      <th>AFFX-r2-Ec-bioB-3_at</th>\n",
       "      <th>AFFX-r2-Ec-bioB-5_at</th>\n",
       "      <th>AFFX-r2-Ec-bioB-M_at</th>\n",
       "      <th>AFFX-r2-Ec-bioC-3_at</th>\n",
       "      <th>AFFX-r2-Ec-bioC-5_at</th>\n",
       "      <th>AFFX-r2-Ec-bioD-3_at</th>\n",
       "      <th>AFFX-r2-Ec-bioD-5_at</th>\n",
       "      <th>AFFX-r2-P1-cre-3_at</th>\n",
       "      <th>AFFX-r2-P1-cre-5_at</th>\n",
       "      <th>Rejection Status</th>\n",
       "    </tr>\n",
       "  </thead>\n",
       "  <tbody>\n",
       "    <tr>\n",
       "      <th>GSM1213289</th>\n",
       "      <td>4.412003</td>\n",
       "      <td>3.365282</td>\n",
       "      <td>4.142343</td>\n",
       "      <td>7.442147</td>\n",
       "      <td>2.312794</td>\n",
       "      <td>3.943882</td>\n",
       "      <td>3.496575</td>\n",
       "      <td>2.732255</td>\n",
       "      <td>3.655529</td>\n",
       "      <td>2.312794</td>\n",
       "      <td>...</td>\n",
       "      <td>11.110997</td>\n",
       "      <td>11.262259</td>\n",
       "      <td>11.457425</td>\n",
       "      <td>12.278762</td>\n",
       "      <td>12.130433</td>\n",
       "      <td>14.359985</td>\n",
       "      <td>14.571807</td>\n",
       "      <td>16.069533</td>\n",
       "      <td>15.626030</td>\n",
       "      <td>Non Rejection</td>\n",
       "    </tr>\n",
       "    <tr>\n",
       "      <th>GSM1213290</th>\n",
       "      <td>8.418660</td>\n",
       "      <td>5.206153</td>\n",
       "      <td>2.528980</td>\n",
       "      <td>8.027655</td>\n",
       "      <td>2.312794</td>\n",
       "      <td>4.064825</td>\n",
       "      <td>2.591164</td>\n",
       "      <td>3.008397</td>\n",
       "      <td>2.894678</td>\n",
       "      <td>2.436985</td>\n",
       "      <td>...</td>\n",
       "      <td>10.914057</td>\n",
       "      <td>10.830813</td>\n",
       "      <td>10.979552</td>\n",
       "      <td>12.020552</td>\n",
       "      <td>11.842536</td>\n",
       "      <td>14.610206</td>\n",
       "      <td>14.531008</td>\n",
       "      <td>16.057891</td>\n",
       "      <td>15.912677</td>\n",
       "      <td>Non Rejection</td>\n",
       "    </tr>\n",
       "    <tr>\n",
       "      <th>GSM1213291</th>\n",
       "      <td>7.743590</td>\n",
       "      <td>4.207186</td>\n",
       "      <td>2.769058</td>\n",
       "      <td>7.984528</td>\n",
       "      <td>2.312794</td>\n",
       "      <td>3.447934</td>\n",
       "      <td>2.666751</td>\n",
       "      <td>2.316967</td>\n",
       "      <td>3.052854</td>\n",
       "      <td>2.312794</td>\n",
       "      <td>...</td>\n",
       "      <td>10.513403</td>\n",
       "      <td>10.394816</td>\n",
       "      <td>10.527530</td>\n",
       "      <td>11.659199</td>\n",
       "      <td>11.404545</td>\n",
       "      <td>14.504649</td>\n",
       "      <td>14.353342</td>\n",
       "      <td>15.894131</td>\n",
       "      <td>15.753970</td>\n",
       "      <td>Non Rejection</td>\n",
       "    </tr>\n",
       "    <tr>\n",
       "      <th>GSM1213292</th>\n",
       "      <td>7.646299</td>\n",
       "      <td>3.196709</td>\n",
       "      <td>2.502377</td>\n",
       "      <td>8.073020</td>\n",
       "      <td>2.312794</td>\n",
       "      <td>4.569509</td>\n",
       "      <td>3.129843</td>\n",
       "      <td>2.316967</td>\n",
       "      <td>2.667046</td>\n",
       "      <td>2.312794</td>\n",
       "      <td>...</td>\n",
       "      <td>11.062947</td>\n",
       "      <td>11.071267</td>\n",
       "      <td>11.196127</td>\n",
       "      <td>12.251241</td>\n",
       "      <td>11.981929</td>\n",
       "      <td>14.637438</td>\n",
       "      <td>14.591767</td>\n",
       "      <td>16.117213</td>\n",
       "      <td>15.970946</td>\n",
       "      <td>Non Rejection</td>\n",
       "    </tr>\n",
       "    <tr>\n",
       "      <th>GSM1213293</th>\n",
       "      <td>7.515312</td>\n",
       "      <td>4.039253</td>\n",
       "      <td>2.365626</td>\n",
       "      <td>7.974305</td>\n",
       "      <td>2.312794</td>\n",
       "      <td>2.992617</td>\n",
       "      <td>2.713734</td>\n",
       "      <td>2.316967</td>\n",
       "      <td>2.370153</td>\n",
       "      <td>2.312794</td>\n",
       "      <td>...</td>\n",
       "      <td>9.867020</td>\n",
       "      <td>10.056278</td>\n",
       "      <td>10.010487</td>\n",
       "      <td>11.183005</td>\n",
       "      <td>10.924625</td>\n",
       "      <td>13.872618</td>\n",
       "      <td>13.903985</td>\n",
       "      <td>15.841868</td>\n",
       "      <td>15.756689</td>\n",
       "      <td>Non Rejection</td>\n",
       "    </tr>\n",
       "    <tr>\n",
       "      <th>...</th>\n",
       "      <td>...</td>\n",
       "      <td>...</td>\n",
       "      <td>...</td>\n",
       "      <td>...</td>\n",
       "      <td>...</td>\n",
       "      <td>...</td>\n",
       "      <td>...</td>\n",
       "      <td>...</td>\n",
       "      <td>...</td>\n",
       "      <td>...</td>\n",
       "      <td>...</td>\n",
       "      <td>...</td>\n",
       "      <td>...</td>\n",
       "      <td>...</td>\n",
       "      <td>...</td>\n",
       "      <td>...</td>\n",
       "      <td>...</td>\n",
       "      <td>...</td>\n",
       "      <td>...</td>\n",
       "      <td>...</td>\n",
       "      <td>...</td>\n",
       "    </tr>\n",
       "    <tr>\n",
       "      <th>GSM1213385</th>\n",
       "      <td>7.871337</td>\n",
       "      <td>4.277099</td>\n",
       "      <td>3.234229</td>\n",
       "      <td>8.046433</td>\n",
       "      <td>2.312794</td>\n",
       "      <td>4.770682</td>\n",
       "      <td>3.382907</td>\n",
       "      <td>2.316967</td>\n",
       "      <td>4.892950</td>\n",
       "      <td>2.312794</td>\n",
       "      <td>...</td>\n",
       "      <td>10.607333</td>\n",
       "      <td>10.285704</td>\n",
       "      <td>10.558399</td>\n",
       "      <td>11.741420</td>\n",
       "      <td>11.452669</td>\n",
       "      <td>14.708704</td>\n",
       "      <td>14.751835</td>\n",
       "      <td>15.838156</td>\n",
       "      <td>15.746098</td>\n",
       "      <td>Rejection</td>\n",
       "    </tr>\n",
       "    <tr>\n",
       "      <th>GSM1213386</th>\n",
       "      <td>6.586944</td>\n",
       "      <td>4.396694</td>\n",
       "      <td>5.908935</td>\n",
       "      <td>6.847206</td>\n",
       "      <td>2.312794</td>\n",
       "      <td>5.534966</td>\n",
       "      <td>2.811004</td>\n",
       "      <td>2.886316</td>\n",
       "      <td>8.072180</td>\n",
       "      <td>2.312794</td>\n",
       "      <td>...</td>\n",
       "      <td>10.431571</td>\n",
       "      <td>10.337717</td>\n",
       "      <td>10.534009</td>\n",
       "      <td>11.666105</td>\n",
       "      <td>11.373857</td>\n",
       "      <td>14.319028</td>\n",
       "      <td>14.304099</td>\n",
       "      <td>15.524180</td>\n",
       "      <td>15.495600</td>\n",
       "      <td>Non Rejection</td>\n",
       "    </tr>\n",
       "    <tr>\n",
       "      <th>GSM1213387</th>\n",
       "      <td>8.113412</td>\n",
       "      <td>4.966291</td>\n",
       "      <td>3.426933</td>\n",
       "      <td>8.654701</td>\n",
       "      <td>2.312794</td>\n",
       "      <td>4.373348</td>\n",
       "      <td>3.075388</td>\n",
       "      <td>2.408701</td>\n",
       "      <td>3.145226</td>\n",
       "      <td>2.347056</td>\n",
       "      <td>...</td>\n",
       "      <td>9.572653</td>\n",
       "      <td>9.436200</td>\n",
       "      <td>9.611220</td>\n",
       "      <td>10.922656</td>\n",
       "      <td>10.676562</td>\n",
       "      <td>14.397957</td>\n",
       "      <td>14.377970</td>\n",
       "      <td>15.371247</td>\n",
       "      <td>15.339601</td>\n",
       "      <td>Non Rejection</td>\n",
       "    </tr>\n",
       "    <tr>\n",
       "      <th>GSM1213388</th>\n",
       "      <td>4.556135</td>\n",
       "      <td>4.538842</td>\n",
       "      <td>2.930683</td>\n",
       "      <td>4.673147</td>\n",
       "      <td>2.325085</td>\n",
       "      <td>4.178747</td>\n",
       "      <td>2.721374</td>\n",
       "      <td>2.316967</td>\n",
       "      <td>6.582622</td>\n",
       "      <td>2.312794</td>\n",
       "      <td>...</td>\n",
       "      <td>12.380857</td>\n",
       "      <td>12.193685</td>\n",
       "      <td>12.329166</td>\n",
       "      <td>13.013381</td>\n",
       "      <td>12.895168</td>\n",
       "      <td>14.815939</td>\n",
       "      <td>14.844221</td>\n",
       "      <td>15.831441</td>\n",
       "      <td>15.778055</td>\n",
       "      <td>Non Rejection</td>\n",
       "    </tr>\n",
       "    <tr>\n",
       "      <th>GSM1213389</th>\n",
       "      <td>7.385532</td>\n",
       "      <td>4.293296</td>\n",
       "      <td>2.532271</td>\n",
       "      <td>7.331652</td>\n",
       "      <td>2.312794</td>\n",
       "      <td>4.077321</td>\n",
       "      <td>2.892326</td>\n",
       "      <td>2.316967</td>\n",
       "      <td>3.577197</td>\n",
       "      <td>2.312794</td>\n",
       "      <td>...</td>\n",
       "      <td>9.399750</td>\n",
       "      <td>9.321614</td>\n",
       "      <td>9.540255</td>\n",
       "      <td>10.732131</td>\n",
       "      <td>10.505442</td>\n",
       "      <td>14.444623</td>\n",
       "      <td>14.567359</td>\n",
       "      <td>16.014238</td>\n",
       "      <td>15.893258</td>\n",
       "      <td>Non Rejection</td>\n",
       "    </tr>\n",
       "  </tbody>\n",
       "</table>\n",
       "<p>101 rows × 54676 columns</p>\n",
       "</div>"
      ],
      "text/plain": [
       "            DDR1 /// MIR4640      RFC2     HSPA6      PAX8    GUCA1A  \\\n",
       "GSM1213289          4.412003  3.365282  4.142343  7.442147  2.312794   \n",
       "GSM1213290          8.418660  5.206153  2.528980  8.027655  2.312794   \n",
       "GSM1213291          7.743590  4.207186  2.769058  7.984528  2.312794   \n",
       "GSM1213292          7.646299  3.196709  2.502377  8.073020  2.312794   \n",
       "GSM1213293          7.515312  4.039253  2.365626  7.974305  2.312794   \n",
       "...                      ...       ...       ...       ...       ...   \n",
       "GSM1213385          7.871337  4.277099  3.234229  8.046433  2.312794   \n",
       "GSM1213386          6.586944  4.396694  5.908935  6.847206  2.312794   \n",
       "GSM1213387          8.113412  4.966291  3.426933  8.654701  2.312794   \n",
       "GSM1213388          4.556135  4.538842  2.930683  4.673147  2.325085   \n",
       "GSM1213389          7.385532  4.293296  2.532271  7.331652  2.312794   \n",
       "\n",
       "            MIR5193 /// UBA7      THRA    PTPN21      CCL5    CYP2E1  ...  \\\n",
       "GSM1213289          3.943882  3.496575  2.732255  3.655529  2.312794  ...   \n",
       "GSM1213290          4.064825  2.591164  3.008397  2.894678  2.436985  ...   \n",
       "GSM1213291          3.447934  2.666751  2.316967  3.052854  2.312794  ...   \n",
       "GSM1213292          4.569509  3.129843  2.316967  2.667046  2.312794  ...   \n",
       "GSM1213293          2.992617  2.713734  2.316967  2.370153  2.312794  ...   \n",
       "...                      ...       ...       ...       ...       ...  ...   \n",
       "GSM1213385          4.770682  3.382907  2.316967  4.892950  2.312794  ...   \n",
       "GSM1213386          5.534966  2.811004  2.886316  8.072180  2.312794  ...   \n",
       "GSM1213387          4.373348  3.075388  2.408701  3.145226  2.347056  ...   \n",
       "GSM1213388          4.178747  2.721374  2.316967  6.582622  2.312794  ...   \n",
       "GSM1213389          4.077321  2.892326  2.316967  3.577197  2.312794  ...   \n",
       "\n",
       "            AFFX-r2-Ec-bioB-3_at  AFFX-r2-Ec-bioB-5_at  AFFX-r2-Ec-bioB-M_at  \\\n",
       "GSM1213289             11.110997             11.262259             11.457425   \n",
       "GSM1213290             10.914057             10.830813             10.979552   \n",
       "GSM1213291             10.513403             10.394816             10.527530   \n",
       "GSM1213292             11.062947             11.071267             11.196127   \n",
       "GSM1213293              9.867020             10.056278             10.010487   \n",
       "...                          ...                   ...                   ...   \n",
       "GSM1213385             10.607333             10.285704             10.558399   \n",
       "GSM1213386             10.431571             10.337717             10.534009   \n",
       "GSM1213387              9.572653              9.436200              9.611220   \n",
       "GSM1213388             12.380857             12.193685             12.329166   \n",
       "GSM1213389              9.399750              9.321614              9.540255   \n",
       "\n",
       "            AFFX-r2-Ec-bioC-3_at  AFFX-r2-Ec-bioC-5_at  AFFX-r2-Ec-bioD-3_at  \\\n",
       "GSM1213289             12.278762             12.130433             14.359985   \n",
       "GSM1213290             12.020552             11.842536             14.610206   \n",
       "GSM1213291             11.659199             11.404545             14.504649   \n",
       "GSM1213292             12.251241             11.981929             14.637438   \n",
       "GSM1213293             11.183005             10.924625             13.872618   \n",
       "...                          ...                   ...                   ...   \n",
       "GSM1213385             11.741420             11.452669             14.708704   \n",
       "GSM1213386             11.666105             11.373857             14.319028   \n",
       "GSM1213387             10.922656             10.676562             14.397957   \n",
       "GSM1213388             13.013381             12.895168             14.815939   \n",
       "GSM1213389             10.732131             10.505442             14.444623   \n",
       "\n",
       "            AFFX-r2-Ec-bioD-5_at  AFFX-r2-P1-cre-3_at  AFFX-r2-P1-cre-5_at  \\\n",
       "GSM1213289             14.571807            16.069533            15.626030   \n",
       "GSM1213290             14.531008            16.057891            15.912677   \n",
       "GSM1213291             14.353342            15.894131            15.753970   \n",
       "GSM1213292             14.591767            16.117213            15.970946   \n",
       "GSM1213293             13.903985            15.841868            15.756689   \n",
       "...                          ...                  ...                  ...   \n",
       "GSM1213385             14.751835            15.838156            15.746098   \n",
       "GSM1213386             14.304099            15.524180            15.495600   \n",
       "GSM1213387             14.377970            15.371247            15.339601   \n",
       "GSM1213388             14.844221            15.831441            15.778055   \n",
       "GSM1213389             14.567359            16.014238            15.893258   \n",
       "\n",
       "            Rejection Status  \n",
       "GSM1213289     Non Rejection  \n",
       "GSM1213290     Non Rejection  \n",
       "GSM1213291     Non Rejection  \n",
       "GSM1213292     Non Rejection  \n",
       "GSM1213293     Non Rejection  \n",
       "...                      ...  \n",
       "GSM1213385         Rejection  \n",
       "GSM1213386     Non Rejection  \n",
       "GSM1213387     Non Rejection  \n",
       "GSM1213388     Non Rejection  \n",
       "GSM1213389     Non Rejection  \n",
       "\n",
       "[101 rows x 54676 columns]"
      ]
     },
     "execution_count": 2,
     "metadata": {},
     "output_type": "execute_result"
    }
   ],
   "source": [
    "expression_df"
   ]
  },
  {
   "cell_type": "markdown",
   "id": "f44df5e4",
   "metadata": {},
   "source": [
    "Model"
   ]
  },
  {
   "cell_type": "markdown",
   "id": "51f03225",
   "metadata": {},
   "source": [
    "21374's interval Hubgene"
   ]
  },
  {
   "cell_type": "code",
   "execution_count": 3,
   "id": "6abae318",
   "metadata": {},
   "outputs": [],
   "source": [
    "hub_genes = [\"CXCL9\", \"MIR155 /// MIR155HG\", \"CD8A\", \"CLIC2\", \"GBP5.1\", \"235229_at\", \"RP1-93H18.6\"]"
   ]
  },
  {
   "cell_type": "code",
   "execution_count": null,
   "id": "dc4d1eb1",
   "metadata": {},
   "outputs": [],
   "source": [
    "X = expression_df[hub_genes]\n",
    "y = expression_df[\"Rejection Status\"].map({\"Rejection\": 1, \"Non Rejection\": 0})"
   ]
  },
  {
   "cell_type": "code",
   "execution_count": 5,
   "id": "f55d1f06",
   "metadata": {},
   "outputs": [],
   "source": [
    "from sklearn.model_selection import train_test_split\n",
    "\n",
    "X_train, X_test, y_train, y_test = train_test_split(\n",
    "    X, y, test_size=0.3, random_state=42, stratify=y\n",
    ")"
   ]
  },
  {
   "cell_type": "code",
   "execution_count": null,
   "id": "b19ad5e4",
   "metadata": {},
   "outputs": [
    {
     "name": "stdout",
     "output_type": "stream",
     "text": [
      "Logistic Regression Coefficients:\n",
      "                  Gene  Coefficient\n",
      "5            235229_at     0.977166\n",
      "1  MIR155 /// MIR155HG     0.577272\n",
      "4               GBP5.1    -0.482183\n",
      "2                 CD8A    -0.464337\n",
      "6          RP1-93H18.6     0.146550\n",
      "3                CLIC2    -0.073725\n",
      "0                CXCL9     0.051721\n"
     ]
    },
    {
     "data": {
      "image/png": "[encoded data removed]",
      "text/plain": [
       "<Figure size 800x500 with 1 Axes>"
      ]
     },
     "metadata": {},
     "output_type": "display_data"
    },
    {
     "name": "stdout",
     "output_type": "stream",
     "text": [
      "\n",
      "AUC - Logistic: 0.915\n",
      "AUC - Random Forest: 0.842\n"
     ]
    }
   ],
   "source": [
    "from sklearn.linear_model import LogisticRegression\n",
    "from sklearn.ensemble import RandomForestClassifier\n",
    "from sklearn.metrics import roc_auc_score, classification_report\n",
    "import matplotlib.pyplot as plt\n",
    "import seaborn as sns\n",
    "lr = LogisticRegression(max_iter=1000)\n",
    "lr.fit(X_train, y_train)\n",
    "lr_auc = roc_auc_score(y_test, lr.predict_proba(X_test)[:, 1])\n",
    "\n",
    "coef_df = pd.DataFrame({\n",
    "    \"Gene\": X.columns,\n",
    "    \"Coefficient\": lr.coef_[0]\n",
    "}).sort_values(by=\"Coefficient\", key=abs, ascending=False)\n",
    "print(\"Logistic Regression Coefficients:\")\n",
    "print(coef_df)\n",
    "\n",
    "rf = RandomForestClassifier(n_estimators=100, random_state=42)\n",
    "rf.fit(X_train, y_train)\n",
    "rf_auc = roc_auc_score(y_test, rf.predict_proba(X_test)[:, 1])\n",
    "\n",
    "importances_df = pd.DataFrame({\n",
    "    \"Gene\": X.columns,\n",
    "    \"Importance\": rf.feature_importances_\n",
    "}).sort_values(by=\"Importance\", ascending=False)\n",
    "\n",
    "plt.figure(figsize=(8, 5))\n",
    "sns.barplot(data=importances_df, x=\"Importance\", y=\"Gene\")\n",
    "plt.title(\"Random Forest Feature Importance\")\n",
    "plt.tight_layout()\n",
    "plt.show()\n",
    "\n",
    "print(f\"\\nAUC - Logistic: {lr_auc:.3f}\")\n",
    "print(f\"AUC - Random Forest: {rf_auc:.3f}\")"
   ]
  },
  {
   "cell_type": "code",
   "execution_count": null,
   "id": "cf49307f",
   "metadata": {},
   "outputs": [
    {
     "name": "stdout",
     "output_type": "stream",
     "text": [
      " Stacking AUC: 0.876\n"
     ]
    }
   ],
   "source": [
    "#### STACKING MODEL\n",
    "from sklearn.ensemble import StackingClassifier\n",
    "from sklearn.linear_model import LogisticRegression\n",
    "from sklearn.ensemble import RandomForestClassifier\n",
    "\n",
    "base_models = [\n",
    "    ('lr', LogisticRegression(max_iter=1000)),\n",
    "    ('rf', RandomForestClassifier(n_estimators=100))\n",
    "]\n",
    "\n",
    "stacked_model = StackingClassifier(\n",
    "    estimators=base_models,\n",
    "    final_estimator=LogisticRegression(),\n",
    "    cv=5\n",
    ")\n",
    "\n",
    "stacked_model.fit(X_train, y_train)\n",
    "stacked_auc = roc_auc_score(y_test, stacked_model.predict_proba(X_test)[:, 1])\n",
    "print(f\" Stacking AUC: {stacked_auc:.3f}\")"
   ]
  },
  {
   "cell_type": "markdown",
   "id": "4a4e69a8",
   "metadata": {},
   "source": [
    "21374's cyto node hubgene"
   ]
  },
  {
   "cell_type": "code",
   "execution_count": 8,
   "id": "8b204cc9",
   "metadata": {},
   "outputs": [],
   "source": [
    "hub_genes = [\"CXCL9\", \"GZMA\", \"CD8A\", \"IDO1\", \"CD69\"]"
   ]
  },
  {
   "cell_type": "code",
   "execution_count": null,
   "id": "32b9b49a",
   "metadata": {},
   "outputs": [],
   "source": [
    "X = expression_df[hub_genes]\n",
    "y = expression_df[\"Rejection Status\"].map({\"Rejection\": 1, \"Non Rejection\": 0})"
   ]
  },
  {
   "cell_type": "code",
   "execution_count": 10,
   "id": "2a07185d",
   "metadata": {},
   "outputs": [],
   "source": [
    "from sklearn.model_selection import train_test_split\n",
    "\n",
    "X_train, X_test, y_train, y_test = train_test_split(\n",
    "    X, y, test_size=0.3, random_state=42, stratify=y\n",
    ")"
   ]
  },
  {
   "cell_type": "code",
   "execution_count": null,
   "id": "ee2ae1a0",
   "metadata": {},
   "outputs": [
    {
     "name": "stdout",
     "output_type": "stream",
     "text": [
      "Logistic Regression Coefficients:\n",
      "    Gene  Coefficient\n",
      "0  CXCL9     0.316253\n",
      "4   CD69     0.190098\n",
      "2   CD8A    -0.153554\n",
      "3   IDO1     0.109045\n",
      "1   GZMA     0.101255\n"
     ]
    },
    {
     "data": {
      "image/png": "[encoded data removed]",
      "text/plain": [
       "<Figure size 800x500 with 1 Axes>"
      ]
     },
     "metadata": {},
     "output_type": "display_data"
    },
    {
     "name": "stdout",
     "output_type": "stream",
     "text": [
      "\n",
      "AUC - Logistic: 0.859\n",
      "AUC - Random Forest: 0.776\n"
     ]
    }
   ],
   "source": [
    "from sklearn.linear_model import LogisticRegression\n",
    "from sklearn.ensemble import RandomForestClassifier\n",
    "from sklearn.metrics import roc_auc_score, classification_report\n",
    "import matplotlib.pyplot as plt\n",
    "import seaborn as sns\n",
    "\n",
    "lr = LogisticRegression(max_iter=1000)\n",
    "lr.fit(X_train, y_train)\n",
    "lr_auc = roc_auc_score(y_test, lr.predict_proba(X_test)[:, 1])\n",
    "\n",
    "coef_df = pd.DataFrame({\n",
    "    \"Gene\": X.columns,\n",
    "    \"Coefficient\": lr.coef_[0]\n",
    "}).sort_values(by=\"Coefficient\", key=abs, ascending=False)\n",
    "print(\"Logistic Regression Coefficients:\")\n",
    "print(coef_df)\n",
    "\n",
    "rf = RandomForestClassifier(n_estimators=100, random_state=42)\n",
    "rf.fit(X_train, y_train)\n",
    "rf_auc = roc_auc_score(y_test, rf.predict_proba(X_test)[:, 1])\n",
    "\n",
    "importances_df = pd.DataFrame({\n",
    "    \"Gene\": X.columns,\n",
    "    \"Importance\": rf.feature_importances_\n",
    "}).sort_values(by=\"Importance\", ascending=False)\n",
    "\n",
    "plt.figure(figsize=(8, 5))\n",
    "sns.barplot(data=importances_df, x=\"Importance\", y=\"Gene\")\n",
    "plt.title(\"Random Forest Feature Importance\")\n",
    "plt.tight_layout()\n",
    "plt.show()\n",
    "\n",
    "print(f\"\\nAUC - Logistic: {lr_auc:.3f}\")\n",
    "print(f\"AUC - Random Forest: {rf_auc:.3f}\")"
   ]
  },
  {
   "cell_type": "code",
   "execution_count": null,
   "id": "fcb7cfca",
   "metadata": {},
   "outputs": [
    {
     "name": "stdout",
     "output_type": "stream",
     "text": [
      " Stacking AUC: 0.842\n"
     ]
    }
   ],
   "source": [
    "#### STACKING MODEL\n",
    "from sklearn.ensemble import StackingClassifier\n",
    "from sklearn.linear_model import LogisticRegression\n",
    "from sklearn.ensemble import RandomForestClassifier\n",
    "\n",
    "base_models = [\n",
    "    ('lr', LogisticRegression(max_iter=1000)),\n",
    "    ('rf', RandomForestClassifier(n_estimators=100))\n",
    "]\n",
    "\n",
    "stacked_model = StackingClassifier(\n",
    "    estimators=base_models,\n",
    "    final_estimator=LogisticRegression(),\n",
    "    cv=5\n",
    ")\n",
    "\n",
    "stacked_model.fit(X_train, y_train)\n",
    "stacked_auc = roc_auc_score(y_test, stacked_model.predict_proba(X_test)[:, 1])\n",
    "print(f\" Stacking AUC: {stacked_auc:.3f}\")"
   ]
  },
  {
   "cell_type": "markdown",
   "id": "ee519135",
   "metadata": {},
   "source": [
    "36059's interval hub gene"
   ]
  },
  {
   "cell_type": "code",
   "execution_count": 13,
   "id": "a7f9e5a7",
   "metadata": {},
   "outputs": [],
   "source": [
    "hub_genes = [\"CCL4\", \"PLA1A\", \"FAM26F.1\", \"CXCL11\", \"RBP7\", \"IDO1\"]"
   ]
  },
  {
   "cell_type": "code",
   "execution_count": null,
   "id": "30a32a59",
   "metadata": {},
   "outputs": [
    {
     "name": "stdout",
     "output_type": "stream",
     "text": [
      "Logistic Regression Coefficients:\n",
      "       Gene  Coefficient\n",
      "0      CCL4     0.626664\n",
      "4      RBP7    -0.542018\n",
      "2  FAM26F.1     0.414798\n",
      "3    CXCL11     0.141032\n",
      "5      IDO1    -0.120222\n",
      "1     PLA1A     0.047041\n"
     ]
    },
    {
     "data": {
      "image/png": "[encoded data removed]",
      "text/plain": [
       "<Figure size 800x500 with 1 Axes>"
      ]
     },
     "metadata": {},
     "output_type": "display_data"
    },
    {
     "name": "stdout",
     "output_type": "stream",
     "text": [
      "\n",
      "AUC - Logistic: 0.957\n",
      "AUC - Random Forest: 0.944\n"
     ]
    }
   ],
   "source": [
    "X = expression_df[hub_genes]\n",
    "y = expression_df[\"Rejection Status\"].map({\"Rejection\": 1, \"Non Rejection\": 0})\n",
    "\n",
    "from sklearn.model_selection import train_test_split\n",
    "\n",
    "X_train, X_test, y_train, y_test = train_test_split(\n",
    "    X, y, test_size=0.3, random_state=42, stratify=y\n",
    ")\n",
    "\n",
    "from sklearn.linear_model import LogisticRegression\n",
    "from sklearn.ensemble import RandomForestClassifier\n",
    "from sklearn.metrics import roc_auc_score, classification_report\n",
    "import matplotlib.pyplot as plt\n",
    "import seaborn as sns\n",
    "\n",
    "lr = LogisticRegression(max_iter=1000)\n",
    "lr.fit(X_train, y_train)\n",
    "lr_auc = roc_auc_score(y_test, lr.predict_proba(X_test)[:, 1])\n",
    "coef_df = pd.DataFrame({\n",
    "    \"Gene\": X.columns,\n",
    "    \"Coefficient\": lr.coef_[0]\n",
    "}).sort_values(by=\"Coefficient\", key=abs, ascending=False)\n",
    "print(\"Logistic Regression Coefficients:\")\n",
    "print(coef_df)\n",
    "\n",
    "rf = RandomForestClassifier(n_estimators=100, random_state=42)\n",
    "rf.fit(X_train, y_train)\n",
    "rf_auc = roc_auc_score(y_test, rf.predict_proba(X_test)[:, 1])\n",
    "\n",
    "importances_df = pd.DataFrame({\n",
    "    \"Gene\": X.columns,\n",
    "    \"Importance\": rf.feature_importances_\n",
    "}).sort_values(by=\"Importance\", ascending=False)\n",
    "\n",
    "plt.figure(figsize=(8, 5))\n",
    "sns.barplot(data=importances_df, x=\"Importance\", y=\"Gene\")\n",
    "plt.title(\"Random Forest Feature Importance\")\n",
    "plt.tight_layout()\n",
    "plt.show()\n",
    "print(f\"\\nAUC - Logistic: {lr_auc:.3f}\")\n",
    "print(f\"AUC - Random Forest: {rf_auc:.3f}\")"
   ]
  },
  {
   "cell_type": "code",
   "execution_count": null,
   "id": "370b9659",
   "metadata": {},
   "outputs": [
    {
     "name": "stdout",
     "output_type": "stream",
     "text": [
      " Stacking AUC: 0.970\n"
     ]
    }
   ],
   "source": [
    "#### STACKING MODEL\n",
    "from sklearn.ensemble import StackingClassifier\n",
    "from sklearn.linear_model import LogisticRegression\n",
    "from sklearn.ensemble import RandomForestClassifier\n",
    "\n",
    "base_models = [\n",
    "    ('lr', LogisticRegression(max_iter=1000)),\n",
    "    ('rf', RandomForestClassifier(n_estimators=100))\n",
    "]\n",
    "\n",
    "stacked_model = StackingClassifier(\n",
    "    estimators=base_models,\n",
    "    final_estimator=LogisticRegression(),  # 也可以用 SVM 等\n",
    "    cv=5\n",
    ")\n",
    "\n",
    "stacked_model.fit(X_train, y_train)\n",
    "stacked_auc = roc_auc_score(y_test, stacked_model.predict_proba(X_test)[:, 1])\n",
    "print(f\" Stacking AUC: {stacked_auc:.3f}\")"
   ]
  },
  {
   "cell_type": "markdown",
   "id": "d659c8f4",
   "metadata": {},
   "source": [
    "36059's cyto node hubgene"
   ]
  },
  {
   "cell_type": "code",
   "execution_count": 17,
   "id": "35d00e4f",
   "metadata": {},
   "outputs": [],
   "source": [
    "hub_genes = [\"CXCL10\", \"IDO1\", \"LILRB2\", \"CXCL9\", \"CCL4\"]"
   ]
  },
  {
   "cell_type": "code",
   "execution_count": null,
   "id": "f798fa88",
   "metadata": {},
   "outputs": [
    {
     "name": "stdout",
     "output_type": "stream",
     "text": [
      "Logistic Regression Coefficients:\n",
      "     Gene  Coefficient\n",
      "4    CCL4     0.904658\n",
      "2  LILRB2    -0.726094\n",
      "0  CXCL10     0.240747\n",
      "1    IDO1    -0.201250\n",
      "3   CXCL9     0.161786\n"
     ]
    },
    {
     "data": {
      "image/png": "[encoded data removed]",
      "text/plain": [
       "<Figure size 800x500 with 1 Axes>"
      ]
     },
     "metadata": {},
     "output_type": "display_data"
    },
    {
     "name": "stdout",
     "output_type": "stream",
     "text": [
      "\n",
      "AUC - Logistic: 0.932\n",
      "AUC - Random Forest: 0.919\n"
     ]
    }
   ],
   "source": [
    "X = expression_df[hub_genes]\n",
    "y = expression_df[\"Rejection Status\"].map({\"Rejection\": 1, \"Non Rejection\": 0})\n",
    "\n",
    "from sklearn.model_selection import train_test_split\n",
    "\n",
    "X_train, X_test, y_train, y_test = train_test_split(\n",
    "    X, y, test_size=0.3, random_state=42, stratify=y\n",
    ")\n",
    "\n",
    "from sklearn.linear_model import LogisticRegression\n",
    "from sklearn.ensemble import RandomForestClassifier\n",
    "from sklearn.metrics import roc_auc_score, classification_report\n",
    "import matplotlib.pyplot as plt\n",
    "import seaborn as sns\n",
    "\n",
    "lr = LogisticRegression(max_iter=1000)\n",
    "lr.fit(X_train, y_train)\n",
    "lr_auc = roc_auc_score(y_test, lr.predict_proba(X_test)[:, 1])\n",
    "\n",
    "coef_df = pd.DataFrame({\n",
    "    \"Gene\": X.columns,\n",
    "    \"Coefficient\": lr.coef_[0]\n",
    "}).sort_values(by=\"Coefficient\", key=abs, ascending=False)\n",
    "print(\"Logistic Regression Coefficients:\")\n",
    "print(coef_df)\n",
    "\n",
    "rf = RandomForestClassifier(n_estimators=100, random_state=42)\n",
    "rf.fit(X_train, y_train)\n",
    "rf_auc = roc_auc_score(y_test, rf.predict_proba(X_test)[:, 1])\n",
    "\n",
    "importances_df = pd.DataFrame({\n",
    "    \"Gene\": X.columns,\n",
    "    \"Importance\": rf.feature_importances_\n",
    "}).sort_values(by=\"Importance\", ascending=False)\n",
    "\n",
    "plt.figure(figsize=(8, 5))\n",
    "sns.barplot(data=importances_df, x=\"Importance\", y=\"Gene\")\n",
    "plt.title(\"Random Forest Feature Importance\")\n",
    "plt.tight_layout()\n",
    "plt.show()\n",
    "print(f\"\\nAUC - Logistic: {lr_auc:.3f}\")\n",
    "print(f\"AUC - Random Forest: {rf_auc:.3f}\")"
   ]
  },
  {
   "cell_type": "code",
   "execution_count": null,
   "id": "8b8ff2bc",
   "metadata": {},
   "outputs": [
    {
     "name": "stdout",
     "output_type": "stream",
     "text": [
      " Stacking AUC: 0.949\n"
     ]
    }
   ],
   "source": [
    "#### STACKING MODEL\n",
    "from sklearn.ensemble import StackingClassifier\n",
    "from sklearn.linear_model import LogisticRegression\n",
    "from sklearn.ensemble import RandomForestClassifier\n",
    "\n",
    "base_models = [\n",
    "    ('lr', LogisticRegression(max_iter=1000)),\n",
    "    ('rf', RandomForestClassifier(n_estimators=100))\n",
    "]\n",
    "\n",
    "\n",
    "stacked_model = StackingClassifier(\n",
    "    estimators=base_models,\n",
    "    final_estimator=LogisticRegression(),  # 也可以用 SVM 等\n",
    "    cv=5\n",
    ")\n",
    "\n",
    "stacked_model.fit(X_train, y_train)\n",
    "stacked_auc = roc_auc_score(y_test, stacked_model.predict_proba(X_test)[:, 1])\n",
    "print(f\" Stacking AUC: {stacked_auc:.3f}\")"
   ]
  },
  {
   "cell_type": "markdown",
   "id": "aee6c77c",
   "metadata": {},
   "source": [
    "48581's interval hub gene"
   ]
  },
  {
   "cell_type": "code",
   "execution_count": 33,
   "id": "d3573ed2",
   "metadata": {},
   "outputs": [],
   "source": [
    "hub_genes = [\"SCMH1\", \"WDR3\", \"LOC100507073\"]"
   ]
  },
  {
   "cell_type": "code",
   "execution_count": null,
   "id": "6eeff789",
   "metadata": {},
   "outputs": [
    {
     "name": "stdout",
     "output_type": "stream",
     "text": [
      "Logistic Regression Coefficients:\n",
      "           Gene  Coefficient\n",
      "0         SCMH1    -0.530733\n",
      "2  LOC100507073    -0.140576\n",
      "1          WDR3     0.076345\n"
     ]
    },
    {
     "data": {
      "image/png": "[encoded data removed]",
      "text/plain": [
       "<Figure size 800x500 with 1 Axes>"
      ]
     },
     "metadata": {},
     "output_type": "display_data"
    },
    {
     "name": "stdout",
     "output_type": "stream",
     "text": [
      "\n",
      "AUC - Logistic: 0.491\n",
      "AUC - Random Forest: 0.637\n"
     ]
    }
   ],
   "source": [
    "X = expression_df[hub_genes]\n",
    "y = expression_df[\"Rejection Status\"].map({\"Rejection\": 1, \"Non Rejection\": 0})\n",
    "\n",
    "from sklearn.model_selection import train_test_split\n",
    "\n",
    "X_train, X_test, y_train, y_test = train_test_split(\n",
    "    X, y, test_size=0.3, random_state=42, stratify=y\n",
    ")\n",
    "\n",
    "from sklearn.linear_model import LogisticRegression\n",
    "from sklearn.ensemble import RandomForestClassifier\n",
    "from sklearn.metrics import roc_auc_score, classification_report\n",
    "import matplotlib.pyplot as plt\n",
    "import seaborn as sns\n",
    "\n",
    "lr = LogisticRegression(max_iter=1000)\n",
    "lr.fit(X_train, y_train)\n",
    "lr_auc = roc_auc_score(y_test, lr.predict_proba(X_test)[:, 1])\n",
    "\n",
    "coef_df = pd.DataFrame({\n",
    "    \"Gene\": X.columns,\n",
    "    \"Coefficient\": lr.coef_[0]\n",
    "}).sort_values(by=\"Coefficient\", key=abs, ascending=False)\n",
    "print(\"Logistic Regression Coefficients:\")\n",
    "print(coef_df)\n",
    "\n",
    "rf = RandomForestClassifier(n_estimators=100, random_state=42)\n",
    "rf.fit(X_train, y_train)\n",
    "rf_auc = roc_auc_score(y_test, rf.predict_proba(X_test)[:, 1])\n",
    "\n",
    "importances_df = pd.DataFrame({\n",
    "    \"Gene\": X.columns,\n",
    "    \"Importance\": rf.feature_importances_\n",
    "}).sort_values(by=\"Importance\", ascending=False)\n",
    "\n",
    "plt.figure(figsize=(8, 5))\n",
    "sns.barplot(data=importances_df, x=\"Importance\", y=\"Gene\")\n",
    "plt.title(\"Random Forest Feature Importance\")\n",
    "plt.tight_layout()\n",
    "plt.show()\n",
    "\n",
    "print(f\"\\nAUC - Logistic: {lr_auc:.3f}\")\n",
    "print(f\"AUC - Random Forest: {rf_auc:.3f}\")"
   ]
  },
  {
   "cell_type": "code",
   "execution_count": null,
   "id": "45dcf2ee",
   "metadata": {},
   "outputs": [
    {
     "name": "stdout",
     "output_type": "stream",
     "text": [
      " Stacking AUC: 0.603\n"
     ]
    }
   ],
   "source": [
    "#### STACKING MODEL\n",
    "from sklearn.ensemble import StackingClassifier\n",
    "from sklearn.linear_model import LogisticRegression\n",
    "from sklearn.ensemble import RandomForestClassifier\n",
    "base_models = [\n",
    "    ('lr', LogisticRegression(max_iter=1000)),\n",
    "    ('rf', RandomForestClassifier(n_estimators=100))\n",
    "]\n",
    "\n",
    "\n",
    "stacked_model = StackingClassifier(\n",
    "    estimators=base_models,\n",
    "    final_estimator=LogisticRegression(),  # 也可以用 SVM 等\n",
    "    cv=5\n",
    ")\n",
    "\n",
    "stacked_model.fit(X_train, y_train)\n",
    "stacked_auc = roc_auc_score(y_test, stacked_model.predict_proba(X_test)[:, 1])\n",
    "print(f\" Stacking AUC: {stacked_auc:.3f}\")"
   ]
  },
  {
   "cell_type": "markdown",
   "id": "1a4b5a91",
   "metadata": {},
   "source": [
    "48581's cyto node hub gene"
   ]
  },
  {
   "cell_type": "code",
   "execution_count": 37,
   "id": "2726a642",
   "metadata": {},
   "outputs": [],
   "source": [
    "hub_genes = [\"CXCL13\", \"LILRB2\", \"CD8A\", \"FOS\", \"RGS1\"]"
   ]
  },
  {
   "cell_type": "code",
   "execution_count": null,
   "id": "ab8ac02b",
   "metadata": {},
   "outputs": [
    {
     "name": "stdout",
     "output_type": "stream",
     "text": [
      "Logistic Regression Coefficients:\n",
      "     Gene  Coefficient\n",
      "0  CXCL13     0.390930\n",
      "4    RGS1     0.167387\n",
      "1  LILRB2    -0.114255\n",
      "2    CD8A     0.060134\n",
      "3     FOS    -0.001346\n"
     ]
    },
    {
     "data": {
      "image/png": "[encoded data removed]",
      "text/plain": [
       "<Figure size 800x500 with 1 Axes>"
      ]
     },
     "metadata": {},
     "output_type": "display_data"
    },
    {
     "name": "stdout",
     "output_type": "stream",
     "text": [
      "\n",
      "AUC - Logistic: 0.889\n",
      "AUC - Random Forest: 0.923\n"
     ]
    }
   ],
   "source": [
    "X = expression_df[hub_genes]\n",
    "y = expression_df[\"Rejection Status\"].map({\"Rejection\": 1, \"Non Rejection\": 0})\n",
    "from sklearn.model_selection import train_test_split\n",
    "X_train, X_test, y_train, y_test = train_test_split(\n",
    "    X, y, test_size=0.3, random_state=42, stratify=y\n",
    ")\n",
    "\n",
    "from sklearn.linear_model import LogisticRegression\n",
    "from sklearn.ensemble import RandomForestClassifier\n",
    "from sklearn.metrics import roc_auc_score, classification_report\n",
    "import matplotlib.pyplot as plt\n",
    "import seaborn as sns\n",
    "lr = LogisticRegression(max_iter=1000)\n",
    "lr.fit(X_train, y_train)\n",
    "lr_auc = roc_auc_score(y_test, lr.predict_proba(X_test)[:, 1])\n",
    "\n",
    "coef_df = pd.DataFrame({\n",
    "    \"Gene\": X.columns,\n",
    "    \"Coefficient\": lr.coef_[0]\n",
    "}).sort_values(by=\"Coefficient\", key=abs, ascending=False)\n",
    "print(\"Logistic Regression Coefficients:\")\n",
    "print(coef_df)\n",
    "\n",
    "rf = RandomForestClassifier(n_estimators=100, random_state=42)\n",
    "rf.fit(X_train, y_train)\n",
    "rf_auc = roc_auc_score(y_test, rf.predict_proba(X_test)[:, 1])\n",
    "\n",
    "importances_df = pd.DataFrame({\n",
    "    \"Gene\": X.columns,\n",
    "    \"Importance\": rf.feature_importances_\n",
    "}).sort_values(by=\"Importance\", ascending=False)\n",
    "\n",
    "plt.figure(figsize=(8, 5))\n",
    "sns.barplot(data=importances_df, x=\"Importance\", y=\"Gene\")\n",
    "plt.title(\"Random Forest Feature Importance\")\n",
    "plt.tight_layout()\n",
    "plt.show()\n",
    "\n",
    "print(f\"\\nAUC - Logistic: {lr_auc:.3f}\")\n",
    "print(f\"AUC - Random Forest: {rf_auc:.3f}\")"
   ]
  },
  {
   "cell_type": "code",
   "execution_count": null,
   "id": "aee352de",
   "metadata": {},
   "outputs": [
    {
     "name": "stdout",
     "output_type": "stream",
     "text": [
      " Stacking AUC: 0.902\n"
     ]
    }
   ],
   "source": [
    "from sklearn.ensemble import StackingClassifier\n",
    "from sklearn.linear_model import LogisticRegression\n",
    "from sklearn.ensemble import RandomForestClassifier\n",
    "\n",
    "\n",
    "base_models = [\n",
    "    ('lr', LogisticRegression(max_iter=1000)),\n",
    "    ('rf', RandomForestClassifier(n_estimators=100))\n",
    "]\n",
    "\n",
    "stacked_model = StackingClassifier(\n",
    "    estimators=base_models,\n",
    "    final_estimator=LogisticRegression(),  # 也可以用 SVM 等\n",
    "    cv=5\n",
    ")\n",
    "\n",
    "stacked_model.fit(X_train, y_train)\n",
    "stacked_auc = roc_auc_score(y_test, stacked_model.predict_proba(X_test)[:, 1])\n",
    "print(f\" Stacking AUC: {stacked_auc:.3f}\")"
   ]
  },
  {
   "cell_type": "markdown",
   "id": "48ec7f5d",
   "metadata": {},
   "source": [
    "50058's interval hub gene"
   ]
  },
  {
   "cell_type": "code",
   "execution_count": 41,
   "id": "ec617578",
   "metadata": {},
   "outputs": [],
   "source": [
    "hub_genes = [\"FAM26F.1\", \"GPR171\", \"229668_at\", \"B2M.2\", \"FAXDC2\", \"CCL4\", \"CXCL11\", \"SOST\"]"
   ]
  },
  {
   "cell_type": "code",
   "execution_count": null,
   "id": "3f291737",
   "metadata": {},
   "outputs": [
    {
     "name": "stdout",
     "output_type": "stream",
     "text": [
      "Logistic Regression Coefficients:\n",
      "        Gene  Coefficient\n",
      "5       CCL4     1.004338\n",
      "2  229668_at    -0.719023\n",
      "7       SOST    -0.708665\n",
      "3      B2M.2     0.656440\n",
      "4     FAXDC2    -0.588316\n",
      "6     CXCL11     0.469280\n",
      "0   FAM26F.1    -0.441934\n",
      "1     GPR171     0.264069\n"
     ]
    },
    {
     "data": {
      "image/png": "[encoded data removed]",
      "text/plain": [
       "<Figure size 800x500 with 1 Axes>"
      ]
     },
     "metadata": {},
     "output_type": "display_data"
    },
    {
     "name": "stdout",
     "output_type": "stream",
     "text": [
      "\n",
      "AUC - Logistic: 0.923\n",
      "AUC - Random Forest: 0.929\n"
     ]
    }
   ],
   "source": [
    "X = expression_df[hub_genes]\n",
    "y = expression_df[\"Rejection Status\"].map({\"Rejection\": 1, \"Non Rejection\": 0})\n",
    "from sklearn.model_selection import train_test_split\n",
    "\n",
    "X_train, X_test, y_train, y_test = train_test_split(\n",
    "    X, y, test_size=0.3, random_state=42, stratify=y\n",
    ")\n",
    "\n",
    "from sklearn.linear_model import LogisticRegression\n",
    "from sklearn.ensemble import RandomForestClassifier\n",
    "from sklearn.metrics import roc_auc_score, classification_report\n",
    "import matplotlib.pyplot as plt\n",
    "import seaborn as sns\n",
    "\n",
    "lr = LogisticRegression(max_iter=1000)\n",
    "lr.fit(X_train, y_train)\n",
    "lr_auc = roc_auc_score(y_test, lr.predict_proba(X_test)[:, 1])\n",
    "\n",
    "coef_df = pd.DataFrame({\n",
    "    \"Gene\": X.columns,\n",
    "    \"Coefficient\": lr.coef_[0]\n",
    "}).sort_values(by=\"Coefficient\", key=abs, ascending=False)\n",
    "print(\"Logistic Regression Coefficients:\")\n",
    "print(coef_df)\n",
    "\n",
    "rf = RandomForestClassifier(n_estimators=100, random_state=42)\n",
    "rf.fit(X_train, y_train)\n",
    "rf_auc = roc_auc_score(y_test, rf.predict_proba(X_test)[:, 1])\n",
    "\n",
    "importances_df = pd.DataFrame({\n",
    "    \"Gene\": X.columns,\n",
    "    \"Importance\": rf.feature_importances_\n",
    "}).sort_values(by=\"Importance\", ascending=False)\n",
    "\n",
    "plt.figure(figsize=(8, 5))\n",
    "sns.barplot(data=importances_df, x=\"Importance\", y=\"Gene\")\n",
    "plt.title(\"Random Forest Feature Importance\")\n",
    "plt.tight_layout()\n",
    "plt.show()\n",
    "print(f\"\\nAUC - Logistic: {lr_auc:.3f}\")\n",
    "print(f\"AUC - Random Forest: {rf_auc:.3f}\")"
   ]
  },
  {
   "cell_type": "code",
   "execution_count": null,
   "id": "574d440e",
   "metadata": {},
   "outputs": [
    {
     "name": "stdout",
     "output_type": "stream",
     "text": [
      " Stacking AUC: 0.927\n"
     ]
    }
   ],
   "source": [
    "from sklearn.ensemble import StackingClassifier\n",
    "from sklearn.linear_model import LogisticRegression\n",
    "from sklearn.ensemble import RandomForestClassifier\n",
    "\n",
    "base_models = [\n",
    "    ('lr', LogisticRegression(max_iter=1000)),\n",
    "    ('rf', RandomForestClassifier(n_estimators=100))\n",
    "]\n",
    "\n",
    "stacked_model = StackingClassifier(\n",
    "    estimators=base_models,\n",
    "    final_estimator=LogisticRegression(),  # 也可以用 SVM 等\n",
    "    cv=5\n",
    ")\n",
    "\n",
    "\n",
    "stacked_model.fit(X_train, y_train)\n",
    "stacked_auc = roc_auc_score(y_test, stacked_model.predict_proba(X_test)[:, 1])\n",
    "print(f\" Stacking AUC: {stacked_auc:.3f}\")"
   ]
  },
  {
   "cell_type": "markdown",
   "id": "eb8cd092",
   "metadata": {},
   "source": [
    "50058's cyto node hub gene"
   ]
  },
  {
   "cell_type": "code",
   "execution_count": 30,
   "id": "d545fa8c",
   "metadata": {},
   "outputs": [],
   "source": [
    "hub_genes = [\"CXCL11\", \"B2M\", \"LCP2\", \"CCL4\",  \"FCGR3B\"]"
   ]
  },
  {
   "cell_type": "code",
   "execution_count": null,
   "id": "3505668f",
   "metadata": {},
   "outputs": [
    {
     "name": "stdout",
     "output_type": "stream",
     "text": [
      "Logistic Regression Coefficients:\n",
      "     Gene  Coefficient\n",
      "0  CXCL11     0.506663\n",
      "4  FCGR3B     0.329018\n",
      "3    CCL4     0.236427\n",
      "2    LCP2     0.179367\n",
      "1     B2M    -0.129054\n"
     ]
    },
    {
     "data": {
      "image/png": "[encoded data removed]",
      "text/plain": [
       "<Figure size 800x500 with 1 Axes>"
      ]
     },
     "metadata": {},
     "output_type": "display_data"
    },
    {
     "name": "stdout",
     "output_type": "stream",
     "text": [
      "\n",
      "AUC - Logistic: 0.940\n",
      "AUC - Random Forest: 0.936\n"
     ]
    }
   ],
   "source": [
    "X = expression_df[hub_genes]\n",
    "\n",
    "y = expression_df[\"Rejection Status\"].map({\"Rejection\": 1, \"Non Rejection\": 0})\n",
    "\n",
    "from sklearn.model_selection import train_test_split\n",
    "\n",
    "X_train, X_test, y_train, y_test = train_test_split(\n",
    "    X, y, test_size=0.3, random_state=42, stratify=y\n",
    ")\n",
    "\n",
    "from sklearn.linear_model import LogisticRegression\n",
    "from sklearn.ensemble import RandomForestClassifier\n",
    "from sklearn.metrics import roc_auc_score, classification_report\n",
    "import matplotlib.pyplot as plt\n",
    "import seaborn as sns\n",
    "\n",
    "lr = LogisticRegression(max_iter=1000)\n",
    "lr.fit(X_train, y_train)\n",
    "lr_auc = roc_auc_score(y_test, lr.predict_proba(X_test)[:, 1])\n",
    "\n",
    "coef_df = pd.DataFrame({\n",
    "    \"Gene\": X.columns,\n",
    "    \"Coefficient\": lr.coef_[0]\n",
    "}).sort_values(by=\"Coefficient\", key=abs, ascending=False)\n",
    "print(\"Logistic Regression Coefficients:\")\n",
    "print(coef_df)\n",
    "\n",
    "rf = RandomForestClassifier(n_estimators=100, random_state=42)\n",
    "rf.fit(X_train, y_train)\n",
    "rf_auc = roc_auc_score(y_test, rf.predict_proba(X_test)[:, 1])\n",
    "\n",
    "importances_df = pd.DataFrame({\n",
    "    \"Gene\": X.columns,\n",
    "    \"Importance\": rf.feature_importances_\n",
    "}).sort_values(by=\"Importance\", ascending=False)\n",
    "\n",
    "plt.figure(figsize=(8, 5))\n",
    "sns.barplot(data=importances_df, x=\"Importance\", y=\"Gene\")\n",
    "plt.title(\"Random Forest Feature Importance\")\n",
    "plt.tight_layout()\n",
    "plt.show()\n",
    "\n",
    "print(f\"\\nAUC - Logistic: {lr_auc:.3f}\")\n",
    "print(f\"AUC - Random Forest: {rf_auc:.3f}\")"
   ]
  },
  {
   "cell_type": "code",
   "execution_count": null,
   "id": "bde0db76",
   "metadata": {},
   "outputs": [
    {
     "name": "stdout",
     "output_type": "stream",
     "text": [
      " Stacking AUC: 0.932\n"
     ]
    }
   ],
   "source": [
    "#### STACKING MODEL\n",
    "from sklearn.ensemble import StackingClassifier\n",
    "from sklearn.linear_model import LogisticRegression\n",
    "from sklearn.ensemble import RandomForestClassifier\n",
    "\n",
    "base_models = [\n",
    "    ('lr', LogisticRegression(max_iter=1000)),\n",
    "    ('rf', RandomForestClassifier(n_estimators=100))\n",
    "]\n",
    "\n",
    "stacked_model = StackingClassifier(\n",
    "    estimators=base_models,\n",
    "    final_estimator=LogisticRegression(), \n",
    "    cv=5\n",
    ")\n",
    "\n",
    "stacked_model.fit(X_train, y_train)\n",
    "stacked_auc = roc_auc_score(y_test, stacked_model.predict_proba(X_test)[:, 1])\n",
    "print(f\" Stacking AUC: {stacked_auc:.3f}\")"
   ]
  }
 ],
 "metadata": {
  "kernelspec": {
   "display_name": "Python 3",
   "language": "python",
   "name": "python3"
  },
  "language_info": {
   "codemirror_mode": {
    "name": "ipython",
    "version": 3
   },
   "file_extension": ".py",
   "mimetype": "text/x-python",
   "name": "python",
   "nbconvert_exporter": "python",
   "pygments_lexer": "ipython3",
   "version": "3.11.9"
  }
 },
 "nbformat": 4,
 "nbformat_minor": 5
}
